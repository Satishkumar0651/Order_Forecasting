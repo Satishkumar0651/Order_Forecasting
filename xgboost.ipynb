{
 "cells": [
  {
   "cell_type": "code",
   "execution_count": 284,
   "metadata": {},
   "outputs": [],
   "source": [
    "import pandas as pd\n",
    "import numpy as np\n",
    "import matplotlib.pyplot as plt\n",
    "import datetime\n",
    "import seaborn as sns"
   ]
  },
  {
   "cell_type": "code",
   "execution_count": 285,
   "metadata": {},
   "outputs": [],
   "source": [
    "df=pd.read_csv(\"data.csv\")"
   ]
  },
  {
   "cell_type": "code",
   "execution_count": 286,
   "metadata": {},
   "outputs": [
    {
     "data": {
      "text/html": [
       "<div>\n",
       "<style scoped>\n",
       "    .dataframe tbody tr th:only-of-type {\n",
       "        vertical-align: middle;\n",
       "    }\n",
       "\n",
       "    .dataframe tbody tr th {\n",
       "        vertical-align: top;\n",
       "    }\n",
       "\n",
       "    .dataframe thead th {\n",
       "        text-align: right;\n",
       "    }\n",
       "</style>\n",
       "<table border=\"1\" class=\"dataframe\">\n",
       "  <thead>\n",
       "    <tr style=\"text-align: right;\">\n",
       "      <th></th>\n",
       "      <th>InvoiceDate</th>\n",
       "      <th>InvoiceId</th>\n",
       "      <th>SalesUNit</th>\n",
       "      <th>Qty</th>\n",
       "      <th>NetWeight</th>\n",
       "      <th>CustomerName</th>\n",
       "      <th>LineAmount1</th>\n",
       "      <th>Freight</th>\n",
       "      <th>City</th>\n",
       "      <th>State</th>\n",
       "      <th>ItemName</th>\n",
       "      <th>ProductCategory</th>\n",
       "    </tr>\n",
       "  </thead>\n",
       "  <tbody>\n",
       "    <tr>\n",
       "      <th>0</th>\n",
       "      <td>02-06-2018</td>\n",
       "      <td>DD-1819/173</td>\n",
       "      <td>BKT</td>\n",
       "      <td>2.0</td>\n",
       "      <td>40.0</td>\n",
       "      <td>Customer 1</td>\n",
       "      <td>14768.40</td>\n",
       "      <td>0.00</td>\n",
       "      <td>JAMNAGAR</td>\n",
       "      <td>GJ</td>\n",
       "      <td>Item 1</td>\n",
       "      <td>Category 1</td>\n",
       "    </tr>\n",
       "    <tr>\n",
       "      <th>1</th>\n",
       "      <td>02-06-2018</td>\n",
       "      <td>DD-1819/167</td>\n",
       "      <td>BKT</td>\n",
       "      <td>150.0</td>\n",
       "      <td>3000.0</td>\n",
       "      <td>Customer 2</td>\n",
       "      <td>660000.00</td>\n",
       "      <td>0.00</td>\n",
       "      <td>HALDIA</td>\n",
       "      <td>WB</td>\n",
       "      <td>Item 1</td>\n",
       "      <td>Category 1</td>\n",
       "    </tr>\n",
       "    <tr>\n",
       "      <th>2</th>\n",
       "      <td>02-06-2018</td>\n",
       "      <td>SGE-1819/2172</td>\n",
       "      <td>SET</td>\n",
       "      <td>2.0</td>\n",
       "      <td>48.0</td>\n",
       "      <td>Customer 3</td>\n",
       "      <td>51041.28</td>\n",
       "      <td>106.41</td>\n",
       "      <td>RUDRAPUR</td>\n",
       "      <td>UT</td>\n",
       "      <td>Item 2</td>\n",
       "      <td>Category 2</td>\n",
       "    </tr>\n",
       "    <tr>\n",
       "      <th>3</th>\n",
       "      <td>04-06-2018</td>\n",
       "      <td>SGE-1819/2214</td>\n",
       "      <td>SET</td>\n",
       "      <td>7.0</td>\n",
       "      <td>168.0</td>\n",
       "      <td>Customer 4</td>\n",
       "      <td>191618.33</td>\n",
       "      <td>426.74</td>\n",
       "      <td>JAIPUR</td>\n",
       "      <td>RJ</td>\n",
       "      <td>Item 3</td>\n",
       "      <td>Category 2</td>\n",
       "    </tr>\n",
       "  </tbody>\n",
       "</table>\n",
       "</div>"
      ],
      "text/plain": [
       "  InvoiceDate      InvoiceId SalesUNit    Qty  NetWeight CustomerName  \\\n",
       "0  02-06-2018    DD-1819/173       BKT    2.0       40.0   Customer 1   \n",
       "1  02-06-2018    DD-1819/167       BKT  150.0     3000.0   Customer 2   \n",
       "2  02-06-2018  SGE-1819/2172       SET    2.0       48.0   Customer 3   \n",
       "3  04-06-2018  SGE-1819/2214       SET    7.0      168.0   Customer 4   \n",
       "\n",
       "   LineAmount1  Freight      City State ItemName ProductCategory  \n",
       "0     14768.40     0.00  JAMNAGAR    GJ   Item 1      Category 1  \n",
       "1    660000.00     0.00    HALDIA    WB   Item 1      Category 1  \n",
       "2     51041.28   106.41  RUDRAPUR    UT   Item 2      Category 2  \n",
       "3    191618.33   426.74    JAIPUR    RJ   Item 3      Category 2  "
      ]
     },
     "execution_count": 286,
     "metadata": {},
     "output_type": "execute_result"
    }
   ],
   "source": [
    "df.head(4)"
   ]
  },
  {
   "cell_type": "code",
   "execution_count": 287,
   "metadata": {},
   "outputs": [
    {
     "name": "stdout",
     "output_type": "stream",
     "text": [
      "<class 'pandas.core.frame.DataFrame'>\n",
      "RangeIndex: 1667 entries, 0 to 1666\n",
      "Data columns (total 12 columns):\n",
      " #   Column           Non-Null Count  Dtype  \n",
      "---  ------           --------------  -----  \n",
      " 0   InvoiceDate      1667 non-null   object \n",
      " 1   InvoiceId        1667 non-null   object \n",
      " 2   SalesUNit        1667 non-null   object \n",
      " 3   Qty              1667 non-null   float64\n",
      " 4   NetWeight        1667 non-null   float64\n",
      " 5   CustomerName     1667 non-null   object \n",
      " 6   LineAmount1      1667 non-null   float64\n",
      " 7   Freight          1667 non-null   float64\n",
      " 8   City             1667 non-null   object \n",
      " 9   State            1667 non-null   object \n",
      " 10  ItemName         1667 non-null   object \n",
      " 11  ProductCategory  1667 non-null   object \n",
      "dtypes: float64(4), object(8)\n",
      "memory usage: 156.4+ KB\n"
     ]
    }
   ],
   "source": [
    "df.info()"
   ]
  },
  {
   "cell_type": "code",
   "execution_count": 288,
   "metadata": {},
   "outputs": [
    {
     "data": {
      "text/html": [
       "<div>\n",
       "<style scoped>\n",
       "    .dataframe tbody tr th:only-of-type {\n",
       "        vertical-align: middle;\n",
       "    }\n",
       "\n",
       "    .dataframe tbody tr th {\n",
       "        vertical-align: top;\n",
       "    }\n",
       "\n",
       "    .dataframe thead th {\n",
       "        text-align: right;\n",
       "    }\n",
       "</style>\n",
       "<table border=\"1\" class=\"dataframe\">\n",
       "  <thead>\n",
       "    <tr style=\"text-align: right;\">\n",
       "      <th></th>\n",
       "      <th>Qty</th>\n",
       "      <th>NetWeight</th>\n",
       "      <th>LineAmount1</th>\n",
       "      <th>Freight</th>\n",
       "    </tr>\n",
       "  </thead>\n",
       "  <tbody>\n",
       "    <tr>\n",
       "      <th>count</th>\n",
       "      <td>1667.000000</td>\n",
       "      <td>1667.000000</td>\n",
       "      <td>1.667000e+03</td>\n",
       "      <td>1667.000000</td>\n",
       "    </tr>\n",
       "    <tr>\n",
       "      <th>mean</th>\n",
       "      <td>122.269886</td>\n",
       "      <td>345.556119</td>\n",
       "      <td>1.314137e+05</td>\n",
       "      <td>426.948998</td>\n",
       "    </tr>\n",
       "    <tr>\n",
       "      <th>std</th>\n",
       "      <td>280.783337</td>\n",
       "      <td>896.764666</td>\n",
       "      <td>2.059210e+05</td>\n",
       "      <td>1054.507315</td>\n",
       "    </tr>\n",
       "    <tr>\n",
       "      <th>min</th>\n",
       "      <td>-225.000000</td>\n",
       "      <td>-3640.000000</td>\n",
       "      <td>-9.784125e+05</td>\n",
       "      <td>0.000000</td>\n",
       "    </tr>\n",
       "    <tr>\n",
       "      <th>25%</th>\n",
       "      <td>6.000000</td>\n",
       "      <td>24.000000</td>\n",
       "      <td>1.303044e+04</td>\n",
       "      <td>7.760000</td>\n",
       "    </tr>\n",
       "    <tr>\n",
       "      <th>50%</th>\n",
       "      <td>20.000000</td>\n",
       "      <td>120.000000</td>\n",
       "      <td>6.557242e+04</td>\n",
       "      <td>135.070000</td>\n",
       "    </tr>\n",
       "    <tr>\n",
       "      <th>75%</th>\n",
       "      <td>70.000000</td>\n",
       "      <td>360.000000</td>\n",
       "      <td>1.675400e+05</td>\n",
       "      <td>438.450000</td>\n",
       "    </tr>\n",
       "    <tr>\n",
       "      <th>max</th>\n",
       "      <td>4032.000000</td>\n",
       "      <td>15192.000000</td>\n",
       "      <td>1.899000e+06</td>\n",
       "      <td>20364.130000</td>\n",
       "    </tr>\n",
       "  </tbody>\n",
       "</table>\n",
       "</div>"
      ],
      "text/plain": [
       "               Qty     NetWeight   LineAmount1       Freight\n",
       "count  1667.000000   1667.000000  1.667000e+03   1667.000000\n",
       "mean    122.269886    345.556119  1.314137e+05    426.948998\n",
       "std     280.783337    896.764666  2.059210e+05   1054.507315\n",
       "min    -225.000000  -3640.000000 -9.784125e+05      0.000000\n",
       "25%       6.000000     24.000000  1.303044e+04      7.760000\n",
       "50%      20.000000    120.000000  6.557242e+04    135.070000\n",
       "75%      70.000000    360.000000  1.675400e+05    438.450000\n",
       "max    4032.000000  15192.000000  1.899000e+06  20364.130000"
      ]
     },
     "execution_count": 288,
     "metadata": {},
     "output_type": "execute_result"
    }
   ],
   "source": [
    "df.describe()"
   ]
  },
  {
   "cell_type": "code",
   "execution_count": 289,
   "metadata": {},
   "outputs": [
    {
     "data": {
      "text/plain": [
       "InvoiceDate        0.0\n",
       "InvoiceId          0.0\n",
       "SalesUNit          0.0\n",
       "Qty                0.0\n",
       "NetWeight          0.0\n",
       "CustomerName       0.0\n",
       "LineAmount1        0.0\n",
       "Freight            0.0\n",
       "City               0.0\n",
       "State              0.0\n",
       "ItemName           0.0\n",
       "ProductCategory    0.0\n",
       "dtype: float64"
      ]
     },
     "execution_count": 289,
     "metadata": {},
     "output_type": "execute_result"
    }
   ],
   "source": [
    "missing_percentage = df.isnull().sum() / df.shape[0] * 100\n",
    "missing_percentage"
   ]
  },
  {
   "cell_type": "code",
   "execution_count": 290,
   "metadata": {},
   "outputs": [
    {
     "data": {
      "text/html": [
       "<div>\n",
       "<style scoped>\n",
       "    .dataframe tbody tr th:only-of-type {\n",
       "        vertical-align: middle;\n",
       "    }\n",
       "\n",
       "    .dataframe tbody tr th {\n",
       "        vertical-align: top;\n",
       "    }\n",
       "\n",
       "    .dataframe thead th {\n",
       "        text-align: right;\n",
       "    }\n",
       "</style>\n",
       "<table border=\"1\" class=\"dataframe\">\n",
       "  <thead>\n",
       "    <tr style=\"text-align: right;\">\n",
       "      <th></th>\n",
       "      <th>InvoiceDate</th>\n",
       "      <th>InvoiceId</th>\n",
       "      <th>SalesUNit</th>\n",
       "      <th>Qty</th>\n",
       "      <th>NetWeight</th>\n",
       "      <th>CustomerName</th>\n",
       "      <th>LineAmount1</th>\n",
       "      <th>Freight</th>\n",
       "      <th>City</th>\n",
       "      <th>State</th>\n",
       "      <th>ItemName</th>\n",
       "      <th>ProductCategory</th>\n",
       "    </tr>\n",
       "  </thead>\n",
       "  <tbody>\n",
       "    <tr>\n",
       "      <th>232</th>\n",
       "      <td>23-08-2018</td>\n",
       "      <td>ST/MR-HO/18/000006</td>\n",
       "      <td>CAN</td>\n",
       "      <td>-225.0</td>\n",
       "      <td>-93.38</td>\n",
       "      <td>Customer 1</td>\n",
       "      <td>-37937.25</td>\n",
       "      <td>0.00</td>\n",
       "      <td>JAMNAGAR</td>\n",
       "      <td>GJ</td>\n",
       "      <td>Item 5</td>\n",
       "      <td>Category 3</td>\n",
       "    </tr>\n",
       "    <tr>\n",
       "      <th>260</th>\n",
       "      <td>28-08-2018</td>\n",
       "      <td>ST/MR-552/18/000011</td>\n",
       "      <td>BKT</td>\n",
       "      <td>-182.0</td>\n",
       "      <td>-3640.00</td>\n",
       "      <td>Customer 108</td>\n",
       "      <td>-548730.00</td>\n",
       "      <td>0.00</td>\n",
       "      <td>BELLARY</td>\n",
       "      <td>KA</td>\n",
       "      <td>Item 1</td>\n",
       "      <td>Category 1</td>\n",
       "    </tr>\n",
       "    <tr>\n",
       "      <th>542</th>\n",
       "      <td>29-11-2018</td>\n",
       "      <td>ST/MR-552/18/000019</td>\n",
       "      <td>BKT</td>\n",
       "      <td>-15.0</td>\n",
       "      <td>-300.00</td>\n",
       "      <td>Customer 92</td>\n",
       "      <td>-182217.00</td>\n",
       "      <td>189.51</td>\n",
       "      <td>LUCKNOW</td>\n",
       "      <td>UP</td>\n",
       "      <td>Item 1</td>\n",
       "      <td>Category 1</td>\n",
       "    </tr>\n",
       "    <tr>\n",
       "      <th>642</th>\n",
       "      <td>12-01-2019</td>\n",
       "      <td>ST/MR-552/18/000032</td>\n",
       "      <td>BKT</td>\n",
       "      <td>-100.0</td>\n",
       "      <td>-2000.00</td>\n",
       "      <td>Customer 70</td>\n",
       "      <td>-942400.00</td>\n",
       "      <td>3180.10</td>\n",
       "      <td>JAMSHEDPUR</td>\n",
       "      <td>JH</td>\n",
       "      <td>Item 1</td>\n",
       "      <td>Category 1</td>\n",
       "    </tr>\n",
       "    <tr>\n",
       "      <th>872</th>\n",
       "      <td>31-03-2019</td>\n",
       "      <td>ST/MR-552/18/000042</td>\n",
       "      <td>SET</td>\n",
       "      <td>-42.0</td>\n",
       "      <td>-1008.00</td>\n",
       "      <td>Customer 102</td>\n",
       "      <td>-978412.48</td>\n",
       "      <td>2347.64</td>\n",
       "      <td>KOLKATA</td>\n",
       "      <td>WB</td>\n",
       "      <td>Item 2</td>\n",
       "      <td>Category 2</td>\n",
       "    </tr>\n",
       "    <tr>\n",
       "      <th>967</th>\n",
       "      <td>30-04-2019</td>\n",
       "      <td>ST/MR-552/18/000047</td>\n",
       "      <td>BKT</td>\n",
       "      <td>-132.0</td>\n",
       "      <td>-2640.00</td>\n",
       "      <td>Customer 54</td>\n",
       "      <td>-449856.00</td>\n",
       "      <td>9136.10</td>\n",
       "      <td>Chandrapur</td>\n",
       "      <td>MH</td>\n",
       "      <td>Item 1</td>\n",
       "      <td>Category 1</td>\n",
       "    </tr>\n",
       "    <tr>\n",
       "      <th>1001</th>\n",
       "      <td>17-05-2019</td>\n",
       "      <td>ST/MR-HO/18/000017</td>\n",
       "      <td>BKT</td>\n",
       "      <td>-50.0</td>\n",
       "      <td>-1000.00</td>\n",
       "      <td>Customer 178</td>\n",
       "      <td>-240000.00</td>\n",
       "      <td>0.00</td>\n",
       "      <td>MUMBAI</td>\n",
       "      <td>MH</td>\n",
       "      <td>Item 1</td>\n",
       "      <td>Category 1</td>\n",
       "    </tr>\n",
       "    <tr>\n",
       "      <th>1002</th>\n",
       "      <td>17-05-2019</td>\n",
       "      <td>ST/MR-HO/18/000018</td>\n",
       "      <td>BKT</td>\n",
       "      <td>-75.0</td>\n",
       "      <td>-1500.00</td>\n",
       "      <td>Customer 178</td>\n",
       "      <td>-360000.00</td>\n",
       "      <td>0.00</td>\n",
       "      <td>MUMBAI</td>\n",
       "      <td>MH</td>\n",
       "      <td>Item 1</td>\n",
       "      <td>Category 1</td>\n",
       "    </tr>\n",
       "    <tr>\n",
       "      <th>1253</th>\n",
       "      <td>31-07-2019</td>\n",
       "      <td>ST/MR-552/18/000095</td>\n",
       "      <td>BKT</td>\n",
       "      <td>-125.0</td>\n",
       "      <td>-2500.00</td>\n",
       "      <td>Customer 108</td>\n",
       "      <td>-351500.00</td>\n",
       "      <td>0.00</td>\n",
       "      <td>BELLARY</td>\n",
       "      <td>KA</td>\n",
       "      <td>Item 1</td>\n",
       "      <td>Category 1</td>\n",
       "    </tr>\n",
       "    <tr>\n",
       "      <th>1367</th>\n",
       "      <td>19-09-2019</td>\n",
       "      <td>ST/MR-552/18/000110</td>\n",
       "      <td>SET</td>\n",
       "      <td>-5.0</td>\n",
       "      <td>-120.00</td>\n",
       "      <td>Customer 90</td>\n",
       "      <td>-131640.77</td>\n",
       "      <td>281.62</td>\n",
       "      <td>MUMBAI</td>\n",
       "      <td>MH</td>\n",
       "      <td>Item 2</td>\n",
       "      <td>Category 2</td>\n",
       "    </tr>\n",
       "    <tr>\n",
       "      <th>1412</th>\n",
       "      <td>30-09-2019</td>\n",
       "      <td>ST/MR-552/18/000127</td>\n",
       "      <td>BKT</td>\n",
       "      <td>-35.0</td>\n",
       "      <td>-700.00</td>\n",
       "      <td>Customer 58</td>\n",
       "      <td>-138600.00</td>\n",
       "      <td>2331.29</td>\n",
       "      <td>TRICHY</td>\n",
       "      <td>TN</td>\n",
       "      <td>Item 1</td>\n",
       "      <td>Category 1</td>\n",
       "    </tr>\n",
       "  </tbody>\n",
       "</table>\n",
       "</div>"
      ],
      "text/plain": [
       "     InvoiceDate            InvoiceId SalesUNit    Qty  NetWeight  \\\n",
       "232   23-08-2018   ST/MR-HO/18/000006       CAN -225.0     -93.38   \n",
       "260   28-08-2018  ST/MR-552/18/000011       BKT -182.0   -3640.00   \n",
       "542   29-11-2018  ST/MR-552/18/000019       BKT  -15.0    -300.00   \n",
       "642   12-01-2019  ST/MR-552/18/000032       BKT -100.0   -2000.00   \n",
       "872   31-03-2019  ST/MR-552/18/000042       SET  -42.0   -1008.00   \n",
       "967   30-04-2019  ST/MR-552/18/000047       BKT -132.0   -2640.00   \n",
       "1001  17-05-2019   ST/MR-HO/18/000017       BKT  -50.0   -1000.00   \n",
       "1002  17-05-2019   ST/MR-HO/18/000018       BKT  -75.0   -1500.00   \n",
       "1253  31-07-2019  ST/MR-552/18/000095       BKT -125.0   -2500.00   \n",
       "1367  19-09-2019  ST/MR-552/18/000110       SET   -5.0    -120.00   \n",
       "1412  30-09-2019  ST/MR-552/18/000127       BKT  -35.0    -700.00   \n",
       "\n",
       "      CustomerName  LineAmount1  Freight        City State ItemName  \\\n",
       "232     Customer 1    -37937.25     0.00    JAMNAGAR    GJ   Item 5   \n",
       "260   Customer 108   -548730.00     0.00     BELLARY    KA   Item 1   \n",
       "542    Customer 92   -182217.00   189.51     LUCKNOW    UP   Item 1   \n",
       "642    Customer 70   -942400.00  3180.10  JAMSHEDPUR    JH   Item 1   \n",
       "872   Customer 102   -978412.48  2347.64     KOLKATA    WB   Item 2   \n",
       "967    Customer 54   -449856.00  9136.10  Chandrapur    MH   Item 1   \n",
       "1001  Customer 178   -240000.00     0.00      MUMBAI    MH   Item 1   \n",
       "1002  Customer 178   -360000.00     0.00      MUMBAI    MH   Item 1   \n",
       "1253  Customer 108   -351500.00     0.00     BELLARY    KA   Item 1   \n",
       "1367   Customer 90   -131640.77   281.62      MUMBAI    MH   Item 2   \n",
       "1412   Customer 58   -138600.00  2331.29      TRICHY    TN   Item 1   \n",
       "\n",
       "     ProductCategory  \n",
       "232       Category 3  \n",
       "260       Category 1  \n",
       "542       Category 1  \n",
       "642       Category 1  \n",
       "872       Category 2  \n",
       "967       Category 1  \n",
       "1001      Category 1  \n",
       "1002      Category 1  \n",
       "1253      Category 1  \n",
       "1367      Category 2  \n",
       "1412      Category 1  "
      ]
     },
     "execution_count": 290,
     "metadata": {},
     "output_type": "execute_result"
    }
   ],
   "source": [
    "df[df.LineAmount1<0]"
   ]
  },
  {
   "cell_type": "code",
   "execution_count": 291,
   "metadata": {},
   "outputs": [
    {
     "data": {
      "text/html": [
       "<div>\n",
       "<style scoped>\n",
       "    .dataframe tbody tr th:only-of-type {\n",
       "        vertical-align: middle;\n",
       "    }\n",
       "\n",
       "    .dataframe tbody tr th {\n",
       "        vertical-align: top;\n",
       "    }\n",
       "\n",
       "    .dataframe thead th {\n",
       "        text-align: right;\n",
       "    }\n",
       "</style>\n",
       "<table border=\"1\" class=\"dataframe\">\n",
       "  <thead>\n",
       "    <tr style=\"text-align: right;\">\n",
       "      <th></th>\n",
       "      <th>InvoiceDate</th>\n",
       "      <th>InvoiceId</th>\n",
       "      <th>SalesUNit</th>\n",
       "      <th>Qty</th>\n",
       "      <th>NetWeight</th>\n",
       "      <th>CustomerName</th>\n",
       "      <th>LineAmount1</th>\n",
       "      <th>Freight</th>\n",
       "      <th>City</th>\n",
       "      <th>State</th>\n",
       "      <th>ItemName</th>\n",
       "      <th>ProductCategory</th>\n",
       "    </tr>\n",
       "  </thead>\n",
       "  <tbody>\n",
       "    <tr>\n",
       "      <th>232</th>\n",
       "      <td>23-08-2018</td>\n",
       "      <td>ST/MR-HO/18/000006</td>\n",
       "      <td>CAN</td>\n",
       "      <td>-225.0</td>\n",
       "      <td>-93.38</td>\n",
       "      <td>Customer 1</td>\n",
       "      <td>-37937.25</td>\n",
       "      <td>0.0</td>\n",
       "      <td>JAMNAGAR</td>\n",
       "      <td>GJ</td>\n",
       "      <td>Item 5</td>\n",
       "      <td>Category 3</td>\n",
       "    </tr>\n",
       "  </tbody>\n",
       "</table>\n",
       "</div>"
      ],
      "text/plain": [
       "    InvoiceDate           InvoiceId SalesUNit    Qty  NetWeight CustomerName  \\\n",
       "232  23-08-2018  ST/MR-HO/18/000006       CAN -225.0     -93.38   Customer 1   \n",
       "\n",
       "     LineAmount1  Freight      City State ItemName ProductCategory  \n",
       "232    -37937.25      0.0  JAMNAGAR    GJ   Item 5      Category 3  "
      ]
     },
     "execution_count": 291,
     "metadata": {},
     "output_type": "execute_result"
    }
   ],
   "source": [
    "df[df.InvoiceId==\"ST/MR-HO/18/000006\"]"
   ]
  },
  {
   "cell_type": "code",
   "execution_count": 292,
   "metadata": {},
   "outputs": [
    {
     "data": {
      "text/plain": [
       "InvoiceDate         28-08-2018\n",
       "InvoiceId          DD-1819/380\n",
       "SalesUNit                  CAN\n",
       "Qty                       10.0\n",
       "NetWeight                 4.15\n",
       "CustomerName       Customer 26\n",
       "LineAmount1             1568.1\n",
       "Freight                    0.0\n",
       "City                  JAMNAGAR\n",
       "State                       GJ\n",
       "ItemName                Item 5\n",
       "ProductCategory     Category 3\n",
       "Name: 258, dtype: object"
      ]
     },
     "execution_count": 292,
     "metadata": {},
     "output_type": "execute_result"
    }
   ],
   "source": [
    "df.iloc[258]"
   ]
  },
  {
   "cell_type": "code",
   "execution_count": 293,
   "metadata": {},
   "outputs": [
    {
     "data": {
      "text/plain": [
       "InvoiceDate          28-08-2018\n",
       "InvoiceId           DD-1819/379\n",
       "SalesUNit                   CAN\n",
       "Qty                        36.0\n",
       "NetWeight                 14.94\n",
       "CustomerName       Customer 107\n",
       "LineAmount1             5645.16\n",
       "Freight                     0.0\n",
       "City                 HOSHIARPUR\n",
       "State                        PB\n",
       "ItemName                 Item 5\n",
       "ProductCategory      Category 3\n",
       "Name: 257, dtype: object"
      ]
     },
     "execution_count": 293,
     "metadata": {},
     "output_type": "execute_result"
    }
   ],
   "source": [
    "df.iloc[257]"
   ]
  },
  {
   "cell_type": "code",
   "execution_count": 294,
   "metadata": {},
   "outputs": [
    {
     "data": {
      "text/plain": [
       "InvoiceDate           28-08-2018\n",
       "InvoiceId          SGE-1819/5349\n",
       "SalesUNit                    KIT\n",
       "Qty                         35.0\n",
       "NetWeight                  630.0\n",
       "CustomerName         Customer 92\n",
       "LineAmount1            178798.73\n",
       "Freight                  1785.95\n",
       "City                     LUCKNOW\n",
       "State                         UP\n",
       "ItemName                  Item 4\n",
       "ProductCategory       Category 2\n",
       "Name: 259, dtype: object"
      ]
     },
     "execution_count": 294,
     "metadata": {},
     "output_type": "execute_result"
    }
   ],
   "source": [
    "df.iloc[259]"
   ]
  },
  {
   "cell_type": "code",
   "execution_count": 295,
   "metadata": {},
   "outputs": [
    {
     "name": "stdout",
     "output_type": "stream",
     "text": [
      "<class 'pandas.core.frame.DataFrame'>\n",
      "RangeIndex: 1667 entries, 0 to 1666\n",
      "Data columns (total 12 columns):\n",
      " #   Column           Non-Null Count  Dtype  \n",
      "---  ------           --------------  -----  \n",
      " 0   InvoiceDate      1667 non-null   object \n",
      " 1   InvoiceId        1667 non-null   object \n",
      " 2   SalesUNit        1667 non-null   object \n",
      " 3   Qty              1667 non-null   float64\n",
      " 4   NetWeight        1667 non-null   float64\n",
      " 5   CustomerName     1667 non-null   object \n",
      " 6   LineAmount1      1667 non-null   float64\n",
      " 7   Freight          1667 non-null   float64\n",
      " 8   City             1667 non-null   object \n",
      " 9   State            1667 non-null   object \n",
      " 10  ItemName         1667 non-null   object \n",
      " 11  ProductCategory  1667 non-null   object \n",
      "dtypes: float64(4), object(8)\n",
      "memory usage: 156.4+ KB\n"
     ]
    }
   ],
   "source": [
    "df.info()"
   ]
  },
  {
   "cell_type": "code",
   "execution_count": 296,
   "metadata": {},
   "outputs": [
    {
     "data": {
      "text/html": [
       "<div>\n",
       "<style scoped>\n",
       "    .dataframe tbody tr th:only-of-type {\n",
       "        vertical-align: middle;\n",
       "    }\n",
       "\n",
       "    .dataframe tbody tr th {\n",
       "        vertical-align: top;\n",
       "    }\n",
       "\n",
       "    .dataframe thead th {\n",
       "        text-align: right;\n",
       "    }\n",
       "</style>\n",
       "<table border=\"1\" class=\"dataframe\">\n",
       "  <thead>\n",
       "    <tr style=\"text-align: right;\">\n",
       "      <th></th>\n",
       "      <th>InvoiceDate</th>\n",
       "      <th>InvoiceId</th>\n",
       "      <th>SalesUNit</th>\n",
       "      <th>Qty</th>\n",
       "      <th>NetWeight</th>\n",
       "      <th>CustomerName</th>\n",
       "      <th>LineAmount1</th>\n",
       "      <th>Freight</th>\n",
       "      <th>City</th>\n",
       "      <th>State</th>\n",
       "      <th>ItemName</th>\n",
       "      <th>ProductCategory</th>\n",
       "    </tr>\n",
       "  </thead>\n",
       "  <tbody>\n",
       "    <tr>\n",
       "      <th>233</th>\n",
       "      <td>23-08-2018</td>\n",
       "      <td>DD-1819/362</td>\n",
       "      <td>CAN</td>\n",
       "      <td>225.0</td>\n",
       "      <td>93.38</td>\n",
       "      <td>Customer 1</td>\n",
       "      <td>37937.25</td>\n",
       "      <td>0.0</td>\n",
       "      <td>JAMNAGAR</td>\n",
       "      <td>GJ</td>\n",
       "      <td>Item 5</td>\n",
       "      <td>Category 3</td>\n",
       "    </tr>\n",
       "  </tbody>\n",
       "</table>\n",
       "</div>"
      ],
      "text/plain": [
       "    InvoiceDate    InvoiceId SalesUNit    Qty  NetWeight CustomerName  \\\n",
       "233  23-08-2018  DD-1819/362       CAN  225.0      93.38   Customer 1   \n",
       "\n",
       "     LineAmount1  Freight      City State ItemName ProductCategory  \n",
       "233     37937.25      0.0  JAMNAGAR    GJ   Item 5      Category 3  "
      ]
     },
     "execution_count": 296,
     "metadata": {},
     "output_type": "execute_result"
    }
   ],
   "source": [
    "df[(df.SalesUNit==\"CAN\") & (df.Qty==225) & (df.NetWeight==93.38) & (df.LineAmount1==37937.25)]"
   ]
  },
  {
   "cell_type": "code",
   "execution_count": 297,
   "metadata": {},
   "outputs": [
    {
     "data": {
      "text/html": [
       "<div>\n",
       "<style scoped>\n",
       "    .dataframe tbody tr th:only-of-type {\n",
       "        vertical-align: middle;\n",
       "    }\n",
       "\n",
       "    .dataframe tbody tr th {\n",
       "        vertical-align: top;\n",
       "    }\n",
       "\n",
       "    .dataframe thead th {\n",
       "        text-align: right;\n",
       "    }\n",
       "</style>\n",
       "<table border=\"1\" class=\"dataframe\">\n",
       "  <thead>\n",
       "    <tr style=\"text-align: right;\">\n",
       "      <th></th>\n",
       "      <th>InvoiceDate</th>\n",
       "      <th>InvoiceId</th>\n",
       "      <th>SalesUNit</th>\n",
       "      <th>Qty</th>\n",
       "      <th>NetWeight</th>\n",
       "      <th>CustomerName</th>\n",
       "      <th>LineAmount1</th>\n",
       "      <th>Freight</th>\n",
       "      <th>City</th>\n",
       "      <th>State</th>\n",
       "      <th>ItemName</th>\n",
       "      <th>ProductCategory</th>\n",
       "    </tr>\n",
       "  </thead>\n",
       "  <tbody>\n",
       "    <tr>\n",
       "      <th>232</th>\n",
       "      <td>23-08-2018</td>\n",
       "      <td>ST/MR-HO/18/000006</td>\n",
       "      <td>CAN</td>\n",
       "      <td>-225.0</td>\n",
       "      <td>-93.38</td>\n",
       "      <td>Customer 1</td>\n",
       "      <td>-37937.25</td>\n",
       "      <td>0.0</td>\n",
       "      <td>JAMNAGAR</td>\n",
       "      <td>GJ</td>\n",
       "      <td>Item 5</td>\n",
       "      <td>Category 3</td>\n",
       "    </tr>\n",
       "  </tbody>\n",
       "</table>\n",
       "</div>"
      ],
      "text/plain": [
       "    InvoiceDate           InvoiceId SalesUNit    Qty  NetWeight CustomerName  \\\n",
       "232  23-08-2018  ST/MR-HO/18/000006       CAN -225.0     -93.38   Customer 1   \n",
       "\n",
       "     LineAmount1  Freight      City State ItemName ProductCategory  \n",
       "232    -37937.25      0.0  JAMNAGAR    GJ   Item 5      Category 3  "
      ]
     },
     "execution_count": 297,
     "metadata": {},
     "output_type": "execute_result"
    }
   ],
   "source": [
    "df[(df.SalesUNit==\"CAN\") & (df.Qty==-225) & (df.NetWeight==-93.38) & (df.LineAmount1==-37937.25)]"
   ]
  },
  {
   "cell_type": "code",
   "execution_count": 298,
   "metadata": {},
   "outputs": [
    {
     "data": {
      "text/html": [
       "<div>\n",
       "<style scoped>\n",
       "    .dataframe tbody tr th:only-of-type {\n",
       "        vertical-align: middle;\n",
       "    }\n",
       "\n",
       "    .dataframe tbody tr th {\n",
       "        vertical-align: top;\n",
       "    }\n",
       "\n",
       "    .dataframe thead th {\n",
       "        text-align: right;\n",
       "    }\n",
       "</style>\n",
       "<table border=\"1\" class=\"dataframe\">\n",
       "  <thead>\n",
       "    <tr style=\"text-align: right;\">\n",
       "      <th></th>\n",
       "      <th>InvoiceDate</th>\n",
       "      <th>InvoiceId</th>\n",
       "      <th>SalesUNit</th>\n",
       "      <th>Qty</th>\n",
       "      <th>NetWeight</th>\n",
       "      <th>CustomerName</th>\n",
       "      <th>LineAmount1</th>\n",
       "      <th>Freight</th>\n",
       "      <th>City</th>\n",
       "      <th>State</th>\n",
       "      <th>ItemName</th>\n",
       "      <th>ProductCategory</th>\n",
       "    </tr>\n",
       "  </thead>\n",
       "  <tbody>\n",
       "  </tbody>\n",
       "</table>\n",
       "</div>"
      ],
      "text/plain": [
       "Empty DataFrame\n",
       "Columns: [InvoiceDate, InvoiceId, SalesUNit, Qty, NetWeight, CustomerName, LineAmount1, Freight, City, State, ItemName, ProductCategory]\n",
       "Index: []"
      ]
     },
     "execution_count": 298,
     "metadata": {},
     "output_type": "execute_result"
    }
   ],
   "source": [
    "df[(df.SalesUNit==\"BKT\") & (df.Qty==182) & (df.NetWeight==3640.00)  & (df.LineAmount1==548730.00) ]"
   ]
  },
  {
   "cell_type": "code",
   "execution_count": 299,
   "metadata": {},
   "outputs": [
    {
     "data": {
      "text/html": [
       "<div>\n",
       "<style scoped>\n",
       "    .dataframe tbody tr th:only-of-type {\n",
       "        vertical-align: middle;\n",
       "    }\n",
       "\n",
       "    .dataframe tbody tr th {\n",
       "        vertical-align: top;\n",
       "    }\n",
       "\n",
       "    .dataframe thead th {\n",
       "        text-align: right;\n",
       "    }\n",
       "</style>\n",
       "<table border=\"1\" class=\"dataframe\">\n",
       "  <thead>\n",
       "    <tr style=\"text-align: right;\">\n",
       "      <th></th>\n",
       "      <th>InvoiceDate</th>\n",
       "      <th>InvoiceId</th>\n",
       "      <th>SalesUNit</th>\n",
       "      <th>Qty</th>\n",
       "      <th>NetWeight</th>\n",
       "      <th>CustomerName</th>\n",
       "      <th>LineAmount1</th>\n",
       "      <th>Freight</th>\n",
       "      <th>City</th>\n",
       "      <th>State</th>\n",
       "      <th>ItemName</th>\n",
       "      <th>ProductCategory</th>\n",
       "    </tr>\n",
       "  </thead>\n",
       "  <tbody>\n",
       "    <tr>\n",
       "      <th>260</th>\n",
       "      <td>28-08-2018</td>\n",
       "      <td>ST/MR-552/18/000011</td>\n",
       "      <td>BKT</td>\n",
       "      <td>-182.0</td>\n",
       "      <td>-3640.0</td>\n",
       "      <td>Customer 108</td>\n",
       "      <td>-548730.0</td>\n",
       "      <td>0.0</td>\n",
       "      <td>BELLARY</td>\n",
       "      <td>KA</td>\n",
       "      <td>Item 1</td>\n",
       "      <td>Category 1</td>\n",
       "    </tr>\n",
       "  </tbody>\n",
       "</table>\n",
       "</div>"
      ],
      "text/plain": [
       "    InvoiceDate            InvoiceId SalesUNit    Qty  NetWeight  \\\n",
       "260  28-08-2018  ST/MR-552/18/000011       BKT -182.0    -3640.0   \n",
       "\n",
       "     CustomerName  LineAmount1  Freight     City State ItemName  \\\n",
       "260  Customer 108    -548730.0      0.0  BELLARY    KA   Item 1   \n",
       "\n",
       "    ProductCategory  \n",
       "260      Category 1  "
      ]
     },
     "execution_count": 299,
     "metadata": {},
     "output_type": "execute_result"
    }
   ],
   "source": [
    "df[(df.SalesUNit==\"BKT\") & (df.Qty==-182) & (df.NetWeight==-3640.00)  & (df.LineAmount1==-548730.00) ]"
   ]
  },
  {
   "cell_type": "code",
   "execution_count": 300,
   "metadata": {},
   "outputs": [
    {
     "data": {
      "text/html": [
       "<div>\n",
       "<style scoped>\n",
       "    .dataframe tbody tr th:only-of-type {\n",
       "        vertical-align: middle;\n",
       "    }\n",
       "\n",
       "    .dataframe tbody tr th {\n",
       "        vertical-align: top;\n",
       "    }\n",
       "\n",
       "    .dataframe thead th {\n",
       "        text-align: right;\n",
       "    }\n",
       "</style>\n",
       "<table border=\"1\" class=\"dataframe\">\n",
       "  <thead>\n",
       "    <tr style=\"text-align: right;\">\n",
       "      <th></th>\n",
       "      <th>InvoiceDate</th>\n",
       "      <th>InvoiceId</th>\n",
       "      <th>SalesUNit</th>\n",
       "      <th>Qty</th>\n",
       "      <th>NetWeight</th>\n",
       "      <th>CustomerName</th>\n",
       "      <th>LineAmount1</th>\n",
       "      <th>Freight</th>\n",
       "      <th>City</th>\n",
       "      <th>State</th>\n",
       "      <th>ItemName</th>\n",
       "      <th>ProductCategory</th>\n",
       "    </tr>\n",
       "  </thead>\n",
       "  <tbody>\n",
       "    <tr>\n",
       "      <th>455</th>\n",
       "      <td>30-10-2018</td>\n",
       "      <td>SGE-1819/7499</td>\n",
       "      <td>BKT</td>\n",
       "      <td>15.0</td>\n",
       "      <td>300.0</td>\n",
       "      <td>Customer 92</td>\n",
       "      <td>182217.0</td>\n",
       "      <td>189.51</td>\n",
       "      <td>LUCKNOW</td>\n",
       "      <td>UP</td>\n",
       "      <td>Item 1</td>\n",
       "      <td>Category 1</td>\n",
       "    </tr>\n",
       "  </tbody>\n",
       "</table>\n",
       "</div>"
      ],
      "text/plain": [
       "    InvoiceDate      InvoiceId SalesUNit   Qty  NetWeight CustomerName  \\\n",
       "455  30-10-2018  SGE-1819/7499       BKT  15.0      300.0  Customer 92   \n",
       "\n",
       "     LineAmount1  Freight     City State ItemName ProductCategory  \n",
       "455     182217.0   189.51  LUCKNOW    UP   Item 1      Category 1  "
      ]
     },
     "execution_count": 300,
     "metadata": {},
     "output_type": "execute_result"
    }
   ],
   "source": [
    "df[(df.SalesUNit==\"BKT\") & (df.Qty==15) & (df.NetWeight==300) & (df.LineAmount1==182217.00) ]"
   ]
  },
  {
   "cell_type": "code",
   "execution_count": 301,
   "metadata": {},
   "outputs": [
    {
     "data": {
      "text/html": [
       "<div>\n",
       "<style scoped>\n",
       "    .dataframe tbody tr th:only-of-type {\n",
       "        vertical-align: middle;\n",
       "    }\n",
       "\n",
       "    .dataframe tbody tr th {\n",
       "        vertical-align: top;\n",
       "    }\n",
       "\n",
       "    .dataframe thead th {\n",
       "        text-align: right;\n",
       "    }\n",
       "</style>\n",
       "<table border=\"1\" class=\"dataframe\">\n",
       "  <thead>\n",
       "    <tr style=\"text-align: right;\">\n",
       "      <th></th>\n",
       "      <th>InvoiceDate</th>\n",
       "      <th>InvoiceId</th>\n",
       "      <th>SalesUNit</th>\n",
       "      <th>Qty</th>\n",
       "      <th>NetWeight</th>\n",
       "      <th>CustomerName</th>\n",
       "      <th>LineAmount1</th>\n",
       "      <th>Freight</th>\n",
       "      <th>City</th>\n",
       "      <th>State</th>\n",
       "      <th>ItemName</th>\n",
       "      <th>ProductCategory</th>\n",
       "    </tr>\n",
       "  </thead>\n",
       "  <tbody>\n",
       "    <tr>\n",
       "      <th>542</th>\n",
       "      <td>29-11-2018</td>\n",
       "      <td>ST/MR-552/18/000019</td>\n",
       "      <td>BKT</td>\n",
       "      <td>-15.0</td>\n",
       "      <td>-300.0</td>\n",
       "      <td>Customer 92</td>\n",
       "      <td>-182217.0</td>\n",
       "      <td>189.51</td>\n",
       "      <td>LUCKNOW</td>\n",
       "      <td>UP</td>\n",
       "      <td>Item 1</td>\n",
       "      <td>Category 1</td>\n",
       "    </tr>\n",
       "  </tbody>\n",
       "</table>\n",
       "</div>"
      ],
      "text/plain": [
       "    InvoiceDate            InvoiceId SalesUNit   Qty  NetWeight CustomerName  \\\n",
       "542  29-11-2018  ST/MR-552/18/000019       BKT -15.0     -300.0  Customer 92   \n",
       "\n",
       "     LineAmount1  Freight     City State ItemName ProductCategory  \n",
       "542    -182217.0   189.51  LUCKNOW    UP   Item 1      Category 1  "
      ]
     },
     "execution_count": 301,
     "metadata": {},
     "output_type": "execute_result"
    }
   ],
   "source": [
    "df[(df.SalesUNit==\"BKT\") & (df.Qty==-15) & (df.NetWeight==-300) & (df.LineAmount1==-182217.00) ]"
   ]
  },
  {
   "cell_type": "code",
   "execution_count": 302,
   "metadata": {},
   "outputs": [
    {
     "data": {
      "text/html": [
       "<div>\n",
       "<style scoped>\n",
       "    .dataframe tbody tr th:only-of-type {\n",
       "        vertical-align: middle;\n",
       "    }\n",
       "\n",
       "    .dataframe tbody tr th {\n",
       "        vertical-align: top;\n",
       "    }\n",
       "\n",
       "    .dataframe thead th {\n",
       "        text-align: right;\n",
       "    }\n",
       "</style>\n",
       "<table border=\"1\" class=\"dataframe\">\n",
       "  <thead>\n",
       "    <tr style=\"text-align: right;\">\n",
       "      <th></th>\n",
       "      <th>InvoiceDate</th>\n",
       "      <th>InvoiceId</th>\n",
       "      <th>SalesUNit</th>\n",
       "      <th>Qty</th>\n",
       "      <th>NetWeight</th>\n",
       "      <th>CustomerName</th>\n",
       "      <th>LineAmount1</th>\n",
       "      <th>Freight</th>\n",
       "      <th>City</th>\n",
       "      <th>State</th>\n",
       "      <th>ItemName</th>\n",
       "      <th>ProductCategory</th>\n",
       "    </tr>\n",
       "  </thead>\n",
       "  <tbody>\n",
       "    <tr>\n",
       "      <th>254</th>\n",
       "      <td>25-08-2018</td>\n",
       "      <td>SGE-1819/5291</td>\n",
       "      <td>BKT</td>\n",
       "      <td>100.0</td>\n",
       "      <td>2000.0</td>\n",
       "      <td>Customer 70</td>\n",
       "      <td>942400.0</td>\n",
       "      <td>3180.1</td>\n",
       "      <td>JAMSHEDPUR</td>\n",
       "      <td>JH</td>\n",
       "      <td>Item 1</td>\n",
       "      <td>Category 1</td>\n",
       "    </tr>\n",
       "  </tbody>\n",
       "</table>\n",
       "</div>"
      ],
      "text/plain": [
       "    InvoiceDate      InvoiceId SalesUNit    Qty  NetWeight CustomerName  \\\n",
       "254  25-08-2018  SGE-1819/5291       BKT  100.0     2000.0  Customer 70   \n",
       "\n",
       "     LineAmount1  Freight        City State ItemName ProductCategory  \n",
       "254     942400.0   3180.1  JAMSHEDPUR    JH   Item 1      Category 1  "
      ]
     },
     "execution_count": 302,
     "metadata": {},
     "output_type": "execute_result"
    }
   ],
   "source": [
    "df[(df.SalesUNit==\"BKT\") & (df.Qty==100) & (df.NetWeight==2000) & (df.LineAmount1==942400.00) ]"
   ]
  },
  {
   "cell_type": "code",
   "execution_count": 303,
   "metadata": {},
   "outputs": [
    {
     "data": {
      "text/html": [
       "<div>\n",
       "<style scoped>\n",
       "    .dataframe tbody tr th:only-of-type {\n",
       "        vertical-align: middle;\n",
       "    }\n",
       "\n",
       "    .dataframe tbody tr th {\n",
       "        vertical-align: top;\n",
       "    }\n",
       "\n",
       "    .dataframe thead th {\n",
       "        text-align: right;\n",
       "    }\n",
       "</style>\n",
       "<table border=\"1\" class=\"dataframe\">\n",
       "  <thead>\n",
       "    <tr style=\"text-align: right;\">\n",
       "      <th></th>\n",
       "      <th>InvoiceDate</th>\n",
       "      <th>InvoiceId</th>\n",
       "      <th>SalesUNit</th>\n",
       "      <th>Qty</th>\n",
       "      <th>NetWeight</th>\n",
       "      <th>CustomerName</th>\n",
       "      <th>LineAmount1</th>\n",
       "      <th>Freight</th>\n",
       "      <th>City</th>\n",
       "      <th>State</th>\n",
       "      <th>ItemName</th>\n",
       "      <th>ProductCategory</th>\n",
       "    </tr>\n",
       "  </thead>\n",
       "  <tbody>\n",
       "    <tr>\n",
       "      <th>642</th>\n",
       "      <td>12-01-2019</td>\n",
       "      <td>ST/MR-552/18/000032</td>\n",
       "      <td>BKT</td>\n",
       "      <td>-100.0</td>\n",
       "      <td>-2000.0</td>\n",
       "      <td>Customer 70</td>\n",
       "      <td>-942400.0</td>\n",
       "      <td>3180.1</td>\n",
       "      <td>JAMSHEDPUR</td>\n",
       "      <td>JH</td>\n",
       "      <td>Item 1</td>\n",
       "      <td>Category 1</td>\n",
       "    </tr>\n",
       "  </tbody>\n",
       "</table>\n",
       "</div>"
      ],
      "text/plain": [
       "    InvoiceDate            InvoiceId SalesUNit    Qty  NetWeight CustomerName  \\\n",
       "642  12-01-2019  ST/MR-552/18/000032       BKT -100.0    -2000.0  Customer 70   \n",
       "\n",
       "     LineAmount1  Freight        City State ItemName ProductCategory  \n",
       "642    -942400.0   3180.1  JAMSHEDPUR    JH   Item 1      Category 1  "
      ]
     },
     "execution_count": 303,
     "metadata": {},
     "output_type": "execute_result"
    }
   ],
   "source": [
    "df[(df.SalesUNit==\"BKT\") & (df.Qty==-100) & (df.NetWeight==-2000) & (df.LineAmount1==-942400.00) ]"
   ]
  },
  {
   "cell_type": "code",
   "execution_count": 304,
   "metadata": {},
   "outputs": [
    {
     "data": {
      "text/html": [
       "<div>\n",
       "<style scoped>\n",
       "    .dataframe tbody tr th:only-of-type {\n",
       "        vertical-align: middle;\n",
       "    }\n",
       "\n",
       "    .dataframe tbody tr th {\n",
       "        vertical-align: top;\n",
       "    }\n",
       "\n",
       "    .dataframe thead th {\n",
       "        text-align: right;\n",
       "    }\n",
       "</style>\n",
       "<table border=\"1\" class=\"dataframe\">\n",
       "  <thead>\n",
       "    <tr style=\"text-align: right;\">\n",
       "      <th></th>\n",
       "      <th>InvoiceDate</th>\n",
       "      <th>InvoiceId</th>\n",
       "      <th>SalesUNit</th>\n",
       "      <th>Qty</th>\n",
       "      <th>NetWeight</th>\n",
       "      <th>CustomerName</th>\n",
       "      <th>LineAmount1</th>\n",
       "      <th>Freight</th>\n",
       "      <th>City</th>\n",
       "      <th>State</th>\n",
       "      <th>ItemName</th>\n",
       "      <th>ProductCategory</th>\n",
       "    </tr>\n",
       "  </thead>\n",
       "  <tbody>\n",
       "    <tr>\n",
       "      <th>609</th>\n",
       "      <td>26-12-2018</td>\n",
       "      <td>SGE-1819/9090</td>\n",
       "      <td>SET</td>\n",
       "      <td>42.0</td>\n",
       "      <td>1008.0</td>\n",
       "      <td>Customer 102</td>\n",
       "      <td>978412.48</td>\n",
       "      <td>2347.63</td>\n",
       "      <td>KOLKATA</td>\n",
       "      <td>WB</td>\n",
       "      <td>Item 2</td>\n",
       "      <td>Category 2</td>\n",
       "    </tr>\n",
       "  </tbody>\n",
       "</table>\n",
       "</div>"
      ],
      "text/plain": [
       "    InvoiceDate      InvoiceId SalesUNit   Qty  NetWeight  CustomerName  \\\n",
       "609  26-12-2018  SGE-1819/9090       SET  42.0     1008.0  Customer 102   \n",
       "\n",
       "     LineAmount1  Freight     City State ItemName ProductCategory  \n",
       "609    978412.48  2347.63  KOLKATA    WB   Item 2      Category 2  "
      ]
     },
     "execution_count": 304,
     "metadata": {},
     "output_type": "execute_result"
    }
   ],
   "source": [
    "df[(df.SalesUNit==\"SET\") & (df.Qty==42) & (df.NetWeight==1008) & (df.LineAmount1==978412.48) ]"
   ]
  },
  {
   "cell_type": "code",
   "execution_count": 305,
   "metadata": {},
   "outputs": [
    {
     "data": {
      "text/html": [
       "<div>\n",
       "<style scoped>\n",
       "    .dataframe tbody tr th:only-of-type {\n",
       "        vertical-align: middle;\n",
       "    }\n",
       "\n",
       "    .dataframe tbody tr th {\n",
       "        vertical-align: top;\n",
       "    }\n",
       "\n",
       "    .dataframe thead th {\n",
       "        text-align: right;\n",
       "    }\n",
       "</style>\n",
       "<table border=\"1\" class=\"dataframe\">\n",
       "  <thead>\n",
       "    <tr style=\"text-align: right;\">\n",
       "      <th></th>\n",
       "      <th>InvoiceDate</th>\n",
       "      <th>InvoiceId</th>\n",
       "      <th>SalesUNit</th>\n",
       "      <th>Qty</th>\n",
       "      <th>NetWeight</th>\n",
       "      <th>CustomerName</th>\n",
       "      <th>LineAmount1</th>\n",
       "      <th>Freight</th>\n",
       "      <th>City</th>\n",
       "      <th>State</th>\n",
       "      <th>ItemName</th>\n",
       "      <th>ProductCategory</th>\n",
       "    </tr>\n",
       "  </thead>\n",
       "  <tbody>\n",
       "    <tr>\n",
       "      <th>872</th>\n",
       "      <td>31-03-2019</td>\n",
       "      <td>ST/MR-552/18/000042</td>\n",
       "      <td>SET</td>\n",
       "      <td>-42.0</td>\n",
       "      <td>-1008.0</td>\n",
       "      <td>Customer 102</td>\n",
       "      <td>-978412.48</td>\n",
       "      <td>2347.64</td>\n",
       "      <td>KOLKATA</td>\n",
       "      <td>WB</td>\n",
       "      <td>Item 2</td>\n",
       "      <td>Category 2</td>\n",
       "    </tr>\n",
       "  </tbody>\n",
       "</table>\n",
       "</div>"
      ],
      "text/plain": [
       "    InvoiceDate            InvoiceId SalesUNit   Qty  NetWeight  CustomerName  \\\n",
       "872  31-03-2019  ST/MR-552/18/000042       SET -42.0    -1008.0  Customer 102   \n",
       "\n",
       "     LineAmount1  Freight     City State ItemName ProductCategory  \n",
       "872   -978412.48  2347.64  KOLKATA    WB   Item 2      Category 2  "
      ]
     },
     "execution_count": 305,
     "metadata": {},
     "output_type": "execute_result"
    }
   ],
   "source": [
    "df[(df.SalesUNit==\"SET\") & (df.Qty==-42) & (df.NetWeight==-1008) & (df.LineAmount1==-978412.48) ]"
   ]
  },
  {
   "attachments": {},
   "cell_type": "markdown",
   "metadata": {},
   "source": [
    "## Data Cleaning\n",
    "getting rid of cancelled or invalid data"
   ]
  },
  {
   "cell_type": "code",
   "execution_count": 306,
   "metadata": {},
   "outputs": [],
   "source": [
    "cancelled_df=df[df.LineAmount1<0]"
   ]
  },
  {
   "cell_type": "code",
   "execution_count": 307,
   "metadata": {},
   "outputs": [
    {
     "data": {
      "text/html": [
       "<div>\n",
       "<style scoped>\n",
       "    .dataframe tbody tr th:only-of-type {\n",
       "        vertical-align: middle;\n",
       "    }\n",
       "\n",
       "    .dataframe tbody tr th {\n",
       "        vertical-align: top;\n",
       "    }\n",
       "\n",
       "    .dataframe thead th {\n",
       "        text-align: right;\n",
       "    }\n",
       "</style>\n",
       "<table border=\"1\" class=\"dataframe\">\n",
       "  <thead>\n",
       "    <tr style=\"text-align: right;\">\n",
       "      <th></th>\n",
       "      <th>InvoiceDate</th>\n",
       "      <th>InvoiceId</th>\n",
       "      <th>SalesUNit</th>\n",
       "      <th>Qty</th>\n",
       "      <th>NetWeight</th>\n",
       "      <th>CustomerName</th>\n",
       "      <th>LineAmount1</th>\n",
       "      <th>Freight</th>\n",
       "      <th>City</th>\n",
       "      <th>State</th>\n",
       "      <th>ItemName</th>\n",
       "      <th>ProductCategory</th>\n",
       "    </tr>\n",
       "  </thead>\n",
       "  <tbody>\n",
       "    <tr>\n",
       "      <th>232</th>\n",
       "      <td>23-08-2018</td>\n",
       "      <td>ST/MR-HO/18/000006</td>\n",
       "      <td>CAN</td>\n",
       "      <td>-225.0</td>\n",
       "      <td>-93.38</td>\n",
       "      <td>Customer 1</td>\n",
       "      <td>-37937.25</td>\n",
       "      <td>0.00</td>\n",
       "      <td>JAMNAGAR</td>\n",
       "      <td>GJ</td>\n",
       "      <td>Item 5</td>\n",
       "      <td>Category 3</td>\n",
       "    </tr>\n",
       "    <tr>\n",
       "      <th>260</th>\n",
       "      <td>28-08-2018</td>\n",
       "      <td>ST/MR-552/18/000011</td>\n",
       "      <td>BKT</td>\n",
       "      <td>-182.0</td>\n",
       "      <td>-3640.00</td>\n",
       "      <td>Customer 108</td>\n",
       "      <td>-548730.00</td>\n",
       "      <td>0.00</td>\n",
       "      <td>BELLARY</td>\n",
       "      <td>KA</td>\n",
       "      <td>Item 1</td>\n",
       "      <td>Category 1</td>\n",
       "    </tr>\n",
       "    <tr>\n",
       "      <th>542</th>\n",
       "      <td>29-11-2018</td>\n",
       "      <td>ST/MR-552/18/000019</td>\n",
       "      <td>BKT</td>\n",
       "      <td>-15.0</td>\n",
       "      <td>-300.00</td>\n",
       "      <td>Customer 92</td>\n",
       "      <td>-182217.00</td>\n",
       "      <td>189.51</td>\n",
       "      <td>LUCKNOW</td>\n",
       "      <td>UP</td>\n",
       "      <td>Item 1</td>\n",
       "      <td>Category 1</td>\n",
       "    </tr>\n",
       "    <tr>\n",
       "      <th>642</th>\n",
       "      <td>12-01-2019</td>\n",
       "      <td>ST/MR-552/18/000032</td>\n",
       "      <td>BKT</td>\n",
       "      <td>-100.0</td>\n",
       "      <td>-2000.00</td>\n",
       "      <td>Customer 70</td>\n",
       "      <td>-942400.00</td>\n",
       "      <td>3180.10</td>\n",
       "      <td>JAMSHEDPUR</td>\n",
       "      <td>JH</td>\n",
       "      <td>Item 1</td>\n",
       "      <td>Category 1</td>\n",
       "    </tr>\n",
       "    <tr>\n",
       "      <th>872</th>\n",
       "      <td>31-03-2019</td>\n",
       "      <td>ST/MR-552/18/000042</td>\n",
       "      <td>SET</td>\n",
       "      <td>-42.0</td>\n",
       "      <td>-1008.00</td>\n",
       "      <td>Customer 102</td>\n",
       "      <td>-978412.48</td>\n",
       "      <td>2347.64</td>\n",
       "      <td>KOLKATA</td>\n",
       "      <td>WB</td>\n",
       "      <td>Item 2</td>\n",
       "      <td>Category 2</td>\n",
       "    </tr>\n",
       "    <tr>\n",
       "      <th>967</th>\n",
       "      <td>30-04-2019</td>\n",
       "      <td>ST/MR-552/18/000047</td>\n",
       "      <td>BKT</td>\n",
       "      <td>-132.0</td>\n",
       "      <td>-2640.00</td>\n",
       "      <td>Customer 54</td>\n",
       "      <td>-449856.00</td>\n",
       "      <td>9136.10</td>\n",
       "      <td>Chandrapur</td>\n",
       "      <td>MH</td>\n",
       "      <td>Item 1</td>\n",
       "      <td>Category 1</td>\n",
       "    </tr>\n",
       "    <tr>\n",
       "      <th>1001</th>\n",
       "      <td>17-05-2019</td>\n",
       "      <td>ST/MR-HO/18/000017</td>\n",
       "      <td>BKT</td>\n",
       "      <td>-50.0</td>\n",
       "      <td>-1000.00</td>\n",
       "      <td>Customer 178</td>\n",
       "      <td>-240000.00</td>\n",
       "      <td>0.00</td>\n",
       "      <td>MUMBAI</td>\n",
       "      <td>MH</td>\n",
       "      <td>Item 1</td>\n",
       "      <td>Category 1</td>\n",
       "    </tr>\n",
       "    <tr>\n",
       "      <th>1002</th>\n",
       "      <td>17-05-2019</td>\n",
       "      <td>ST/MR-HO/18/000018</td>\n",
       "      <td>BKT</td>\n",
       "      <td>-75.0</td>\n",
       "      <td>-1500.00</td>\n",
       "      <td>Customer 178</td>\n",
       "      <td>-360000.00</td>\n",
       "      <td>0.00</td>\n",
       "      <td>MUMBAI</td>\n",
       "      <td>MH</td>\n",
       "      <td>Item 1</td>\n",
       "      <td>Category 1</td>\n",
       "    </tr>\n",
       "    <tr>\n",
       "      <th>1253</th>\n",
       "      <td>31-07-2019</td>\n",
       "      <td>ST/MR-552/18/000095</td>\n",
       "      <td>BKT</td>\n",
       "      <td>-125.0</td>\n",
       "      <td>-2500.00</td>\n",
       "      <td>Customer 108</td>\n",
       "      <td>-351500.00</td>\n",
       "      <td>0.00</td>\n",
       "      <td>BELLARY</td>\n",
       "      <td>KA</td>\n",
       "      <td>Item 1</td>\n",
       "      <td>Category 1</td>\n",
       "    </tr>\n",
       "    <tr>\n",
       "      <th>1367</th>\n",
       "      <td>19-09-2019</td>\n",
       "      <td>ST/MR-552/18/000110</td>\n",
       "      <td>SET</td>\n",
       "      <td>-5.0</td>\n",
       "      <td>-120.00</td>\n",
       "      <td>Customer 90</td>\n",
       "      <td>-131640.77</td>\n",
       "      <td>281.62</td>\n",
       "      <td>MUMBAI</td>\n",
       "      <td>MH</td>\n",
       "      <td>Item 2</td>\n",
       "      <td>Category 2</td>\n",
       "    </tr>\n",
       "    <tr>\n",
       "      <th>1412</th>\n",
       "      <td>30-09-2019</td>\n",
       "      <td>ST/MR-552/18/000127</td>\n",
       "      <td>BKT</td>\n",
       "      <td>-35.0</td>\n",
       "      <td>-700.00</td>\n",
       "      <td>Customer 58</td>\n",
       "      <td>-138600.00</td>\n",
       "      <td>2331.29</td>\n",
       "      <td>TRICHY</td>\n",
       "      <td>TN</td>\n",
       "      <td>Item 1</td>\n",
       "      <td>Category 1</td>\n",
       "    </tr>\n",
       "  </tbody>\n",
       "</table>\n",
       "</div>"
      ],
      "text/plain": [
       "     InvoiceDate            InvoiceId SalesUNit    Qty  NetWeight  \\\n",
       "232   23-08-2018   ST/MR-HO/18/000006       CAN -225.0     -93.38   \n",
       "260   28-08-2018  ST/MR-552/18/000011       BKT -182.0   -3640.00   \n",
       "542   29-11-2018  ST/MR-552/18/000019       BKT  -15.0    -300.00   \n",
       "642   12-01-2019  ST/MR-552/18/000032       BKT -100.0   -2000.00   \n",
       "872   31-03-2019  ST/MR-552/18/000042       SET  -42.0   -1008.00   \n",
       "967   30-04-2019  ST/MR-552/18/000047       BKT -132.0   -2640.00   \n",
       "1001  17-05-2019   ST/MR-HO/18/000017       BKT  -50.0   -1000.00   \n",
       "1002  17-05-2019   ST/MR-HO/18/000018       BKT  -75.0   -1500.00   \n",
       "1253  31-07-2019  ST/MR-552/18/000095       BKT -125.0   -2500.00   \n",
       "1367  19-09-2019  ST/MR-552/18/000110       SET   -5.0    -120.00   \n",
       "1412  30-09-2019  ST/MR-552/18/000127       BKT  -35.0    -700.00   \n",
       "\n",
       "      CustomerName  LineAmount1  Freight        City State ItemName  \\\n",
       "232     Customer 1    -37937.25     0.00    JAMNAGAR    GJ   Item 5   \n",
       "260   Customer 108   -548730.00     0.00     BELLARY    KA   Item 1   \n",
       "542    Customer 92   -182217.00   189.51     LUCKNOW    UP   Item 1   \n",
       "642    Customer 70   -942400.00  3180.10  JAMSHEDPUR    JH   Item 1   \n",
       "872   Customer 102   -978412.48  2347.64     KOLKATA    WB   Item 2   \n",
       "967    Customer 54   -449856.00  9136.10  Chandrapur    MH   Item 1   \n",
       "1001  Customer 178   -240000.00     0.00      MUMBAI    MH   Item 1   \n",
       "1002  Customer 178   -360000.00     0.00      MUMBAI    MH   Item 1   \n",
       "1253  Customer 108   -351500.00     0.00     BELLARY    KA   Item 1   \n",
       "1367   Customer 90   -131640.77   281.62      MUMBAI    MH   Item 2   \n",
       "1412   Customer 58   -138600.00  2331.29      TRICHY    TN   Item 1   \n",
       "\n",
       "     ProductCategory  \n",
       "232       Category 3  \n",
       "260       Category 1  \n",
       "542       Category 1  \n",
       "642       Category 1  \n",
       "872       Category 2  \n",
       "967       Category 1  \n",
       "1001      Category 1  \n",
       "1002      Category 1  \n",
       "1253      Category 1  \n",
       "1367      Category 2  \n",
       "1412      Category 1  "
      ]
     },
     "execution_count": 307,
     "metadata": {},
     "output_type": "execute_result"
    }
   ],
   "source": [
    "cancelled_df"
   ]
  },
  {
   "cell_type": "code",
   "execution_count": 308,
   "metadata": {},
   "outputs": [
    {
     "data": {
      "text/plain": [
       "(1667, 12)"
      ]
     },
     "execution_count": 308,
     "metadata": {},
     "output_type": "execute_result"
    }
   ],
   "source": [
    "df.shape"
   ]
  },
  {
   "cell_type": "code",
   "execution_count": 309,
   "metadata": {},
   "outputs": [],
   "source": [
    "for index,row in cancelled_df.iterrows():\n",
    "    if len(df[(df.SalesUNit==row[\"SalesUNit\"]) & (df.Qty==-row[\"Qty\"]) & (df.NetWeight==-row[\"NetWeight\"]) & (df.LineAmount1==-row[\"LineAmount1\"]) ])>0:\n",
    "        df.drop(df[(df.SalesUNit==row[\"SalesUNit\"]) & (df.Qty==-row[\"Qty\"]) & (df.NetWeight==-row[\"NetWeight\"]) & (df.LineAmount1==-row[\"LineAmount1\"]) ].index,inplace=True)\n",
    "        df.drop(df[(df.SalesUNit==row[\"SalesUNit\"]) & (df.Qty==row[\"Qty\"]) & (df.NetWeight==row[\"NetWeight\"]) & (df.LineAmount1==row[\"LineAmount1\"]) ].index,inplace=True)\n"
   ]
  },
  {
   "cell_type": "code",
   "execution_count": 310,
   "metadata": {},
   "outputs": [
    {
     "data": {
      "text/plain": [
       "(1640, 12)"
      ]
     },
     "execution_count": 310,
     "metadata": {},
     "output_type": "execute_result"
    }
   ],
   "source": [
    "df.shape"
   ]
  },
  {
   "cell_type": "code",
   "execution_count": 311,
   "metadata": {},
   "outputs": [
    {
     "data": {
      "text/html": [
       "<div>\n",
       "<style scoped>\n",
       "    .dataframe tbody tr th:only-of-type {\n",
       "        vertical-align: middle;\n",
       "    }\n",
       "\n",
       "    .dataframe tbody tr th {\n",
       "        vertical-align: top;\n",
       "    }\n",
       "\n",
       "    .dataframe thead th {\n",
       "        text-align: right;\n",
       "    }\n",
       "</style>\n",
       "<table border=\"1\" class=\"dataframe\">\n",
       "  <thead>\n",
       "    <tr style=\"text-align: right;\">\n",
       "      <th></th>\n",
       "      <th>InvoiceDate</th>\n",
       "      <th>InvoiceId</th>\n",
       "      <th>SalesUNit</th>\n",
       "      <th>Qty</th>\n",
       "      <th>NetWeight</th>\n",
       "      <th>CustomerName</th>\n",
       "      <th>LineAmount1</th>\n",
       "      <th>Freight</th>\n",
       "      <th>City</th>\n",
       "      <th>State</th>\n",
       "      <th>ItemName</th>\n",
       "      <th>ProductCategory</th>\n",
       "    </tr>\n",
       "  </thead>\n",
       "  <tbody>\n",
       "    <tr>\n",
       "      <th>260</th>\n",
       "      <td>28-08-2018</td>\n",
       "      <td>ST/MR-552/18/000011</td>\n",
       "      <td>BKT</td>\n",
       "      <td>-182.0</td>\n",
       "      <td>-3640.0</td>\n",
       "      <td>Customer 108</td>\n",
       "      <td>-548730.0</td>\n",
       "      <td>0.0</td>\n",
       "      <td>BELLARY</td>\n",
       "      <td>KA</td>\n",
       "      <td>Item 1</td>\n",
       "      <td>Category 1</td>\n",
       "    </tr>\n",
       "  </tbody>\n",
       "</table>\n",
       "</div>"
      ],
      "text/plain": [
       "    InvoiceDate            InvoiceId SalesUNit    Qty  NetWeight  \\\n",
       "260  28-08-2018  ST/MR-552/18/000011       BKT -182.0    -3640.0   \n",
       "\n",
       "     CustomerName  LineAmount1  Freight     City State ItemName  \\\n",
       "260  Customer 108    -548730.0      0.0  BELLARY    KA   Item 1   \n",
       "\n",
       "    ProductCategory  \n",
       "260      Category 1  "
      ]
     },
     "execution_count": 311,
     "metadata": {},
     "output_type": "execute_result"
    }
   ],
   "source": [
    "df[df.LineAmount1<0]"
   ]
  },
  {
   "cell_type": "code",
   "execution_count": 312,
   "metadata": {},
   "outputs": [],
   "source": [
    "df.drop([260],inplace=True)"
   ]
  },
  {
   "cell_type": "code",
   "execution_count": 313,
   "metadata": {},
   "outputs": [
    {
     "data": {
      "text/plain": [
       "(1639, 12)"
      ]
     },
     "execution_count": 313,
     "metadata": {},
     "output_type": "execute_result"
    }
   ],
   "source": [
    "df.shape"
   ]
  },
  {
   "cell_type": "code",
   "execution_count": 314,
   "metadata": {},
   "outputs": [],
   "source": [
    "df.reset_index(drop=True,inplace=True)"
   ]
  },
  {
   "cell_type": "code",
   "execution_count": 315,
   "metadata": {},
   "outputs": [
    {
     "name": "stdout",
     "output_type": "stream",
     "text": [
      "<class 'pandas.core.frame.DataFrame'>\n",
      "RangeIndex: 1639 entries, 0 to 1638\n",
      "Data columns (total 12 columns):\n",
      " #   Column           Non-Null Count  Dtype  \n",
      "---  ------           --------------  -----  \n",
      " 0   InvoiceDate      1639 non-null   object \n",
      " 1   InvoiceId        1639 non-null   object \n",
      " 2   SalesUNit        1639 non-null   object \n",
      " 3   Qty              1639 non-null   float64\n",
      " 4   NetWeight        1639 non-null   float64\n",
      " 5   CustomerName     1639 non-null   object \n",
      " 6   LineAmount1      1639 non-null   float64\n",
      " 7   Freight          1639 non-null   float64\n",
      " 8   City             1639 non-null   object \n",
      " 9   State            1639 non-null   object \n",
      " 10  ItemName         1639 non-null   object \n",
      " 11  ProductCategory  1639 non-null   object \n",
      "dtypes: float64(4), object(8)\n",
      "memory usage: 153.8+ KB\n"
     ]
    }
   ],
   "source": [
    "df.info()"
   ]
  },
  {
   "cell_type": "code",
   "execution_count": 316,
   "metadata": {},
   "outputs": [
    {
     "data": {
      "text/plain": [
       "CAN    682\n",
       "BKT    476\n",
       "SET    318\n",
       "KIT    156\n",
       "SQM      7\n",
       "Name: SalesUNit, dtype: int64"
      ]
     },
     "execution_count": 316,
     "metadata": {},
     "output_type": "execute_result"
    }
   ],
   "source": [
    "df[\"SalesUNit\"].value_counts()"
   ]
  },
  {
   "cell_type": "code",
   "execution_count": 317,
   "metadata": {},
   "outputs": [
    {
     "data": {
      "text/plain": [
       "30-11-2019    54\n",
       "31-12-2019    39\n",
       "31-05-2019    32\n",
       "30-09-2019    31\n",
       "31-10-2019    31\n",
       "              ..\n",
       "12-07-2019     1\n",
       "11-07-2019     1\n",
       "06-07-2019     1\n",
       "29-06-2019     1\n",
       "04-09-2018     1\n",
       "Name: InvoiceDate, Length: 373, dtype: int64"
      ]
     },
     "execution_count": 317,
     "metadata": {},
     "output_type": "execute_result"
    }
   ],
   "source": [
    "df[\"InvoiceDate\"].value_counts()"
   ]
  },
  {
   "cell_type": "code",
   "execution_count": 318,
   "metadata": {},
   "outputs": [
    {
     "data": {
      "text/plain": [
       "DD-1819/702        5\n",
       "DD-1819/565        5\n",
       "DD-1819/195        4\n",
       "DD-1819/685        4\n",
       "DD-1819/686        4\n",
       "                  ..\n",
       "SGE-1819/8536      1\n",
       "SGE-1819/8527      1\n",
       "SGE-1819/8478      1\n",
       "SGE-1819/8472      1\n",
       "SGE-1920/007997    1\n",
       "Name: InvoiceId, Length: 1508, dtype: int64"
      ]
     },
     "execution_count": 318,
     "metadata": {},
     "output_type": "execute_result"
    }
   ],
   "source": [
    "df[\"InvoiceId\"].value_counts()"
   ]
  },
  {
   "cell_type": "code",
   "execution_count": 319,
   "metadata": {},
   "outputs": [
    {
     "data": {
      "text/plain": [
       "1.0      103\n",
       "2.0       96\n",
       "12.0      93\n",
       "504.0     87\n",
       "10.0      80\n",
       "        ... \n",
       "121.0      1\n",
       "491.0      1\n",
       "82.0       1\n",
       "147.0      1\n",
       "160.0      1\n",
       "Name: Qty, Length: 182, dtype: int64"
      ]
     },
     "execution_count": 319,
     "metadata": {},
     "output_type": "execute_result"
    }
   ],
   "source": [
    "df[\"Qty\"].value_counts()"
   ]
  },
  {
   "cell_type": "code",
   "execution_count": 320,
   "metadata": {},
   "outputs": [
    {
     "data": {
      "text/plain": [
       "209.16     87\n",
       "4.98       68\n",
       "20.00      50\n",
       "48.00      48\n",
       "418.32     43\n",
       "           ..\n",
       "1160.00     1\n",
       "1120.00     1\n",
       "1320.00     1\n",
       "1280.00     1\n",
       "11.21       1\n",
       "Name: NetWeight, Length: 283, dtype: int64"
      ]
     },
     "execution_count": 320,
     "metadata": {},
     "output_type": "execute_result"
    }
   ],
   "source": [
    "df[\"NetWeight\"].value_counts()"
   ]
  },
  {
   "cell_type": "code",
   "execution_count": 321,
   "metadata": {},
   "outputs": [
    {
     "data": {
      "text/plain": [
       "Customer 4      77\n",
       "Customer 5      66\n",
       "Customer 46     54\n",
       "Customer 53     44\n",
       "Customer 17     34\n",
       "                ..\n",
       "Customer 111     1\n",
       "Customer 2       1\n",
       "Customer 152     1\n",
       "Customer 187     1\n",
       "Customer 218     1\n",
       "Name: CustomerName, Length: 217, dtype: int64"
      ]
     },
     "execution_count": 321,
     "metadata": {},
     "output_type": "execute_result"
    }
   ],
   "source": [
    "df[\"CustomerName\"].value_counts()"
   ]
  },
  {
   "cell_type": "code",
   "execution_count": 322,
   "metadata": {},
   "outputs": [
    {
     "data": {
      "text/plain": [
       "100800.00    42\n",
       "97776.00     35\n",
       "197568.00    19\n",
       "189504.00    15\n",
       "3489.31      14\n",
       "             ..\n",
       "12883.40      1\n",
       "179917.47     1\n",
       "22131.18      1\n",
       "25432.00      1\n",
       "3135.05       1\n",
       "Name: LineAmount1, Length: 1158, dtype: int64"
      ]
     },
     "execution_count": 322,
     "metadata": {},
     "output_type": "execute_result"
    }
   ],
   "source": [
    "df[\"LineAmount1\"].value_counts()"
   ]
  },
  {
   "cell_type": "code",
   "execution_count": 323,
   "metadata": {},
   "outputs": [
    {
     "data": {
      "text/plain": [
       "0.00       323\n",
       "353.69      13\n",
       "389.83      11\n",
       "71.64        8\n",
       "394.83       7\n",
       "          ... \n",
       "93.71        1\n",
       "2268.14      1\n",
       "193.98       1\n",
       "50.23        1\n",
       "1.56         1\n",
       "Name: Freight, Length: 1166, dtype: int64"
      ]
     },
     "execution_count": 323,
     "metadata": {},
     "output_type": "execute_result"
    }
   ],
   "source": [
    "df[\"Freight\"].value_counts()"
   ]
  },
  {
   "cell_type": "code",
   "execution_count": 324,
   "metadata": {},
   "outputs": [
    {
     "data": {
      "text/plain": [
       "AHMEDABAD      101\n",
       "BHARUCH         88\n",
       "JAIPUR          79\n",
       "GURGAON         78\n",
       "MUMBAI          60\n",
       "              ... \n",
       "HOSHIARPUR       1\n",
       "NAVI MUMBAI      1\n",
       "MIDNAPUR         1\n",
       "KHEDA            1\n",
       "OSMANABAD        1\n",
       "Name: City, Length: 132, dtype: int64"
      ]
     },
     "execution_count": 324,
     "metadata": {},
     "output_type": "execute_result"
    }
   ],
   "source": [
    "df[\"City\"].value_counts()"
   ]
  },
  {
   "cell_type": "code",
   "execution_count": 325,
   "metadata": {},
   "outputs": [
    {
     "data": {
      "text/plain": [
       "GJ    392\n",
       "MH    201\n",
       "RJ    121\n",
       "UP    102\n",
       "HR     92\n",
       "CT     88\n",
       "JH     86\n",
       "OR     78\n",
       "KA     69\n",
       "MP     69\n",
       "PB     59\n",
       "TS     41\n",
       "AP     41\n",
       "GA     40\n",
       "TN     38\n",
       "WB     29\n",
       "CH     21\n",
       "DL     20\n",
       "DN     14\n",
       "UT     13\n",
       "KL      7\n",
       "HP      6\n",
       "AS      5\n",
       "BH      4\n",
       "PY      2\n",
       "JK      1\n",
       "Name: State, dtype: int64"
      ]
     },
     "execution_count": 325,
     "metadata": {},
     "output_type": "execute_result"
    }
   ],
   "source": [
    "df[\"State\"].value_counts()"
   ]
  },
  {
   "cell_type": "code",
   "execution_count": 326,
   "metadata": {},
   "outputs": [
    {
     "data": {
      "text/plain": [
       "Item 5    682\n",
       "Item 1    476\n",
       "Item 2    228\n",
       "Item 4    163\n",
       "Item 3     90\n",
       "Name: ItemName, dtype: int64"
      ]
     },
     "execution_count": 326,
     "metadata": {},
     "output_type": "execute_result"
    }
   ],
   "source": [
    "df[\"ItemName\"].value_counts()"
   ]
  },
  {
   "cell_type": "code",
   "execution_count": 327,
   "metadata": {},
   "outputs": [
    {
     "data": {
      "text/plain": [
       "Category 3    682\n",
       "Category 1    483\n",
       "Category 2    474\n",
       "Name: ProductCategory, dtype: int64"
      ]
     },
     "execution_count": 327,
     "metadata": {},
     "output_type": "execute_result"
    }
   ],
   "source": [
    "df[\"ProductCategory\"].value_counts()"
   ]
  },
  {
   "cell_type": "code",
   "execution_count": 328,
   "metadata": {},
   "outputs": [
    {
     "data": {
      "text/html": [
       "<div>\n",
       "<style scoped>\n",
       "    .dataframe tbody tr th:only-of-type {\n",
       "        vertical-align: middle;\n",
       "    }\n",
       "\n",
       "    .dataframe tbody tr th {\n",
       "        vertical-align: top;\n",
       "    }\n",
       "\n",
       "    .dataframe thead th {\n",
       "        text-align: right;\n",
       "    }\n",
       "</style>\n",
       "<table border=\"1\" class=\"dataframe\">\n",
       "  <thead>\n",
       "    <tr style=\"text-align: right;\">\n",
       "      <th></th>\n",
       "      <th></th>\n",
       "      <th>Qty</th>\n",
       "    </tr>\n",
       "    <tr>\n",
       "      <th>ItemName</th>\n",
       "      <th>InvoiceDate</th>\n",
       "      <th></th>\n",
       "    </tr>\n",
       "  </thead>\n",
       "  <tbody>\n",
       "    <tr>\n",
       "      <th rowspan=\"5\" valign=\"top\">Item 1</th>\n",
       "      <th>01-11-2018</th>\n",
       "      <td>2.0</td>\n",
       "    </tr>\n",
       "    <tr>\n",
       "      <th>02-01-2019</th>\n",
       "      <td>5.0</td>\n",
       "    </tr>\n",
       "    <tr>\n",
       "      <th>02-06-2018</th>\n",
       "      <td>152.0</td>\n",
       "    </tr>\n",
       "    <tr>\n",
       "      <th>03-07-2018</th>\n",
       "      <td>2.0</td>\n",
       "    </tr>\n",
       "    <tr>\n",
       "      <th>03-12-2018</th>\n",
       "      <td>9.0</td>\n",
       "    </tr>\n",
       "    <tr>\n",
       "      <th>...</th>\n",
       "      <th>...</th>\n",
       "      <td>...</td>\n",
       "    </tr>\n",
       "    <tr>\n",
       "      <th rowspan=\"5\" valign=\"top\">Item 5</th>\n",
       "      <th>31-08-2019</th>\n",
       "      <td>3555.0</td>\n",
       "    </tr>\n",
       "    <tr>\n",
       "      <th>31-10-2018</th>\n",
       "      <td>10.0</td>\n",
       "    </tr>\n",
       "    <tr>\n",
       "      <th>31-10-2019</th>\n",
       "      <td>6581.0</td>\n",
       "    </tr>\n",
       "    <tr>\n",
       "      <th>31-12-2018</th>\n",
       "      <td>315.0</td>\n",
       "    </tr>\n",
       "    <tr>\n",
       "      <th>31-12-2019</th>\n",
       "      <td>2401.0</td>\n",
       "    </tr>\n",
       "  </tbody>\n",
       "</table>\n",
       "<p>809 rows × 1 columns</p>\n",
       "</div>"
      ],
      "text/plain": [
       "                         Qty\n",
       "ItemName InvoiceDate        \n",
       "Item 1   01-11-2018      2.0\n",
       "         02-01-2019      5.0\n",
       "         02-06-2018    152.0\n",
       "         03-07-2018      2.0\n",
       "         03-12-2018      9.0\n",
       "...                      ...\n",
       "Item 5   31-08-2019   3555.0\n",
       "         31-10-2018     10.0\n",
       "         31-10-2019   6581.0\n",
       "         31-12-2018    315.0\n",
       "         31-12-2019   2401.0\n",
       "\n",
       "[809 rows x 1 columns]"
      ]
     },
     "execution_count": 328,
     "metadata": {},
     "output_type": "execute_result"
    }
   ],
   "source": [
    "df.groupby([\"ItemName\",\"InvoiceDate\"]).agg({\"Qty\":\"sum\"})"
   ]
  },
  {
   "cell_type": "code",
   "execution_count": 329,
   "metadata": {},
   "outputs": [
    {
     "name": "stderr",
     "output_type": "stream",
     "text": [
      "/Users/satishkumarsahu/.pyenv/customer_segmentation/lib/python3.10/site-packages/pandas/core/tools/datetimes.py:1047: UserWarning: Parsing '13-06-2018' in DD/MM/YYYY format. Provide format or specify infer_datetime_format=True for consistent parsing.\n",
      "  cache_array = _maybe_cache(arg, format, cache, convert_listlike)\n",
      "/Users/satishkumarsahu/.pyenv/customer_segmentation/lib/python3.10/site-packages/pandas/core/tools/datetimes.py:1047: UserWarning: Parsing '14-06-2018' in DD/MM/YYYY format. Provide format or specify infer_datetime_format=True for consistent parsing.\n",
      "  cache_array = _maybe_cache(arg, format, cache, convert_listlike)\n",
      "/Users/satishkumarsahu/.pyenv/customer_segmentation/lib/python3.10/site-packages/pandas/core/tools/datetimes.py:1047: UserWarning: Parsing '15-06-2018' in DD/MM/YYYY format. Provide format or specify infer_datetime_format=True for consistent parsing.\n",
      "  cache_array = _maybe_cache(arg, format, cache, convert_listlike)\n",
      "/Users/satishkumarsahu/.pyenv/customer_segmentation/lib/python3.10/site-packages/pandas/core/tools/datetimes.py:1047: UserWarning: Parsing '16-06-2018' in DD/MM/YYYY format. Provide format or specify infer_datetime_format=True for consistent parsing.\n",
      "  cache_array = _maybe_cache(arg, format, cache, convert_listlike)\n",
      "/Users/satishkumarsahu/.pyenv/customer_segmentation/lib/python3.10/site-packages/pandas/core/tools/datetimes.py:1047: UserWarning: Parsing '18-06-2018' in DD/MM/YYYY format. Provide format or specify infer_datetime_format=True for consistent parsing.\n",
      "  cache_array = _maybe_cache(arg, format, cache, convert_listlike)\n",
      "/Users/satishkumarsahu/.pyenv/customer_segmentation/lib/python3.10/site-packages/pandas/core/tools/datetimes.py:1047: UserWarning: Parsing '19-06-2018' in DD/MM/YYYY format. Provide format or specify infer_datetime_format=True for consistent parsing.\n",
      "  cache_array = _maybe_cache(arg, format, cache, convert_listlike)\n",
      "/Users/satishkumarsahu/.pyenv/customer_segmentation/lib/python3.10/site-packages/pandas/core/tools/datetimes.py:1047: UserWarning: Parsing '20-06-2018' in DD/MM/YYYY format. Provide format or specify infer_datetime_format=True for consistent parsing.\n",
      "  cache_array = _maybe_cache(arg, format, cache, convert_listlike)\n",
      "/Users/satishkumarsahu/.pyenv/customer_segmentation/lib/python3.10/site-packages/pandas/core/tools/datetimes.py:1047: UserWarning: Parsing '21-06-2018' in DD/MM/YYYY format. Provide format or specify infer_datetime_format=True for consistent parsing.\n",
      "  cache_array = _maybe_cache(arg, format, cache, convert_listlike)\n",
      "/Users/satishkumarsahu/.pyenv/customer_segmentation/lib/python3.10/site-packages/pandas/core/tools/datetimes.py:1047: UserWarning: Parsing '22-06-2018' in DD/MM/YYYY format. Provide format or specify infer_datetime_format=True for consistent parsing.\n",
      "  cache_array = _maybe_cache(arg, format, cache, convert_listlike)\n",
      "/Users/satishkumarsahu/.pyenv/customer_segmentation/lib/python3.10/site-packages/pandas/core/tools/datetimes.py:1047: UserWarning: Parsing '23-06-2018' in DD/MM/YYYY format. Provide format or specify infer_datetime_format=True for consistent parsing.\n",
      "  cache_array = _maybe_cache(arg, format, cache, convert_listlike)\n",
      "/Users/satishkumarsahu/.pyenv/customer_segmentation/lib/python3.10/site-packages/pandas/core/tools/datetimes.py:1047: UserWarning: Parsing '25-06-2018' in DD/MM/YYYY format. Provide format or specify infer_datetime_format=True for consistent parsing.\n",
      "  cache_array = _maybe_cache(arg, format, cache, convert_listlike)\n",
      "/Users/satishkumarsahu/.pyenv/customer_segmentation/lib/python3.10/site-packages/pandas/core/tools/datetimes.py:1047: UserWarning: Parsing '26-06-2018' in DD/MM/YYYY format. Provide format or specify infer_datetime_format=True for consistent parsing.\n",
      "  cache_array = _maybe_cache(arg, format, cache, convert_listlike)\n",
      "/Users/satishkumarsahu/.pyenv/customer_segmentation/lib/python3.10/site-packages/pandas/core/tools/datetimes.py:1047: UserWarning: Parsing '27-06-2018' in DD/MM/YYYY format. Provide format or specify infer_datetime_format=True for consistent parsing.\n",
      "  cache_array = _maybe_cache(arg, format, cache, convert_listlike)\n",
      "/Users/satishkumarsahu/.pyenv/customer_segmentation/lib/python3.10/site-packages/pandas/core/tools/datetimes.py:1047: UserWarning: Parsing '28-06-2018' in DD/MM/YYYY format. Provide format or specify infer_datetime_format=True for consistent parsing.\n",
      "  cache_array = _maybe_cache(arg, format, cache, convert_listlike)\n",
      "/Users/satishkumarsahu/.pyenv/customer_segmentation/lib/python3.10/site-packages/pandas/core/tools/datetimes.py:1047: UserWarning: Parsing '29-06-2018' in DD/MM/YYYY format. Provide format or specify infer_datetime_format=True for consistent parsing.\n",
      "  cache_array = _maybe_cache(arg, format, cache, convert_listlike)\n",
      "/Users/satishkumarsahu/.pyenv/customer_segmentation/lib/python3.10/site-packages/pandas/core/tools/datetimes.py:1047: UserWarning: Parsing '30-06-2018' in DD/MM/YYYY format. Provide format or specify infer_datetime_format=True for consistent parsing.\n",
      "  cache_array = _maybe_cache(arg, format, cache, convert_listlike)\n",
      "/Users/satishkumarsahu/.pyenv/customer_segmentation/lib/python3.10/site-packages/pandas/core/tools/datetimes.py:1047: UserWarning: Parsing '16-07-2018' in DD/MM/YYYY format. Provide format or specify infer_datetime_format=True for consistent parsing.\n",
      "  cache_array = _maybe_cache(arg, format, cache, convert_listlike)\n",
      "/Users/satishkumarsahu/.pyenv/customer_segmentation/lib/python3.10/site-packages/pandas/core/tools/datetimes.py:1047: UserWarning: Parsing '17-07-2018' in DD/MM/YYYY format. Provide format or specify infer_datetime_format=True for consistent parsing.\n",
      "  cache_array = _maybe_cache(arg, format, cache, convert_listlike)\n",
      "/Users/satishkumarsahu/.pyenv/customer_segmentation/lib/python3.10/site-packages/pandas/core/tools/datetimes.py:1047: UserWarning: Parsing '18-07-2018' in DD/MM/YYYY format. Provide format or specify infer_datetime_format=True for consistent parsing.\n",
      "  cache_array = _maybe_cache(arg, format, cache, convert_listlike)\n",
      "/Users/satishkumarsahu/.pyenv/customer_segmentation/lib/python3.10/site-packages/pandas/core/tools/datetimes.py:1047: UserWarning: Parsing '19-07-2018' in DD/MM/YYYY format. Provide format or specify infer_datetime_format=True for consistent parsing.\n",
      "  cache_array = _maybe_cache(arg, format, cache, convert_listlike)\n",
      "/Users/satishkumarsahu/.pyenv/customer_segmentation/lib/python3.10/site-packages/pandas/core/tools/datetimes.py:1047: UserWarning: Parsing '20-07-2018' in DD/MM/YYYY format. Provide format or specify infer_datetime_format=True for consistent parsing.\n",
      "  cache_array = _maybe_cache(arg, format, cache, convert_listlike)\n",
      "/Users/satishkumarsahu/.pyenv/customer_segmentation/lib/python3.10/site-packages/pandas/core/tools/datetimes.py:1047: UserWarning: Parsing '21-07-2018' in DD/MM/YYYY format. Provide format or specify infer_datetime_format=True for consistent parsing.\n",
      "  cache_array = _maybe_cache(arg, format, cache, convert_listlike)\n",
      "/Users/satishkumarsahu/.pyenv/customer_segmentation/lib/python3.10/site-packages/pandas/core/tools/datetimes.py:1047: UserWarning: Parsing '23-07-2018' in DD/MM/YYYY format. Provide format or specify infer_datetime_format=True for consistent parsing.\n",
      "  cache_array = _maybe_cache(arg, format, cache, convert_listlike)\n",
      "/Users/satishkumarsahu/.pyenv/customer_segmentation/lib/python3.10/site-packages/pandas/core/tools/datetimes.py:1047: UserWarning: Parsing '28-07-2018' in DD/MM/YYYY format. Provide format or specify infer_datetime_format=True for consistent parsing.\n",
      "  cache_array = _maybe_cache(arg, format, cache, convert_listlike)\n",
      "/Users/satishkumarsahu/.pyenv/customer_segmentation/lib/python3.10/site-packages/pandas/core/tools/datetimes.py:1047: UserWarning: Parsing '29-07-2018' in DD/MM/YYYY format. Provide format or specify infer_datetime_format=True for consistent parsing.\n",
      "  cache_array = _maybe_cache(arg, format, cache, convert_listlike)\n",
      "/Users/satishkumarsahu/.pyenv/customer_segmentation/lib/python3.10/site-packages/pandas/core/tools/datetimes.py:1047: UserWarning: Parsing '31-07-2018' in DD/MM/YYYY format. Provide format or specify infer_datetime_format=True for consistent parsing.\n",
      "  cache_array = _maybe_cache(arg, format, cache, convert_listlike)\n",
      "/Users/satishkumarsahu/.pyenv/customer_segmentation/lib/python3.10/site-packages/pandas/core/tools/datetimes.py:1047: UserWarning: Parsing '14-08-2018' in DD/MM/YYYY format. Provide format or specify infer_datetime_format=True for consistent parsing.\n",
      "  cache_array = _maybe_cache(arg, format, cache, convert_listlike)\n",
      "/Users/satishkumarsahu/.pyenv/customer_segmentation/lib/python3.10/site-packages/pandas/core/tools/datetimes.py:1047: UserWarning: Parsing '16-08-2018' in DD/MM/YYYY format. Provide format or specify infer_datetime_format=True for consistent parsing.\n",
      "  cache_array = _maybe_cache(arg, format, cache, convert_listlike)\n",
      "/Users/satishkumarsahu/.pyenv/customer_segmentation/lib/python3.10/site-packages/pandas/core/tools/datetimes.py:1047: UserWarning: Parsing '17-08-2018' in DD/MM/YYYY format. Provide format or specify infer_datetime_format=True for consistent parsing.\n",
      "  cache_array = _maybe_cache(arg, format, cache, convert_listlike)\n",
      "/Users/satishkumarsahu/.pyenv/customer_segmentation/lib/python3.10/site-packages/pandas/core/tools/datetimes.py:1047: UserWarning: Parsing '18-08-2018' in DD/MM/YYYY format. Provide format or specify infer_datetime_format=True for consistent parsing.\n",
      "  cache_array = _maybe_cache(arg, format, cache, convert_listlike)\n",
      "/Users/satishkumarsahu/.pyenv/customer_segmentation/lib/python3.10/site-packages/pandas/core/tools/datetimes.py:1047: UserWarning: Parsing '20-08-2018' in DD/MM/YYYY format. Provide format or specify infer_datetime_format=True for consistent parsing.\n",
      "  cache_array = _maybe_cache(arg, format, cache, convert_listlike)\n",
      "/Users/satishkumarsahu/.pyenv/customer_segmentation/lib/python3.10/site-packages/pandas/core/tools/datetimes.py:1047: UserWarning: Parsing '21-08-2018' in DD/MM/YYYY format. Provide format or specify infer_datetime_format=True for consistent parsing.\n",
      "  cache_array = _maybe_cache(arg, format, cache, convert_listlike)\n",
      "/Users/satishkumarsahu/.pyenv/customer_segmentation/lib/python3.10/site-packages/pandas/core/tools/datetimes.py:1047: UserWarning: Parsing '22-08-2018' in DD/MM/YYYY format. Provide format or specify infer_datetime_format=True for consistent parsing.\n",
      "  cache_array = _maybe_cache(arg, format, cache, convert_listlike)\n",
      "/Users/satishkumarsahu/.pyenv/customer_segmentation/lib/python3.10/site-packages/pandas/core/tools/datetimes.py:1047: UserWarning: Parsing '23-08-2018' in DD/MM/YYYY format. Provide format or specify infer_datetime_format=True for consistent parsing.\n",
      "  cache_array = _maybe_cache(arg, format, cache, convert_listlike)\n",
      "/Users/satishkumarsahu/.pyenv/customer_segmentation/lib/python3.10/site-packages/pandas/core/tools/datetimes.py:1047: UserWarning: Parsing '24-08-2018' in DD/MM/YYYY format. Provide format or specify infer_datetime_format=True for consistent parsing.\n",
      "  cache_array = _maybe_cache(arg, format, cache, convert_listlike)\n",
      "/Users/satishkumarsahu/.pyenv/customer_segmentation/lib/python3.10/site-packages/pandas/core/tools/datetimes.py:1047: UserWarning: Parsing '25-08-2018' in DD/MM/YYYY format. Provide format or specify infer_datetime_format=True for consistent parsing.\n",
      "  cache_array = _maybe_cache(arg, format, cache, convert_listlike)\n",
      "/Users/satishkumarsahu/.pyenv/customer_segmentation/lib/python3.10/site-packages/pandas/core/tools/datetimes.py:1047: UserWarning: Parsing '27-08-2018' in DD/MM/YYYY format. Provide format or specify infer_datetime_format=True for consistent parsing.\n",
      "  cache_array = _maybe_cache(arg, format, cache, convert_listlike)\n",
      "/Users/satishkumarsahu/.pyenv/customer_segmentation/lib/python3.10/site-packages/pandas/core/tools/datetimes.py:1047: UserWarning: Parsing '28-08-2018' in DD/MM/YYYY format. Provide format or specify infer_datetime_format=True for consistent parsing.\n",
      "  cache_array = _maybe_cache(arg, format, cache, convert_listlike)\n",
      "/Users/satishkumarsahu/.pyenv/customer_segmentation/lib/python3.10/site-packages/pandas/core/tools/datetimes.py:1047: UserWarning: Parsing '29-08-2018' in DD/MM/YYYY format. Provide format or specify infer_datetime_format=True for consistent parsing.\n",
      "  cache_array = _maybe_cache(arg, format, cache, convert_listlike)\n",
      "/Users/satishkumarsahu/.pyenv/customer_segmentation/lib/python3.10/site-packages/pandas/core/tools/datetimes.py:1047: UserWarning: Parsing '30-08-2018' in DD/MM/YYYY format. Provide format or specify infer_datetime_format=True for consistent parsing.\n",
      "  cache_array = _maybe_cache(arg, format, cache, convert_listlike)\n",
      "/Users/satishkumarsahu/.pyenv/customer_segmentation/lib/python3.10/site-packages/pandas/core/tools/datetimes.py:1047: UserWarning: Parsing '31-08-2018' in DD/MM/YYYY format. Provide format or specify infer_datetime_format=True for consistent parsing.\n",
      "  cache_array = _maybe_cache(arg, format, cache, convert_listlike)\n",
      "/Users/satishkumarsahu/.pyenv/customer_segmentation/lib/python3.10/site-packages/pandas/core/tools/datetimes.py:1047: UserWarning: Parsing '14-09-2018' in DD/MM/YYYY format. Provide format or specify infer_datetime_format=True for consistent parsing.\n",
      "  cache_array = _maybe_cache(arg, format, cache, convert_listlike)\n",
      "/Users/satishkumarsahu/.pyenv/customer_segmentation/lib/python3.10/site-packages/pandas/core/tools/datetimes.py:1047: UserWarning: Parsing '15-09-2018' in DD/MM/YYYY format. Provide format or specify infer_datetime_format=True for consistent parsing.\n",
      "  cache_array = _maybe_cache(arg, format, cache, convert_listlike)\n",
      "/Users/satishkumarsahu/.pyenv/customer_segmentation/lib/python3.10/site-packages/pandas/core/tools/datetimes.py:1047: UserWarning: Parsing '17-09-2018' in DD/MM/YYYY format. Provide format or specify infer_datetime_format=True for consistent parsing.\n",
      "  cache_array = _maybe_cache(arg, format, cache, convert_listlike)\n",
      "/Users/satishkumarsahu/.pyenv/customer_segmentation/lib/python3.10/site-packages/pandas/core/tools/datetimes.py:1047: UserWarning: Parsing '18-09-2018' in DD/MM/YYYY format. Provide format or specify infer_datetime_format=True for consistent parsing.\n",
      "  cache_array = _maybe_cache(arg, format, cache, convert_listlike)\n",
      "/Users/satishkumarsahu/.pyenv/customer_segmentation/lib/python3.10/site-packages/pandas/core/tools/datetimes.py:1047: UserWarning: Parsing '19-09-2018' in DD/MM/YYYY format. Provide format or specify infer_datetime_format=True for consistent parsing.\n",
      "  cache_array = _maybe_cache(arg, format, cache, convert_listlike)\n",
      "/Users/satishkumarsahu/.pyenv/customer_segmentation/lib/python3.10/site-packages/pandas/core/tools/datetimes.py:1047: UserWarning: Parsing '20-09-2018' in DD/MM/YYYY format. Provide format or specify infer_datetime_format=True for consistent parsing.\n",
      "  cache_array = _maybe_cache(arg, format, cache, convert_listlike)\n",
      "/Users/satishkumarsahu/.pyenv/customer_segmentation/lib/python3.10/site-packages/pandas/core/tools/datetimes.py:1047: UserWarning: Parsing '21-09-2018' in DD/MM/YYYY format. Provide format or specify infer_datetime_format=True for consistent parsing.\n",
      "  cache_array = _maybe_cache(arg, format, cache, convert_listlike)\n",
      "/Users/satishkumarsahu/.pyenv/customer_segmentation/lib/python3.10/site-packages/pandas/core/tools/datetimes.py:1047: UserWarning: Parsing '25-09-2018' in DD/MM/YYYY format. Provide format or specify infer_datetime_format=True for consistent parsing.\n",
      "  cache_array = _maybe_cache(arg, format, cache, convert_listlike)\n",
      "/Users/satishkumarsahu/.pyenv/customer_segmentation/lib/python3.10/site-packages/pandas/core/tools/datetimes.py:1047: UserWarning: Parsing '26-09-2018' in DD/MM/YYYY format. Provide format or specify infer_datetime_format=True for consistent parsing.\n",
      "  cache_array = _maybe_cache(arg, format, cache, convert_listlike)\n",
      "/Users/satishkumarsahu/.pyenv/customer_segmentation/lib/python3.10/site-packages/pandas/core/tools/datetimes.py:1047: UserWarning: Parsing '27-09-2018' in DD/MM/YYYY format. Provide format or specify infer_datetime_format=True for consistent parsing.\n",
      "  cache_array = _maybe_cache(arg, format, cache, convert_listlike)\n",
      "/Users/satishkumarsahu/.pyenv/customer_segmentation/lib/python3.10/site-packages/pandas/core/tools/datetimes.py:1047: UserWarning: Parsing '28-09-2018' in DD/MM/YYYY format. Provide format or specify infer_datetime_format=True for consistent parsing.\n",
      "  cache_array = _maybe_cache(arg, format, cache, convert_listlike)\n",
      "/Users/satishkumarsahu/.pyenv/customer_segmentation/lib/python3.10/site-packages/pandas/core/tools/datetimes.py:1047: UserWarning: Parsing '29-09-2018' in DD/MM/YYYY format. Provide format or specify infer_datetime_format=True for consistent parsing.\n",
      "  cache_array = _maybe_cache(arg, format, cache, convert_listlike)\n",
      "/Users/satishkumarsahu/.pyenv/customer_segmentation/lib/python3.10/site-packages/pandas/core/tools/datetimes.py:1047: UserWarning: Parsing '30-09-2018' in DD/MM/YYYY format. Provide format or specify infer_datetime_format=True for consistent parsing.\n",
      "  cache_array = _maybe_cache(arg, format, cache, convert_listlike)\n",
      "/Users/satishkumarsahu/.pyenv/customer_segmentation/lib/python3.10/site-packages/pandas/core/tools/datetimes.py:1047: UserWarning: Parsing '15-10-2018' in DD/MM/YYYY format. Provide format or specify infer_datetime_format=True for consistent parsing.\n",
      "  cache_array = _maybe_cache(arg, format, cache, convert_listlike)\n",
      "/Users/satishkumarsahu/.pyenv/customer_segmentation/lib/python3.10/site-packages/pandas/core/tools/datetimes.py:1047: UserWarning: Parsing '16-10-2018' in DD/MM/YYYY format. Provide format or specify infer_datetime_format=True for consistent parsing.\n",
      "  cache_array = _maybe_cache(arg, format, cache, convert_listlike)\n",
      "/Users/satishkumarsahu/.pyenv/customer_segmentation/lib/python3.10/site-packages/pandas/core/tools/datetimes.py:1047: UserWarning: Parsing '17-10-2018' in DD/MM/YYYY format. Provide format or specify infer_datetime_format=True for consistent parsing.\n",
      "  cache_array = _maybe_cache(arg, format, cache, convert_listlike)\n",
      "/Users/satishkumarsahu/.pyenv/customer_segmentation/lib/python3.10/site-packages/pandas/core/tools/datetimes.py:1047: UserWarning: Parsing '18-10-2018' in DD/MM/YYYY format. Provide format or specify infer_datetime_format=True for consistent parsing.\n",
      "  cache_array = _maybe_cache(arg, format, cache, convert_listlike)\n",
      "/Users/satishkumarsahu/.pyenv/customer_segmentation/lib/python3.10/site-packages/pandas/core/tools/datetimes.py:1047: UserWarning: Parsing '20-10-2018' in DD/MM/YYYY format. Provide format or specify infer_datetime_format=True for consistent parsing.\n",
      "  cache_array = _maybe_cache(arg, format, cache, convert_listlike)\n",
      "/Users/satishkumarsahu/.pyenv/customer_segmentation/lib/python3.10/site-packages/pandas/core/tools/datetimes.py:1047: UserWarning: Parsing '22-10-2018' in DD/MM/YYYY format. Provide format or specify infer_datetime_format=True for consistent parsing.\n",
      "  cache_array = _maybe_cache(arg, format, cache, convert_listlike)\n",
      "/Users/satishkumarsahu/.pyenv/customer_segmentation/lib/python3.10/site-packages/pandas/core/tools/datetimes.py:1047: UserWarning: Parsing '23-10-2018' in DD/MM/YYYY format. Provide format or specify infer_datetime_format=True for consistent parsing.\n",
      "  cache_array = _maybe_cache(arg, format, cache, convert_listlike)\n",
      "/Users/satishkumarsahu/.pyenv/customer_segmentation/lib/python3.10/site-packages/pandas/core/tools/datetimes.py:1047: UserWarning: Parsing '24-10-2018' in DD/MM/YYYY format. Provide format or specify infer_datetime_format=True for consistent parsing.\n",
      "  cache_array = _maybe_cache(arg, format, cache, convert_listlike)\n",
      "/Users/satishkumarsahu/.pyenv/customer_segmentation/lib/python3.10/site-packages/pandas/core/tools/datetimes.py:1047: UserWarning: Parsing '25-10-2018' in DD/MM/YYYY format. Provide format or specify infer_datetime_format=True for consistent parsing.\n",
      "  cache_array = _maybe_cache(arg, format, cache, convert_listlike)\n",
      "/Users/satishkumarsahu/.pyenv/customer_segmentation/lib/python3.10/site-packages/pandas/core/tools/datetimes.py:1047: UserWarning: Parsing '26-10-2018' in DD/MM/YYYY format. Provide format or specify infer_datetime_format=True for consistent parsing.\n",
      "  cache_array = _maybe_cache(arg, format, cache, convert_listlike)\n",
      "/Users/satishkumarsahu/.pyenv/customer_segmentation/lib/python3.10/site-packages/pandas/core/tools/datetimes.py:1047: UserWarning: Parsing '27-10-2018' in DD/MM/YYYY format. Provide format or specify infer_datetime_format=True for consistent parsing.\n",
      "  cache_array = _maybe_cache(arg, format, cache, convert_listlike)\n",
      "/Users/satishkumarsahu/.pyenv/customer_segmentation/lib/python3.10/site-packages/pandas/core/tools/datetimes.py:1047: UserWarning: Parsing '29-10-2018' in DD/MM/YYYY format. Provide format or specify infer_datetime_format=True for consistent parsing.\n",
      "  cache_array = _maybe_cache(arg, format, cache, convert_listlike)\n",
      "/Users/satishkumarsahu/.pyenv/customer_segmentation/lib/python3.10/site-packages/pandas/core/tools/datetimes.py:1047: UserWarning: Parsing '30-10-2018' in DD/MM/YYYY format. Provide format or specify infer_datetime_format=True for consistent parsing.\n",
      "  cache_array = _maybe_cache(arg, format, cache, convert_listlike)\n",
      "/Users/satishkumarsahu/.pyenv/customer_segmentation/lib/python3.10/site-packages/pandas/core/tools/datetimes.py:1047: UserWarning: Parsing '31-10-2018' in DD/MM/YYYY format. Provide format or specify infer_datetime_format=True for consistent parsing.\n",
      "  cache_array = _maybe_cache(arg, format, cache, convert_listlike)\n",
      "/Users/satishkumarsahu/.pyenv/customer_segmentation/lib/python3.10/site-packages/pandas/core/tools/datetimes.py:1047: UserWarning: Parsing '13-11-2018' in DD/MM/YYYY format. Provide format or specify infer_datetime_format=True for consistent parsing.\n",
      "  cache_array = _maybe_cache(arg, format, cache, convert_listlike)\n",
      "/Users/satishkumarsahu/.pyenv/customer_segmentation/lib/python3.10/site-packages/pandas/core/tools/datetimes.py:1047: UserWarning: Parsing '14-11-2018' in DD/MM/YYYY format. Provide format or specify infer_datetime_format=True for consistent parsing.\n",
      "  cache_array = _maybe_cache(arg, format, cache, convert_listlike)\n",
      "/Users/satishkumarsahu/.pyenv/customer_segmentation/lib/python3.10/site-packages/pandas/core/tools/datetimes.py:1047: UserWarning: Parsing '15-11-2018' in DD/MM/YYYY format. Provide format or specify infer_datetime_format=True for consistent parsing.\n",
      "  cache_array = _maybe_cache(arg, format, cache, convert_listlike)\n",
      "/Users/satishkumarsahu/.pyenv/customer_segmentation/lib/python3.10/site-packages/pandas/core/tools/datetimes.py:1047: UserWarning: Parsing '16-11-2018' in DD/MM/YYYY format. Provide format or specify infer_datetime_format=True for consistent parsing.\n",
      "  cache_array = _maybe_cache(arg, format, cache, convert_listlike)\n",
      "/Users/satishkumarsahu/.pyenv/customer_segmentation/lib/python3.10/site-packages/pandas/core/tools/datetimes.py:1047: UserWarning: Parsing '17-11-2018' in DD/MM/YYYY format. Provide format or specify infer_datetime_format=True for consistent parsing.\n",
      "  cache_array = _maybe_cache(arg, format, cache, convert_listlike)\n",
      "/Users/satishkumarsahu/.pyenv/customer_segmentation/lib/python3.10/site-packages/pandas/core/tools/datetimes.py:1047: UserWarning: Parsing '19-11-2018' in DD/MM/YYYY format. Provide format or specify infer_datetime_format=True for consistent parsing.\n",
      "  cache_array = _maybe_cache(arg, format, cache, convert_listlike)\n",
      "/Users/satishkumarsahu/.pyenv/customer_segmentation/lib/python3.10/site-packages/pandas/core/tools/datetimes.py:1047: UserWarning: Parsing '20-11-2018' in DD/MM/YYYY format. Provide format or specify infer_datetime_format=True for consistent parsing.\n",
      "  cache_array = _maybe_cache(arg, format, cache, convert_listlike)\n",
      "/Users/satishkumarsahu/.pyenv/customer_segmentation/lib/python3.10/site-packages/pandas/core/tools/datetimes.py:1047: UserWarning: Parsing '22-11-2018' in DD/MM/YYYY format. Provide format or specify infer_datetime_format=True for consistent parsing.\n",
      "  cache_array = _maybe_cache(arg, format, cache, convert_listlike)\n",
      "/Users/satishkumarsahu/.pyenv/customer_segmentation/lib/python3.10/site-packages/pandas/core/tools/datetimes.py:1047: UserWarning: Parsing '23-11-2018' in DD/MM/YYYY format. Provide format or specify infer_datetime_format=True for consistent parsing.\n",
      "  cache_array = _maybe_cache(arg, format, cache, convert_listlike)\n",
      "/Users/satishkumarsahu/.pyenv/customer_segmentation/lib/python3.10/site-packages/pandas/core/tools/datetimes.py:1047: UserWarning: Parsing '24-11-2018' in DD/MM/YYYY format. Provide format or specify infer_datetime_format=True for consistent parsing.\n",
      "  cache_array = _maybe_cache(arg, format, cache, convert_listlike)\n",
      "/Users/satishkumarsahu/.pyenv/customer_segmentation/lib/python3.10/site-packages/pandas/core/tools/datetimes.py:1047: UserWarning: Parsing '26-11-2018' in DD/MM/YYYY format. Provide format or specify infer_datetime_format=True for consistent parsing.\n",
      "  cache_array = _maybe_cache(arg, format, cache, convert_listlike)\n",
      "/Users/satishkumarsahu/.pyenv/customer_segmentation/lib/python3.10/site-packages/pandas/core/tools/datetimes.py:1047: UserWarning: Parsing '27-11-2018' in DD/MM/YYYY format. Provide format or specify infer_datetime_format=True for consistent parsing.\n",
      "  cache_array = _maybe_cache(arg, format, cache, convert_listlike)\n",
      "/Users/satishkumarsahu/.pyenv/customer_segmentation/lib/python3.10/site-packages/pandas/core/tools/datetimes.py:1047: UserWarning: Parsing '28-11-2018' in DD/MM/YYYY format. Provide format or specify infer_datetime_format=True for consistent parsing.\n",
      "  cache_array = _maybe_cache(arg, format, cache, convert_listlike)\n",
      "/Users/satishkumarsahu/.pyenv/customer_segmentation/lib/python3.10/site-packages/pandas/core/tools/datetimes.py:1047: UserWarning: Parsing '29-11-2018' in DD/MM/YYYY format. Provide format or specify infer_datetime_format=True for consistent parsing.\n",
      "  cache_array = _maybe_cache(arg, format, cache, convert_listlike)\n",
      "/Users/satishkumarsahu/.pyenv/customer_segmentation/lib/python3.10/site-packages/pandas/core/tools/datetimes.py:1047: UserWarning: Parsing '30-11-2018' in DD/MM/YYYY format. Provide format or specify infer_datetime_format=True for consistent parsing.\n",
      "  cache_array = _maybe_cache(arg, format, cache, convert_listlike)\n",
      "/Users/satishkumarsahu/.pyenv/customer_segmentation/lib/python3.10/site-packages/pandas/core/tools/datetimes.py:1047: UserWarning: Parsing '13-12-2018' in DD/MM/YYYY format. Provide format or specify infer_datetime_format=True for consistent parsing.\n",
      "  cache_array = _maybe_cache(arg, format, cache, convert_listlike)\n",
      "/Users/satishkumarsahu/.pyenv/customer_segmentation/lib/python3.10/site-packages/pandas/core/tools/datetimes.py:1047: UserWarning: Parsing '15-12-2018' in DD/MM/YYYY format. Provide format or specify infer_datetime_format=True for consistent parsing.\n",
      "  cache_array = _maybe_cache(arg, format, cache, convert_listlike)\n",
      "/Users/satishkumarsahu/.pyenv/customer_segmentation/lib/python3.10/site-packages/pandas/core/tools/datetimes.py:1047: UserWarning: Parsing '17-12-2018' in DD/MM/YYYY format. Provide format or specify infer_datetime_format=True for consistent parsing.\n",
      "  cache_array = _maybe_cache(arg, format, cache, convert_listlike)\n",
      "/Users/satishkumarsahu/.pyenv/customer_segmentation/lib/python3.10/site-packages/pandas/core/tools/datetimes.py:1047: UserWarning: Parsing '18-12-2018' in DD/MM/YYYY format. Provide format or specify infer_datetime_format=True for consistent parsing.\n",
      "  cache_array = _maybe_cache(arg, format, cache, convert_listlike)\n",
      "/Users/satishkumarsahu/.pyenv/customer_segmentation/lib/python3.10/site-packages/pandas/core/tools/datetimes.py:1047: UserWarning: Parsing '19-12-2018' in DD/MM/YYYY format. Provide format or specify infer_datetime_format=True for consistent parsing.\n",
      "  cache_array = _maybe_cache(arg, format, cache, convert_listlike)\n",
      "/Users/satishkumarsahu/.pyenv/customer_segmentation/lib/python3.10/site-packages/pandas/core/tools/datetimes.py:1047: UserWarning: Parsing '20-12-2018' in DD/MM/YYYY format. Provide format or specify infer_datetime_format=True for consistent parsing.\n",
      "  cache_array = _maybe_cache(arg, format, cache, convert_listlike)\n",
      "/Users/satishkumarsahu/.pyenv/customer_segmentation/lib/python3.10/site-packages/pandas/core/tools/datetimes.py:1047: UserWarning: Parsing '21-12-2018' in DD/MM/YYYY format. Provide format or specify infer_datetime_format=True for consistent parsing.\n",
      "  cache_array = _maybe_cache(arg, format, cache, convert_listlike)\n",
      "/Users/satishkumarsahu/.pyenv/customer_segmentation/lib/python3.10/site-packages/pandas/core/tools/datetimes.py:1047: UserWarning: Parsing '22-12-2018' in DD/MM/YYYY format. Provide format or specify infer_datetime_format=True for consistent parsing.\n",
      "  cache_array = _maybe_cache(arg, format, cache, convert_listlike)\n",
      "/Users/satishkumarsahu/.pyenv/customer_segmentation/lib/python3.10/site-packages/pandas/core/tools/datetimes.py:1047: UserWarning: Parsing '26-12-2018' in DD/MM/YYYY format. Provide format or specify infer_datetime_format=True for consistent parsing.\n",
      "  cache_array = _maybe_cache(arg, format, cache, convert_listlike)\n",
      "/Users/satishkumarsahu/.pyenv/customer_segmentation/lib/python3.10/site-packages/pandas/core/tools/datetimes.py:1047: UserWarning: Parsing '27-12-2018' in DD/MM/YYYY format. Provide format or specify infer_datetime_format=True for consistent parsing.\n",
      "  cache_array = _maybe_cache(arg, format, cache, convert_listlike)\n",
      "/Users/satishkumarsahu/.pyenv/customer_segmentation/lib/python3.10/site-packages/pandas/core/tools/datetimes.py:1047: UserWarning: Parsing '28-12-2018' in DD/MM/YYYY format. Provide format or specify infer_datetime_format=True for consistent parsing.\n",
      "  cache_array = _maybe_cache(arg, format, cache, convert_listlike)\n",
      "/Users/satishkumarsahu/.pyenv/customer_segmentation/lib/python3.10/site-packages/pandas/core/tools/datetimes.py:1047: UserWarning: Parsing '30-12-2018' in DD/MM/YYYY format. Provide format or specify infer_datetime_format=True for consistent parsing.\n",
      "  cache_array = _maybe_cache(arg, format, cache, convert_listlike)\n",
      "/Users/satishkumarsahu/.pyenv/customer_segmentation/lib/python3.10/site-packages/pandas/core/tools/datetimes.py:1047: UserWarning: Parsing '31-12-2018' in DD/MM/YYYY format. Provide format or specify infer_datetime_format=True for consistent parsing.\n",
      "  cache_array = _maybe_cache(arg, format, cache, convert_listlike)\n",
      "/Users/satishkumarsahu/.pyenv/customer_segmentation/lib/python3.10/site-packages/pandas/core/tools/datetimes.py:1047: UserWarning: Parsing '15-01-2019' in DD/MM/YYYY format. Provide format or specify infer_datetime_format=True for consistent parsing.\n",
      "  cache_array = _maybe_cache(arg, format, cache, convert_listlike)\n",
      "/Users/satishkumarsahu/.pyenv/customer_segmentation/lib/python3.10/site-packages/pandas/core/tools/datetimes.py:1047: UserWarning: Parsing '16-01-2019' in DD/MM/YYYY format. Provide format or specify infer_datetime_format=True for consistent parsing.\n",
      "  cache_array = _maybe_cache(arg, format, cache, convert_listlike)\n",
      "/Users/satishkumarsahu/.pyenv/customer_segmentation/lib/python3.10/site-packages/pandas/core/tools/datetimes.py:1047: UserWarning: Parsing '17-01-2019' in DD/MM/YYYY format. Provide format or specify infer_datetime_format=True for consistent parsing.\n",
      "  cache_array = _maybe_cache(arg, format, cache, convert_listlike)\n",
      "/Users/satishkumarsahu/.pyenv/customer_segmentation/lib/python3.10/site-packages/pandas/core/tools/datetimes.py:1047: UserWarning: Parsing '18-01-2019' in DD/MM/YYYY format. Provide format or specify infer_datetime_format=True for consistent parsing.\n",
      "  cache_array = _maybe_cache(arg, format, cache, convert_listlike)\n",
      "/Users/satishkumarsahu/.pyenv/customer_segmentation/lib/python3.10/site-packages/pandas/core/tools/datetimes.py:1047: UserWarning: Parsing '19-01-2019' in DD/MM/YYYY format. Provide format or specify infer_datetime_format=True for consistent parsing.\n",
      "  cache_array = _maybe_cache(arg, format, cache, convert_listlike)\n",
      "/Users/satishkumarsahu/.pyenv/customer_segmentation/lib/python3.10/site-packages/pandas/core/tools/datetimes.py:1047: UserWarning: Parsing '21-01-2019' in DD/MM/YYYY format. Provide format or specify infer_datetime_format=True for consistent parsing.\n",
      "  cache_array = _maybe_cache(arg, format, cache, convert_listlike)\n",
      "/Users/satishkumarsahu/.pyenv/customer_segmentation/lib/python3.10/site-packages/pandas/core/tools/datetimes.py:1047: UserWarning: Parsing '22-01-2019' in DD/MM/YYYY format. Provide format or specify infer_datetime_format=True for consistent parsing.\n",
      "  cache_array = _maybe_cache(arg, format, cache, convert_listlike)\n",
      "/Users/satishkumarsahu/.pyenv/customer_segmentation/lib/python3.10/site-packages/pandas/core/tools/datetimes.py:1047: UserWarning: Parsing '23-01-2019' in DD/MM/YYYY format. Provide format or specify infer_datetime_format=True for consistent parsing.\n",
      "  cache_array = _maybe_cache(arg, format, cache, convert_listlike)\n",
      "/Users/satishkumarsahu/.pyenv/customer_segmentation/lib/python3.10/site-packages/pandas/core/tools/datetimes.py:1047: UserWarning: Parsing '24-01-2019' in DD/MM/YYYY format. Provide format or specify infer_datetime_format=True for consistent parsing.\n",
      "  cache_array = _maybe_cache(arg, format, cache, convert_listlike)\n",
      "/Users/satishkumarsahu/.pyenv/customer_segmentation/lib/python3.10/site-packages/pandas/core/tools/datetimes.py:1047: UserWarning: Parsing '25-01-2019' in DD/MM/YYYY format. Provide format or specify infer_datetime_format=True for consistent parsing.\n",
      "  cache_array = _maybe_cache(arg, format, cache, convert_listlike)\n",
      "/Users/satishkumarsahu/.pyenv/customer_segmentation/lib/python3.10/site-packages/pandas/core/tools/datetimes.py:1047: UserWarning: Parsing '28-01-2019' in DD/MM/YYYY format. Provide format or specify infer_datetime_format=True for consistent parsing.\n",
      "  cache_array = _maybe_cache(arg, format, cache, convert_listlike)\n",
      "/Users/satishkumarsahu/.pyenv/customer_segmentation/lib/python3.10/site-packages/pandas/core/tools/datetimes.py:1047: UserWarning: Parsing '29-01-2019' in DD/MM/YYYY format. Provide format or specify infer_datetime_format=True for consistent parsing.\n",
      "  cache_array = _maybe_cache(arg, format, cache, convert_listlike)\n",
      "/Users/satishkumarsahu/.pyenv/customer_segmentation/lib/python3.10/site-packages/pandas/core/tools/datetimes.py:1047: UserWarning: Parsing '30-01-2019' in DD/MM/YYYY format. Provide format or specify infer_datetime_format=True for consistent parsing.\n",
      "  cache_array = _maybe_cache(arg, format, cache, convert_listlike)\n",
      "/Users/satishkumarsahu/.pyenv/customer_segmentation/lib/python3.10/site-packages/pandas/core/tools/datetimes.py:1047: UserWarning: Parsing '31-01-2019' in DD/MM/YYYY format. Provide format or specify infer_datetime_format=True for consistent parsing.\n",
      "  cache_array = _maybe_cache(arg, format, cache, convert_listlike)\n",
      "/Users/satishkumarsahu/.pyenv/customer_segmentation/lib/python3.10/site-packages/pandas/core/tools/datetimes.py:1047: UserWarning: Parsing '13-02-2019' in DD/MM/YYYY format. Provide format or specify infer_datetime_format=True for consistent parsing.\n",
      "  cache_array = _maybe_cache(arg, format, cache, convert_listlike)\n",
      "/Users/satishkumarsahu/.pyenv/customer_segmentation/lib/python3.10/site-packages/pandas/core/tools/datetimes.py:1047: UserWarning: Parsing '14-02-2019' in DD/MM/YYYY format. Provide format or specify infer_datetime_format=True for consistent parsing.\n",
      "  cache_array = _maybe_cache(arg, format, cache, convert_listlike)\n",
      "/Users/satishkumarsahu/.pyenv/customer_segmentation/lib/python3.10/site-packages/pandas/core/tools/datetimes.py:1047: UserWarning: Parsing '15-02-2019' in DD/MM/YYYY format. Provide format or specify infer_datetime_format=True for consistent parsing.\n",
      "  cache_array = _maybe_cache(arg, format, cache, convert_listlike)\n",
      "/Users/satishkumarsahu/.pyenv/customer_segmentation/lib/python3.10/site-packages/pandas/core/tools/datetimes.py:1047: UserWarning: Parsing '16-02-2019' in DD/MM/YYYY format. Provide format or specify infer_datetime_format=True for consistent parsing.\n",
      "  cache_array = _maybe_cache(arg, format, cache, convert_listlike)\n",
      "/Users/satishkumarsahu/.pyenv/customer_segmentation/lib/python3.10/site-packages/pandas/core/tools/datetimes.py:1047: UserWarning: Parsing '18-02-2019' in DD/MM/YYYY format. Provide format or specify infer_datetime_format=True for consistent parsing.\n",
      "  cache_array = _maybe_cache(arg, format, cache, convert_listlike)\n",
      "/Users/satishkumarsahu/.pyenv/customer_segmentation/lib/python3.10/site-packages/pandas/core/tools/datetimes.py:1047: UserWarning: Parsing '19-02-2019' in DD/MM/YYYY format. Provide format or specify infer_datetime_format=True for consistent parsing.\n",
      "  cache_array = _maybe_cache(arg, format, cache, convert_listlike)\n",
      "/Users/satishkumarsahu/.pyenv/customer_segmentation/lib/python3.10/site-packages/pandas/core/tools/datetimes.py:1047: UserWarning: Parsing '20-02-2019' in DD/MM/YYYY format. Provide format or specify infer_datetime_format=True for consistent parsing.\n",
      "  cache_array = _maybe_cache(arg, format, cache, convert_listlike)\n",
      "/Users/satishkumarsahu/.pyenv/customer_segmentation/lib/python3.10/site-packages/pandas/core/tools/datetimes.py:1047: UserWarning: Parsing '21-02-2019' in DD/MM/YYYY format. Provide format or specify infer_datetime_format=True for consistent parsing.\n",
      "  cache_array = _maybe_cache(arg, format, cache, convert_listlike)\n",
      "/Users/satishkumarsahu/.pyenv/customer_segmentation/lib/python3.10/site-packages/pandas/core/tools/datetimes.py:1047: UserWarning: Parsing '25-02-2019' in DD/MM/YYYY format. Provide format or specify infer_datetime_format=True for consistent parsing.\n",
      "  cache_array = _maybe_cache(arg, format, cache, convert_listlike)\n",
      "/Users/satishkumarsahu/.pyenv/customer_segmentation/lib/python3.10/site-packages/pandas/core/tools/datetimes.py:1047: UserWarning: Parsing '26-02-2019' in DD/MM/YYYY format. Provide format or specify infer_datetime_format=True for consistent parsing.\n",
      "  cache_array = _maybe_cache(arg, format, cache, convert_listlike)\n",
      "/Users/satishkumarsahu/.pyenv/customer_segmentation/lib/python3.10/site-packages/pandas/core/tools/datetimes.py:1047: UserWarning: Parsing '27-02-2019' in DD/MM/YYYY format. Provide format or specify infer_datetime_format=True for consistent parsing.\n",
      "  cache_array = _maybe_cache(arg, format, cache, convert_listlike)\n",
      "/Users/satishkumarsahu/.pyenv/customer_segmentation/lib/python3.10/site-packages/pandas/core/tools/datetimes.py:1047: UserWarning: Parsing '28-02-2019' in DD/MM/YYYY format. Provide format or specify infer_datetime_format=True for consistent parsing.\n",
      "  cache_array = _maybe_cache(arg, format, cache, convert_listlike)\n",
      "/Users/satishkumarsahu/.pyenv/customer_segmentation/lib/python3.10/site-packages/pandas/core/tools/datetimes.py:1047: UserWarning: Parsing '13-03-2019' in DD/MM/YYYY format. Provide format or specify infer_datetime_format=True for consistent parsing.\n",
      "  cache_array = _maybe_cache(arg, format, cache, convert_listlike)\n",
      "/Users/satishkumarsahu/.pyenv/customer_segmentation/lib/python3.10/site-packages/pandas/core/tools/datetimes.py:1047: UserWarning: Parsing '14-03-2019' in DD/MM/YYYY format. Provide format or specify infer_datetime_format=True for consistent parsing.\n",
      "  cache_array = _maybe_cache(arg, format, cache, convert_listlike)\n",
      "/Users/satishkumarsahu/.pyenv/customer_segmentation/lib/python3.10/site-packages/pandas/core/tools/datetimes.py:1047: UserWarning: Parsing '15-03-2019' in DD/MM/YYYY format. Provide format or specify infer_datetime_format=True for consistent parsing.\n",
      "  cache_array = _maybe_cache(arg, format, cache, convert_listlike)\n",
      "/Users/satishkumarsahu/.pyenv/customer_segmentation/lib/python3.10/site-packages/pandas/core/tools/datetimes.py:1047: UserWarning: Parsing '16-03-2019' in DD/MM/YYYY format. Provide format or specify infer_datetime_format=True for consistent parsing.\n",
      "  cache_array = _maybe_cache(arg, format, cache, convert_listlike)\n",
      "/Users/satishkumarsahu/.pyenv/customer_segmentation/lib/python3.10/site-packages/pandas/core/tools/datetimes.py:1047: UserWarning: Parsing '18-03-2019' in DD/MM/YYYY format. Provide format or specify infer_datetime_format=True for consistent parsing.\n",
      "  cache_array = _maybe_cache(arg, format, cache, convert_listlike)\n",
      "/Users/satishkumarsahu/.pyenv/customer_segmentation/lib/python3.10/site-packages/pandas/core/tools/datetimes.py:1047: UserWarning: Parsing '19-03-2019' in DD/MM/YYYY format. Provide format or specify infer_datetime_format=True for consistent parsing.\n",
      "  cache_array = _maybe_cache(arg, format, cache, convert_listlike)\n",
      "/Users/satishkumarsahu/.pyenv/customer_segmentation/lib/python3.10/site-packages/pandas/core/tools/datetimes.py:1047: UserWarning: Parsing '20-03-2019' in DD/MM/YYYY format. Provide format or specify infer_datetime_format=True for consistent parsing.\n",
      "  cache_array = _maybe_cache(arg, format, cache, convert_listlike)\n",
      "/Users/satishkumarsahu/.pyenv/customer_segmentation/lib/python3.10/site-packages/pandas/core/tools/datetimes.py:1047: UserWarning: Parsing '22-03-2019' in DD/MM/YYYY format. Provide format or specify infer_datetime_format=True for consistent parsing.\n",
      "  cache_array = _maybe_cache(arg, format, cache, convert_listlike)\n",
      "/Users/satishkumarsahu/.pyenv/customer_segmentation/lib/python3.10/site-packages/pandas/core/tools/datetimes.py:1047: UserWarning: Parsing '23-03-2019' in DD/MM/YYYY format. Provide format or specify infer_datetime_format=True for consistent parsing.\n",
      "  cache_array = _maybe_cache(arg, format, cache, convert_listlike)\n",
      "/Users/satishkumarsahu/.pyenv/customer_segmentation/lib/python3.10/site-packages/pandas/core/tools/datetimes.py:1047: UserWarning: Parsing '25-03-2019' in DD/MM/YYYY format. Provide format or specify infer_datetime_format=True for consistent parsing.\n",
      "  cache_array = _maybe_cache(arg, format, cache, convert_listlike)\n",
      "/Users/satishkumarsahu/.pyenv/customer_segmentation/lib/python3.10/site-packages/pandas/core/tools/datetimes.py:1047: UserWarning: Parsing '26-03-2019' in DD/MM/YYYY format. Provide format or specify infer_datetime_format=True for consistent parsing.\n",
      "  cache_array = _maybe_cache(arg, format, cache, convert_listlike)\n",
      "/Users/satishkumarsahu/.pyenv/customer_segmentation/lib/python3.10/site-packages/pandas/core/tools/datetimes.py:1047: UserWarning: Parsing '27-03-2019' in DD/MM/YYYY format. Provide format or specify infer_datetime_format=True for consistent parsing.\n",
      "  cache_array = _maybe_cache(arg, format, cache, convert_listlike)\n",
      "/Users/satishkumarsahu/.pyenv/customer_segmentation/lib/python3.10/site-packages/pandas/core/tools/datetimes.py:1047: UserWarning: Parsing '28-03-2019' in DD/MM/YYYY format. Provide format or specify infer_datetime_format=True for consistent parsing.\n",
      "  cache_array = _maybe_cache(arg, format, cache, convert_listlike)\n",
      "/Users/satishkumarsahu/.pyenv/customer_segmentation/lib/python3.10/site-packages/pandas/core/tools/datetimes.py:1047: UserWarning: Parsing '29-03-2019' in DD/MM/YYYY format. Provide format or specify infer_datetime_format=True for consistent parsing.\n",
      "  cache_array = _maybe_cache(arg, format, cache, convert_listlike)\n",
      "/Users/satishkumarsahu/.pyenv/customer_segmentation/lib/python3.10/site-packages/pandas/core/tools/datetimes.py:1047: UserWarning: Parsing '30-03-2019' in DD/MM/YYYY format. Provide format or specify infer_datetime_format=True for consistent parsing.\n",
      "  cache_array = _maybe_cache(arg, format, cache, convert_listlike)\n",
      "/Users/satishkumarsahu/.pyenv/customer_segmentation/lib/python3.10/site-packages/pandas/core/tools/datetimes.py:1047: UserWarning: Parsing '31-03-2019' in DD/MM/YYYY format. Provide format or specify infer_datetime_format=True for consistent parsing.\n",
      "  cache_array = _maybe_cache(arg, format, cache, convert_listlike)\n",
      "/Users/satishkumarsahu/.pyenv/customer_segmentation/lib/python3.10/site-packages/pandas/core/tools/datetimes.py:1047: UserWarning: Parsing '15-04-2019' in DD/MM/YYYY format. Provide format or specify infer_datetime_format=True for consistent parsing.\n",
      "  cache_array = _maybe_cache(arg, format, cache, convert_listlike)\n",
      "/Users/satishkumarsahu/.pyenv/customer_segmentation/lib/python3.10/site-packages/pandas/core/tools/datetimes.py:1047: UserWarning: Parsing '16-04-2019' in DD/MM/YYYY format. Provide format or specify infer_datetime_format=True for consistent parsing.\n",
      "  cache_array = _maybe_cache(arg, format, cache, convert_listlike)\n",
      "/Users/satishkumarsahu/.pyenv/customer_segmentation/lib/python3.10/site-packages/pandas/core/tools/datetimes.py:1047: UserWarning: Parsing '17-04-2019' in DD/MM/YYYY format. Provide format or specify infer_datetime_format=True for consistent parsing.\n",
      "  cache_array = _maybe_cache(arg, format, cache, convert_listlike)\n",
      "/Users/satishkumarsahu/.pyenv/customer_segmentation/lib/python3.10/site-packages/pandas/core/tools/datetimes.py:1047: UserWarning: Parsing '18-04-2019' in DD/MM/YYYY format. Provide format or specify infer_datetime_format=True for consistent parsing.\n",
      "  cache_array = _maybe_cache(arg, format, cache, convert_listlike)\n",
      "/Users/satishkumarsahu/.pyenv/customer_segmentation/lib/python3.10/site-packages/pandas/core/tools/datetimes.py:1047: UserWarning: Parsing '19-04-2019' in DD/MM/YYYY format. Provide format or specify infer_datetime_format=True for consistent parsing.\n",
      "  cache_array = _maybe_cache(arg, format, cache, convert_listlike)\n",
      "/Users/satishkumarsahu/.pyenv/customer_segmentation/lib/python3.10/site-packages/pandas/core/tools/datetimes.py:1047: UserWarning: Parsing '20-04-2019' in DD/MM/YYYY format. Provide format or specify infer_datetime_format=True for consistent parsing.\n",
      "  cache_array = _maybe_cache(arg, format, cache, convert_listlike)\n",
      "/Users/satishkumarsahu/.pyenv/customer_segmentation/lib/python3.10/site-packages/pandas/core/tools/datetimes.py:1047: UserWarning: Parsing '22-04-2019' in DD/MM/YYYY format. Provide format or specify infer_datetime_format=True for consistent parsing.\n",
      "  cache_array = _maybe_cache(arg, format, cache, convert_listlike)\n",
      "/Users/satishkumarsahu/.pyenv/customer_segmentation/lib/python3.10/site-packages/pandas/core/tools/datetimes.py:1047: UserWarning: Parsing '23-04-2019' in DD/MM/YYYY format. Provide format or specify infer_datetime_format=True for consistent parsing.\n",
      "  cache_array = _maybe_cache(arg, format, cache, convert_listlike)\n",
      "/Users/satishkumarsahu/.pyenv/customer_segmentation/lib/python3.10/site-packages/pandas/core/tools/datetimes.py:1047: UserWarning: Parsing '24-04-2019' in DD/MM/YYYY format. Provide format or specify infer_datetime_format=True for consistent parsing.\n",
      "  cache_array = _maybe_cache(arg, format, cache, convert_listlike)\n",
      "/Users/satishkumarsahu/.pyenv/customer_segmentation/lib/python3.10/site-packages/pandas/core/tools/datetimes.py:1047: UserWarning: Parsing '25-04-2019' in DD/MM/YYYY format. Provide format or specify infer_datetime_format=True for consistent parsing.\n",
      "  cache_array = _maybe_cache(arg, format, cache, convert_listlike)\n",
      "/Users/satishkumarsahu/.pyenv/customer_segmentation/lib/python3.10/site-packages/pandas/core/tools/datetimes.py:1047: UserWarning: Parsing '26-04-2019' in DD/MM/YYYY format. Provide format or specify infer_datetime_format=True for consistent parsing.\n",
      "  cache_array = _maybe_cache(arg, format, cache, convert_listlike)\n",
      "/Users/satishkumarsahu/.pyenv/customer_segmentation/lib/python3.10/site-packages/pandas/core/tools/datetimes.py:1047: UserWarning: Parsing '27-04-2019' in DD/MM/YYYY format. Provide format or specify infer_datetime_format=True for consistent parsing.\n",
      "  cache_array = _maybe_cache(arg, format, cache, convert_listlike)\n",
      "/Users/satishkumarsahu/.pyenv/customer_segmentation/lib/python3.10/site-packages/pandas/core/tools/datetimes.py:1047: UserWarning: Parsing '29-04-2019' in DD/MM/YYYY format. Provide format or specify infer_datetime_format=True for consistent parsing.\n",
      "  cache_array = _maybe_cache(arg, format, cache, convert_listlike)\n",
      "/Users/satishkumarsahu/.pyenv/customer_segmentation/lib/python3.10/site-packages/pandas/core/tools/datetimes.py:1047: UserWarning: Parsing '30-04-2019' in DD/MM/YYYY format. Provide format or specify infer_datetime_format=True for consistent parsing.\n",
      "  cache_array = _maybe_cache(arg, format, cache, convert_listlike)\n",
      "/Users/satishkumarsahu/.pyenv/customer_segmentation/lib/python3.10/site-packages/pandas/core/tools/datetimes.py:1047: UserWarning: Parsing '13-05-2019' in DD/MM/YYYY format. Provide format or specify infer_datetime_format=True for consistent parsing.\n",
      "  cache_array = _maybe_cache(arg, format, cache, convert_listlike)\n",
      "/Users/satishkumarsahu/.pyenv/customer_segmentation/lib/python3.10/site-packages/pandas/core/tools/datetimes.py:1047: UserWarning: Parsing '15-05-2019' in DD/MM/YYYY format. Provide format or specify infer_datetime_format=True for consistent parsing.\n",
      "  cache_array = _maybe_cache(arg, format, cache, convert_listlike)\n",
      "/Users/satishkumarsahu/.pyenv/customer_segmentation/lib/python3.10/site-packages/pandas/core/tools/datetimes.py:1047: UserWarning: Parsing '18-05-2019' in DD/MM/YYYY format. Provide format or specify infer_datetime_format=True for consistent parsing.\n",
      "  cache_array = _maybe_cache(arg, format, cache, convert_listlike)\n",
      "/Users/satishkumarsahu/.pyenv/customer_segmentation/lib/python3.10/site-packages/pandas/core/tools/datetimes.py:1047: UserWarning: Parsing '20-05-2019' in DD/MM/YYYY format. Provide format or specify infer_datetime_format=True for consistent parsing.\n",
      "  cache_array = _maybe_cache(arg, format, cache, convert_listlike)\n",
      "/Users/satishkumarsahu/.pyenv/customer_segmentation/lib/python3.10/site-packages/pandas/core/tools/datetimes.py:1047: UserWarning: Parsing '21-05-2019' in DD/MM/YYYY format. Provide format or specify infer_datetime_format=True for consistent parsing.\n",
      "  cache_array = _maybe_cache(arg, format, cache, convert_listlike)\n",
      "/Users/satishkumarsahu/.pyenv/customer_segmentation/lib/python3.10/site-packages/pandas/core/tools/datetimes.py:1047: UserWarning: Parsing '22-05-2019' in DD/MM/YYYY format. Provide format or specify infer_datetime_format=True for consistent parsing.\n",
      "  cache_array = _maybe_cache(arg, format, cache, convert_listlike)\n",
      "/Users/satishkumarsahu/.pyenv/customer_segmentation/lib/python3.10/site-packages/pandas/core/tools/datetimes.py:1047: UserWarning: Parsing '23-05-2019' in DD/MM/YYYY format. Provide format or specify infer_datetime_format=True for consistent parsing.\n",
      "  cache_array = _maybe_cache(arg, format, cache, convert_listlike)\n",
      "/Users/satishkumarsahu/.pyenv/customer_segmentation/lib/python3.10/site-packages/pandas/core/tools/datetimes.py:1047: UserWarning: Parsing '24-05-2019' in DD/MM/YYYY format. Provide format or specify infer_datetime_format=True for consistent parsing.\n",
      "  cache_array = _maybe_cache(arg, format, cache, convert_listlike)\n",
      "/Users/satishkumarsahu/.pyenv/customer_segmentation/lib/python3.10/site-packages/pandas/core/tools/datetimes.py:1047: UserWarning: Parsing '25-05-2019' in DD/MM/YYYY format. Provide format or specify infer_datetime_format=True for consistent parsing.\n",
      "  cache_array = _maybe_cache(arg, format, cache, convert_listlike)\n",
      "/Users/satishkumarsahu/.pyenv/customer_segmentation/lib/python3.10/site-packages/pandas/core/tools/datetimes.py:1047: UserWarning: Parsing '27-05-2019' in DD/MM/YYYY format. Provide format or specify infer_datetime_format=True for consistent parsing.\n",
      "  cache_array = _maybe_cache(arg, format, cache, convert_listlike)\n",
      "/Users/satishkumarsahu/.pyenv/customer_segmentation/lib/python3.10/site-packages/pandas/core/tools/datetimes.py:1047: UserWarning: Parsing '28-05-2019' in DD/MM/YYYY format. Provide format or specify infer_datetime_format=True for consistent parsing.\n",
      "  cache_array = _maybe_cache(arg, format, cache, convert_listlike)\n",
      "/Users/satishkumarsahu/.pyenv/customer_segmentation/lib/python3.10/site-packages/pandas/core/tools/datetimes.py:1047: UserWarning: Parsing '29-05-2019' in DD/MM/YYYY format. Provide format or specify infer_datetime_format=True for consistent parsing.\n",
      "  cache_array = _maybe_cache(arg, format, cache, convert_listlike)\n",
      "/Users/satishkumarsahu/.pyenv/customer_segmentation/lib/python3.10/site-packages/pandas/core/tools/datetimes.py:1047: UserWarning: Parsing '31-05-2019' in DD/MM/YYYY format. Provide format or specify infer_datetime_format=True for consistent parsing.\n",
      "  cache_array = _maybe_cache(arg, format, cache, convert_listlike)\n",
      "/Users/satishkumarsahu/.pyenv/customer_segmentation/lib/python3.10/site-packages/pandas/core/tools/datetimes.py:1047: UserWarning: Parsing '13-06-2019' in DD/MM/YYYY format. Provide format or specify infer_datetime_format=True for consistent parsing.\n",
      "  cache_array = _maybe_cache(arg, format, cache, convert_listlike)\n",
      "/Users/satishkumarsahu/.pyenv/customer_segmentation/lib/python3.10/site-packages/pandas/core/tools/datetimes.py:1047: UserWarning: Parsing '14-06-2019' in DD/MM/YYYY format. Provide format or specify infer_datetime_format=True for consistent parsing.\n",
      "  cache_array = _maybe_cache(arg, format, cache, convert_listlike)\n",
      "/Users/satishkumarsahu/.pyenv/customer_segmentation/lib/python3.10/site-packages/pandas/core/tools/datetimes.py:1047: UserWarning: Parsing '15-06-2019' in DD/MM/YYYY format. Provide format or specify infer_datetime_format=True for consistent parsing.\n",
      "  cache_array = _maybe_cache(arg, format, cache, convert_listlike)\n",
      "/Users/satishkumarsahu/.pyenv/customer_segmentation/lib/python3.10/site-packages/pandas/core/tools/datetimes.py:1047: UserWarning: Parsing '17-06-2019' in DD/MM/YYYY format. Provide format or specify infer_datetime_format=True for consistent parsing.\n",
      "  cache_array = _maybe_cache(arg, format, cache, convert_listlike)\n",
      "/Users/satishkumarsahu/.pyenv/customer_segmentation/lib/python3.10/site-packages/pandas/core/tools/datetimes.py:1047: UserWarning: Parsing '18-06-2019' in DD/MM/YYYY format. Provide format or specify infer_datetime_format=True for consistent parsing.\n",
      "  cache_array = _maybe_cache(arg, format, cache, convert_listlike)\n",
      "/Users/satishkumarsahu/.pyenv/customer_segmentation/lib/python3.10/site-packages/pandas/core/tools/datetimes.py:1047: UserWarning: Parsing '19-06-2019' in DD/MM/YYYY format. Provide format or specify infer_datetime_format=True for consistent parsing.\n",
      "  cache_array = _maybe_cache(arg, format, cache, convert_listlike)\n",
      "/Users/satishkumarsahu/.pyenv/customer_segmentation/lib/python3.10/site-packages/pandas/core/tools/datetimes.py:1047: UserWarning: Parsing '20-06-2019' in DD/MM/YYYY format. Provide format or specify infer_datetime_format=True for consistent parsing.\n",
      "  cache_array = _maybe_cache(arg, format, cache, convert_listlike)\n",
      "/Users/satishkumarsahu/.pyenv/customer_segmentation/lib/python3.10/site-packages/pandas/core/tools/datetimes.py:1047: UserWarning: Parsing '21-06-2019' in DD/MM/YYYY format. Provide format or specify infer_datetime_format=True for consistent parsing.\n",
      "  cache_array = _maybe_cache(arg, format, cache, convert_listlike)\n",
      "/Users/satishkumarsahu/.pyenv/customer_segmentation/lib/python3.10/site-packages/pandas/core/tools/datetimes.py:1047: UserWarning: Parsing '22-06-2019' in DD/MM/YYYY format. Provide format or specify infer_datetime_format=True for consistent parsing.\n",
      "  cache_array = _maybe_cache(arg, format, cache, convert_listlike)\n",
      "/Users/satishkumarsahu/.pyenv/customer_segmentation/lib/python3.10/site-packages/pandas/core/tools/datetimes.py:1047: UserWarning: Parsing '24-06-2019' in DD/MM/YYYY format. Provide format or specify infer_datetime_format=True for consistent parsing.\n",
      "  cache_array = _maybe_cache(arg, format, cache, convert_listlike)\n",
      "/Users/satishkumarsahu/.pyenv/customer_segmentation/lib/python3.10/site-packages/pandas/core/tools/datetimes.py:1047: UserWarning: Parsing '25-06-2019' in DD/MM/YYYY format. Provide format or specify infer_datetime_format=True for consistent parsing.\n",
      "  cache_array = _maybe_cache(arg, format, cache, convert_listlike)\n",
      "/Users/satishkumarsahu/.pyenv/customer_segmentation/lib/python3.10/site-packages/pandas/core/tools/datetimes.py:1047: UserWarning: Parsing '26-06-2019' in DD/MM/YYYY format. Provide format or specify infer_datetime_format=True for consistent parsing.\n",
      "  cache_array = _maybe_cache(arg, format, cache, convert_listlike)\n",
      "/Users/satishkumarsahu/.pyenv/customer_segmentation/lib/python3.10/site-packages/pandas/core/tools/datetimes.py:1047: UserWarning: Parsing '27-06-2019' in DD/MM/YYYY format. Provide format or specify infer_datetime_format=True for consistent parsing.\n",
      "  cache_array = _maybe_cache(arg, format, cache, convert_listlike)\n",
      "/Users/satishkumarsahu/.pyenv/customer_segmentation/lib/python3.10/site-packages/pandas/core/tools/datetimes.py:1047: UserWarning: Parsing '28-06-2019' in DD/MM/YYYY format. Provide format or specify infer_datetime_format=True for consistent parsing.\n",
      "  cache_array = _maybe_cache(arg, format, cache, convert_listlike)\n",
      "/Users/satishkumarsahu/.pyenv/customer_segmentation/lib/python3.10/site-packages/pandas/core/tools/datetimes.py:1047: UserWarning: Parsing '29-06-2019' in DD/MM/YYYY format. Provide format or specify infer_datetime_format=True for consistent parsing.\n",
      "  cache_array = _maybe_cache(arg, format, cache, convert_listlike)\n",
      "/Users/satishkumarsahu/.pyenv/customer_segmentation/lib/python3.10/site-packages/pandas/core/tools/datetimes.py:1047: UserWarning: Parsing '30-06-2019' in DD/MM/YYYY format. Provide format or specify infer_datetime_format=True for consistent parsing.\n",
      "  cache_array = _maybe_cache(arg, format, cache, convert_listlike)\n",
      "/Users/satishkumarsahu/.pyenv/customer_segmentation/lib/python3.10/site-packages/pandas/core/tools/datetimes.py:1047: UserWarning: Parsing '16-07-2019' in DD/MM/YYYY format. Provide format or specify infer_datetime_format=True for consistent parsing.\n",
      "  cache_array = _maybe_cache(arg, format, cache, convert_listlike)\n",
      "/Users/satishkumarsahu/.pyenv/customer_segmentation/lib/python3.10/site-packages/pandas/core/tools/datetimes.py:1047: UserWarning: Parsing '17-07-2019' in DD/MM/YYYY format. Provide format or specify infer_datetime_format=True for consistent parsing.\n",
      "  cache_array = _maybe_cache(arg, format, cache, convert_listlike)\n",
      "/Users/satishkumarsahu/.pyenv/customer_segmentation/lib/python3.10/site-packages/pandas/core/tools/datetimes.py:1047: UserWarning: Parsing '18-07-2019' in DD/MM/YYYY format. Provide format or specify infer_datetime_format=True for consistent parsing.\n",
      "  cache_array = _maybe_cache(arg, format, cache, convert_listlike)\n",
      "/Users/satishkumarsahu/.pyenv/customer_segmentation/lib/python3.10/site-packages/pandas/core/tools/datetimes.py:1047: UserWarning: Parsing '19-07-2019' in DD/MM/YYYY format. Provide format or specify infer_datetime_format=True for consistent parsing.\n",
      "  cache_array = _maybe_cache(arg, format, cache, convert_listlike)\n",
      "/Users/satishkumarsahu/.pyenv/customer_segmentation/lib/python3.10/site-packages/pandas/core/tools/datetimes.py:1047: UserWarning: Parsing '20-07-2019' in DD/MM/YYYY format. Provide format or specify infer_datetime_format=True for consistent parsing.\n",
      "  cache_array = _maybe_cache(arg, format, cache, convert_listlike)\n",
      "/Users/satishkumarsahu/.pyenv/customer_segmentation/lib/python3.10/site-packages/pandas/core/tools/datetimes.py:1047: UserWarning: Parsing '22-07-2019' in DD/MM/YYYY format. Provide format or specify infer_datetime_format=True for consistent parsing.\n",
      "  cache_array = _maybe_cache(arg, format, cache, convert_listlike)\n",
      "/Users/satishkumarsahu/.pyenv/customer_segmentation/lib/python3.10/site-packages/pandas/core/tools/datetimes.py:1047: UserWarning: Parsing '23-07-2019' in DD/MM/YYYY format. Provide format or specify infer_datetime_format=True for consistent parsing.\n",
      "  cache_array = _maybe_cache(arg, format, cache, convert_listlike)\n",
      "/Users/satishkumarsahu/.pyenv/customer_segmentation/lib/python3.10/site-packages/pandas/core/tools/datetimes.py:1047: UserWarning: Parsing '24-07-2019' in DD/MM/YYYY format. Provide format or specify infer_datetime_format=True for consistent parsing.\n",
      "  cache_array = _maybe_cache(arg, format, cache, convert_listlike)\n",
      "/Users/satishkumarsahu/.pyenv/customer_segmentation/lib/python3.10/site-packages/pandas/core/tools/datetimes.py:1047: UserWarning: Parsing '25-07-2019' in DD/MM/YYYY format. Provide format or specify infer_datetime_format=True for consistent parsing.\n",
      "  cache_array = _maybe_cache(arg, format, cache, convert_listlike)\n",
      "/Users/satishkumarsahu/.pyenv/customer_segmentation/lib/python3.10/site-packages/pandas/core/tools/datetimes.py:1047: UserWarning: Parsing '26-07-2019' in DD/MM/YYYY format. Provide format or specify infer_datetime_format=True for consistent parsing.\n",
      "  cache_array = _maybe_cache(arg, format, cache, convert_listlike)\n",
      "/Users/satishkumarsahu/.pyenv/customer_segmentation/lib/python3.10/site-packages/pandas/core/tools/datetimes.py:1047: UserWarning: Parsing '27-07-2019' in DD/MM/YYYY format. Provide format or specify infer_datetime_format=True for consistent parsing.\n",
      "  cache_array = _maybe_cache(arg, format, cache, convert_listlike)\n",
      "/Users/satishkumarsahu/.pyenv/customer_segmentation/lib/python3.10/site-packages/pandas/core/tools/datetimes.py:1047: UserWarning: Parsing '29-07-2019' in DD/MM/YYYY format. Provide format or specify infer_datetime_format=True for consistent parsing.\n",
      "  cache_array = _maybe_cache(arg, format, cache, convert_listlike)\n",
      "/Users/satishkumarsahu/.pyenv/customer_segmentation/lib/python3.10/site-packages/pandas/core/tools/datetimes.py:1047: UserWarning: Parsing '30-07-2019' in DD/MM/YYYY format. Provide format or specify infer_datetime_format=True for consistent parsing.\n",
      "  cache_array = _maybe_cache(arg, format, cache, convert_listlike)\n",
      "/Users/satishkumarsahu/.pyenv/customer_segmentation/lib/python3.10/site-packages/pandas/core/tools/datetimes.py:1047: UserWarning: Parsing '31-07-2019' in DD/MM/YYYY format. Provide format or specify infer_datetime_format=True for consistent parsing.\n",
      "  cache_array = _maybe_cache(arg, format, cache, convert_listlike)\n",
      "/Users/satishkumarsahu/.pyenv/customer_segmentation/lib/python3.10/site-packages/pandas/core/tools/datetimes.py:1047: UserWarning: Parsing '13-08-2019' in DD/MM/YYYY format. Provide format or specify infer_datetime_format=True for consistent parsing.\n",
      "  cache_array = _maybe_cache(arg, format, cache, convert_listlike)\n",
      "/Users/satishkumarsahu/.pyenv/customer_segmentation/lib/python3.10/site-packages/pandas/core/tools/datetimes.py:1047: UserWarning: Parsing '14-08-2019' in DD/MM/YYYY format. Provide format or specify infer_datetime_format=True for consistent parsing.\n",
      "  cache_array = _maybe_cache(arg, format, cache, convert_listlike)\n",
      "/Users/satishkumarsahu/.pyenv/customer_segmentation/lib/python3.10/site-packages/pandas/core/tools/datetimes.py:1047: UserWarning: Parsing '16-08-2019' in DD/MM/YYYY format. Provide format or specify infer_datetime_format=True for consistent parsing.\n",
      "  cache_array = _maybe_cache(arg, format, cache, convert_listlike)\n",
      "/Users/satishkumarsahu/.pyenv/customer_segmentation/lib/python3.10/site-packages/pandas/core/tools/datetimes.py:1047: UserWarning: Parsing '17-08-2019' in DD/MM/YYYY format. Provide format or specify infer_datetime_format=True for consistent parsing.\n",
      "  cache_array = _maybe_cache(arg, format, cache, convert_listlike)\n",
      "/Users/satishkumarsahu/.pyenv/customer_segmentation/lib/python3.10/site-packages/pandas/core/tools/datetimes.py:1047: UserWarning: Parsing '19-08-2019' in DD/MM/YYYY format. Provide format or specify infer_datetime_format=True for consistent parsing.\n",
      "  cache_array = _maybe_cache(arg, format, cache, convert_listlike)\n",
      "/Users/satishkumarsahu/.pyenv/customer_segmentation/lib/python3.10/site-packages/pandas/core/tools/datetimes.py:1047: UserWarning: Parsing '20-08-2019' in DD/MM/YYYY format. Provide format or specify infer_datetime_format=True for consistent parsing.\n",
      "  cache_array = _maybe_cache(arg, format, cache, convert_listlike)\n",
      "/Users/satishkumarsahu/.pyenv/customer_segmentation/lib/python3.10/site-packages/pandas/core/tools/datetimes.py:1047: UserWarning: Parsing '21-08-2019' in DD/MM/YYYY format. Provide format or specify infer_datetime_format=True for consistent parsing.\n",
      "  cache_array = _maybe_cache(arg, format, cache, convert_listlike)\n",
      "/Users/satishkumarsahu/.pyenv/customer_segmentation/lib/python3.10/site-packages/pandas/core/tools/datetimes.py:1047: UserWarning: Parsing '23-08-2019' in DD/MM/YYYY format. Provide format or specify infer_datetime_format=True for consistent parsing.\n",
      "  cache_array = _maybe_cache(arg, format, cache, convert_listlike)\n",
      "/Users/satishkumarsahu/.pyenv/customer_segmentation/lib/python3.10/site-packages/pandas/core/tools/datetimes.py:1047: UserWarning: Parsing '26-08-2019' in DD/MM/YYYY format. Provide format or specify infer_datetime_format=True for consistent parsing.\n",
      "  cache_array = _maybe_cache(arg, format, cache, convert_listlike)\n",
      "/Users/satishkumarsahu/.pyenv/customer_segmentation/lib/python3.10/site-packages/pandas/core/tools/datetimes.py:1047: UserWarning: Parsing '27-08-2019' in DD/MM/YYYY format. Provide format or specify infer_datetime_format=True for consistent parsing.\n",
      "  cache_array = _maybe_cache(arg, format, cache, convert_listlike)\n",
      "/Users/satishkumarsahu/.pyenv/customer_segmentation/lib/python3.10/site-packages/pandas/core/tools/datetimes.py:1047: UserWarning: Parsing '28-08-2019' in DD/MM/YYYY format. Provide format or specify infer_datetime_format=True for consistent parsing.\n",
      "  cache_array = _maybe_cache(arg, format, cache, convert_listlike)\n",
      "/Users/satishkumarsahu/.pyenv/customer_segmentation/lib/python3.10/site-packages/pandas/core/tools/datetimes.py:1047: UserWarning: Parsing '29-08-2019' in DD/MM/YYYY format. Provide format or specify infer_datetime_format=True for consistent parsing.\n",
      "  cache_array = _maybe_cache(arg, format, cache, convert_listlike)\n",
      "/Users/satishkumarsahu/.pyenv/customer_segmentation/lib/python3.10/site-packages/pandas/core/tools/datetimes.py:1047: UserWarning: Parsing '30-08-2019' in DD/MM/YYYY format. Provide format or specify infer_datetime_format=True for consistent parsing.\n",
      "  cache_array = _maybe_cache(arg, format, cache, convert_listlike)\n",
      "/Users/satishkumarsahu/.pyenv/customer_segmentation/lib/python3.10/site-packages/pandas/core/tools/datetimes.py:1047: UserWarning: Parsing '31-08-2019' in DD/MM/YYYY format. Provide format or specify infer_datetime_format=True for consistent parsing.\n",
      "  cache_array = _maybe_cache(arg, format, cache, convert_listlike)\n",
      "/Users/satishkumarsahu/.pyenv/customer_segmentation/lib/python3.10/site-packages/pandas/core/tools/datetimes.py:1047: UserWarning: Parsing '13-09-2019' in DD/MM/YYYY format. Provide format or specify infer_datetime_format=True for consistent parsing.\n",
      "  cache_array = _maybe_cache(arg, format, cache, convert_listlike)\n",
      "/Users/satishkumarsahu/.pyenv/customer_segmentation/lib/python3.10/site-packages/pandas/core/tools/datetimes.py:1047: UserWarning: Parsing '14-09-2019' in DD/MM/YYYY format. Provide format or specify infer_datetime_format=True for consistent parsing.\n",
      "  cache_array = _maybe_cache(arg, format, cache, convert_listlike)\n",
      "/Users/satishkumarsahu/.pyenv/customer_segmentation/lib/python3.10/site-packages/pandas/core/tools/datetimes.py:1047: UserWarning: Parsing '16-09-2019' in DD/MM/YYYY format. Provide format or specify infer_datetime_format=True for consistent parsing.\n",
      "  cache_array = _maybe_cache(arg, format, cache, convert_listlike)\n",
      "/Users/satishkumarsahu/.pyenv/customer_segmentation/lib/python3.10/site-packages/pandas/core/tools/datetimes.py:1047: UserWarning: Parsing '17-09-2019' in DD/MM/YYYY format. Provide format or specify infer_datetime_format=True for consistent parsing.\n",
      "  cache_array = _maybe_cache(arg, format, cache, convert_listlike)\n",
      "/Users/satishkumarsahu/.pyenv/customer_segmentation/lib/python3.10/site-packages/pandas/core/tools/datetimes.py:1047: UserWarning: Parsing '18-09-2019' in DD/MM/YYYY format. Provide format or specify infer_datetime_format=True for consistent parsing.\n",
      "  cache_array = _maybe_cache(arg, format, cache, convert_listlike)\n",
      "/Users/satishkumarsahu/.pyenv/customer_segmentation/lib/python3.10/site-packages/pandas/core/tools/datetimes.py:1047: UserWarning: Parsing '19-09-2019' in DD/MM/YYYY format. Provide format or specify infer_datetime_format=True for consistent parsing.\n",
      "  cache_array = _maybe_cache(arg, format, cache, convert_listlike)\n",
      "/Users/satishkumarsahu/.pyenv/customer_segmentation/lib/python3.10/site-packages/pandas/core/tools/datetimes.py:1047: UserWarning: Parsing '20-09-2019' in DD/MM/YYYY format. Provide format or specify infer_datetime_format=True for consistent parsing.\n",
      "  cache_array = _maybe_cache(arg, format, cache, convert_listlike)\n",
      "/Users/satishkumarsahu/.pyenv/customer_segmentation/lib/python3.10/site-packages/pandas/core/tools/datetimes.py:1047: UserWarning: Parsing '21-09-2019' in DD/MM/YYYY format. Provide format or specify infer_datetime_format=True for consistent parsing.\n",
      "  cache_array = _maybe_cache(arg, format, cache, convert_listlike)\n",
      "/Users/satishkumarsahu/.pyenv/customer_segmentation/lib/python3.10/site-packages/pandas/core/tools/datetimes.py:1047: UserWarning: Parsing '23-09-2019' in DD/MM/YYYY format. Provide format or specify infer_datetime_format=True for consistent parsing.\n",
      "  cache_array = _maybe_cache(arg, format, cache, convert_listlike)\n",
      "/Users/satishkumarsahu/.pyenv/customer_segmentation/lib/python3.10/site-packages/pandas/core/tools/datetimes.py:1047: UserWarning: Parsing '24-09-2019' in DD/MM/YYYY format. Provide format or specify infer_datetime_format=True for consistent parsing.\n",
      "  cache_array = _maybe_cache(arg, format, cache, convert_listlike)\n",
      "/Users/satishkumarsahu/.pyenv/customer_segmentation/lib/python3.10/site-packages/pandas/core/tools/datetimes.py:1047: UserWarning: Parsing '25-09-2019' in DD/MM/YYYY format. Provide format or specify infer_datetime_format=True for consistent parsing.\n",
      "  cache_array = _maybe_cache(arg, format, cache, convert_listlike)\n",
      "/Users/satishkumarsahu/.pyenv/customer_segmentation/lib/python3.10/site-packages/pandas/core/tools/datetimes.py:1047: UserWarning: Parsing '26-09-2019' in DD/MM/YYYY format. Provide format or specify infer_datetime_format=True for consistent parsing.\n",
      "  cache_array = _maybe_cache(arg, format, cache, convert_listlike)\n",
      "/Users/satishkumarsahu/.pyenv/customer_segmentation/lib/python3.10/site-packages/pandas/core/tools/datetimes.py:1047: UserWarning: Parsing '27-09-2019' in DD/MM/YYYY format. Provide format or specify infer_datetime_format=True for consistent parsing.\n",
      "  cache_array = _maybe_cache(arg, format, cache, convert_listlike)\n",
      "/Users/satishkumarsahu/.pyenv/customer_segmentation/lib/python3.10/site-packages/pandas/core/tools/datetimes.py:1047: UserWarning: Parsing '30-09-2019' in DD/MM/YYYY format. Provide format or specify infer_datetime_format=True for consistent parsing.\n",
      "  cache_array = _maybe_cache(arg, format, cache, convert_listlike)\n",
      "/Users/satishkumarsahu/.pyenv/customer_segmentation/lib/python3.10/site-packages/pandas/core/tools/datetimes.py:1047: UserWarning: Parsing '14-10-2019' in DD/MM/YYYY format. Provide format or specify infer_datetime_format=True for consistent parsing.\n",
      "  cache_array = _maybe_cache(arg, format, cache, convert_listlike)\n",
      "/Users/satishkumarsahu/.pyenv/customer_segmentation/lib/python3.10/site-packages/pandas/core/tools/datetimes.py:1047: UserWarning: Parsing '15-10-2019' in DD/MM/YYYY format. Provide format or specify infer_datetime_format=True for consistent parsing.\n",
      "  cache_array = _maybe_cache(arg, format, cache, convert_listlike)\n",
      "/Users/satishkumarsahu/.pyenv/customer_segmentation/lib/python3.10/site-packages/pandas/core/tools/datetimes.py:1047: UserWarning: Parsing '16-10-2019' in DD/MM/YYYY format. Provide format or specify infer_datetime_format=True for consistent parsing.\n",
      "  cache_array = _maybe_cache(arg, format, cache, convert_listlike)\n",
      "/Users/satishkumarsahu/.pyenv/customer_segmentation/lib/python3.10/site-packages/pandas/core/tools/datetimes.py:1047: UserWarning: Parsing '18-10-2019' in DD/MM/YYYY format. Provide format or specify infer_datetime_format=True for consistent parsing.\n",
      "  cache_array = _maybe_cache(arg, format, cache, convert_listlike)\n",
      "/Users/satishkumarsahu/.pyenv/customer_segmentation/lib/python3.10/site-packages/pandas/core/tools/datetimes.py:1047: UserWarning: Parsing '19-10-2019' in DD/MM/YYYY format. Provide format or specify infer_datetime_format=True for consistent parsing.\n",
      "  cache_array = _maybe_cache(arg, format, cache, convert_listlike)\n",
      "/Users/satishkumarsahu/.pyenv/customer_segmentation/lib/python3.10/site-packages/pandas/core/tools/datetimes.py:1047: UserWarning: Parsing '22-10-2019' in DD/MM/YYYY format. Provide format or specify infer_datetime_format=True for consistent parsing.\n",
      "  cache_array = _maybe_cache(arg, format, cache, convert_listlike)\n",
      "/Users/satishkumarsahu/.pyenv/customer_segmentation/lib/python3.10/site-packages/pandas/core/tools/datetimes.py:1047: UserWarning: Parsing '24-10-2019' in DD/MM/YYYY format. Provide format or specify infer_datetime_format=True for consistent parsing.\n",
      "  cache_array = _maybe_cache(arg, format, cache, convert_listlike)\n",
      "/Users/satishkumarsahu/.pyenv/customer_segmentation/lib/python3.10/site-packages/pandas/core/tools/datetimes.py:1047: UserWarning: Parsing '25-10-2019' in DD/MM/YYYY format. Provide format or specify infer_datetime_format=True for consistent parsing.\n",
      "  cache_array = _maybe_cache(arg, format, cache, convert_listlike)\n",
      "/Users/satishkumarsahu/.pyenv/customer_segmentation/lib/python3.10/site-packages/pandas/core/tools/datetimes.py:1047: UserWarning: Parsing '26-10-2019' in DD/MM/YYYY format. Provide format or specify infer_datetime_format=True for consistent parsing.\n",
      "  cache_array = _maybe_cache(arg, format, cache, convert_listlike)\n",
      "/Users/satishkumarsahu/.pyenv/customer_segmentation/lib/python3.10/site-packages/pandas/core/tools/datetimes.py:1047: UserWarning: Parsing '29-10-2019' in DD/MM/YYYY format. Provide format or specify infer_datetime_format=True for consistent parsing.\n",
      "  cache_array = _maybe_cache(arg, format, cache, convert_listlike)\n",
      "/Users/satishkumarsahu/.pyenv/customer_segmentation/lib/python3.10/site-packages/pandas/core/tools/datetimes.py:1047: UserWarning: Parsing '30-10-2019' in DD/MM/YYYY format. Provide format or specify infer_datetime_format=True for consistent parsing.\n",
      "  cache_array = _maybe_cache(arg, format, cache, convert_listlike)\n",
      "/Users/satishkumarsahu/.pyenv/customer_segmentation/lib/python3.10/site-packages/pandas/core/tools/datetimes.py:1047: UserWarning: Parsing '31-10-2019' in DD/MM/YYYY format. Provide format or specify infer_datetime_format=True for consistent parsing.\n",
      "  cache_array = _maybe_cache(arg, format, cache, convert_listlike)\n",
      "/Users/satishkumarsahu/.pyenv/customer_segmentation/lib/python3.10/site-packages/pandas/core/tools/datetimes.py:1047: UserWarning: Parsing '13-11-2019' in DD/MM/YYYY format. Provide format or specify infer_datetime_format=True for consistent parsing.\n",
      "  cache_array = _maybe_cache(arg, format, cache, convert_listlike)\n",
      "/Users/satishkumarsahu/.pyenv/customer_segmentation/lib/python3.10/site-packages/pandas/core/tools/datetimes.py:1047: UserWarning: Parsing '14-11-2019' in DD/MM/YYYY format. Provide format or specify infer_datetime_format=True for consistent parsing.\n",
      "  cache_array = _maybe_cache(arg, format, cache, convert_listlike)\n",
      "/Users/satishkumarsahu/.pyenv/customer_segmentation/lib/python3.10/site-packages/pandas/core/tools/datetimes.py:1047: UserWarning: Parsing '16-11-2019' in DD/MM/YYYY format. Provide format or specify infer_datetime_format=True for consistent parsing.\n",
      "  cache_array = _maybe_cache(arg, format, cache, convert_listlike)\n",
      "/Users/satishkumarsahu/.pyenv/customer_segmentation/lib/python3.10/site-packages/pandas/core/tools/datetimes.py:1047: UserWarning: Parsing '18-11-2019' in DD/MM/YYYY format. Provide format or specify infer_datetime_format=True for consistent parsing.\n",
      "  cache_array = _maybe_cache(arg, format, cache, convert_listlike)\n",
      "/Users/satishkumarsahu/.pyenv/customer_segmentation/lib/python3.10/site-packages/pandas/core/tools/datetimes.py:1047: UserWarning: Parsing '19-11-2019' in DD/MM/YYYY format. Provide format or specify infer_datetime_format=True for consistent parsing.\n",
      "  cache_array = _maybe_cache(arg, format, cache, convert_listlike)\n",
      "/Users/satishkumarsahu/.pyenv/customer_segmentation/lib/python3.10/site-packages/pandas/core/tools/datetimes.py:1047: UserWarning: Parsing '20-11-2019' in DD/MM/YYYY format. Provide format or specify infer_datetime_format=True for consistent parsing.\n",
      "  cache_array = _maybe_cache(arg, format, cache, convert_listlike)\n",
      "/Users/satishkumarsahu/.pyenv/customer_segmentation/lib/python3.10/site-packages/pandas/core/tools/datetimes.py:1047: UserWarning: Parsing '21-11-2019' in DD/MM/YYYY format. Provide format or specify infer_datetime_format=True for consistent parsing.\n",
      "  cache_array = _maybe_cache(arg, format, cache, convert_listlike)\n",
      "/Users/satishkumarsahu/.pyenv/customer_segmentation/lib/python3.10/site-packages/pandas/core/tools/datetimes.py:1047: UserWarning: Parsing '22-11-2019' in DD/MM/YYYY format. Provide format or specify infer_datetime_format=True for consistent parsing.\n",
      "  cache_array = _maybe_cache(arg, format, cache, convert_listlike)\n",
      "/Users/satishkumarsahu/.pyenv/customer_segmentation/lib/python3.10/site-packages/pandas/core/tools/datetimes.py:1047: UserWarning: Parsing '23-11-2019' in DD/MM/YYYY format. Provide format or specify infer_datetime_format=True for consistent parsing.\n",
      "  cache_array = _maybe_cache(arg, format, cache, convert_listlike)\n",
      "/Users/satishkumarsahu/.pyenv/customer_segmentation/lib/python3.10/site-packages/pandas/core/tools/datetimes.py:1047: UserWarning: Parsing '26-11-2019' in DD/MM/YYYY format. Provide format or specify infer_datetime_format=True for consistent parsing.\n",
      "  cache_array = _maybe_cache(arg, format, cache, convert_listlike)\n",
      "/Users/satishkumarsahu/.pyenv/customer_segmentation/lib/python3.10/site-packages/pandas/core/tools/datetimes.py:1047: UserWarning: Parsing '27-11-2019' in DD/MM/YYYY format. Provide format or specify infer_datetime_format=True for consistent parsing.\n",
      "  cache_array = _maybe_cache(arg, format, cache, convert_listlike)\n",
      "/Users/satishkumarsahu/.pyenv/customer_segmentation/lib/python3.10/site-packages/pandas/core/tools/datetimes.py:1047: UserWarning: Parsing '28-11-2019' in DD/MM/YYYY format. Provide format or specify infer_datetime_format=True for consistent parsing.\n",
      "  cache_array = _maybe_cache(arg, format, cache, convert_listlike)\n",
      "/Users/satishkumarsahu/.pyenv/customer_segmentation/lib/python3.10/site-packages/pandas/core/tools/datetimes.py:1047: UserWarning: Parsing '29-11-2019' in DD/MM/YYYY format. Provide format or specify infer_datetime_format=True for consistent parsing.\n",
      "  cache_array = _maybe_cache(arg, format, cache, convert_listlike)\n",
      "/Users/satishkumarsahu/.pyenv/customer_segmentation/lib/python3.10/site-packages/pandas/core/tools/datetimes.py:1047: UserWarning: Parsing '30-11-2019' in DD/MM/YYYY format. Provide format or specify infer_datetime_format=True for consistent parsing.\n",
      "  cache_array = _maybe_cache(arg, format, cache, convert_listlike)\n",
      "/Users/satishkumarsahu/.pyenv/customer_segmentation/lib/python3.10/site-packages/pandas/core/tools/datetimes.py:1047: UserWarning: Parsing '13-12-2019' in DD/MM/YYYY format. Provide format or specify infer_datetime_format=True for consistent parsing.\n",
      "  cache_array = _maybe_cache(arg, format, cache, convert_listlike)\n",
      "/Users/satishkumarsahu/.pyenv/customer_segmentation/lib/python3.10/site-packages/pandas/core/tools/datetimes.py:1047: UserWarning: Parsing '17-12-2019' in DD/MM/YYYY format. Provide format or specify infer_datetime_format=True for consistent parsing.\n",
      "  cache_array = _maybe_cache(arg, format, cache, convert_listlike)\n",
      "/Users/satishkumarsahu/.pyenv/customer_segmentation/lib/python3.10/site-packages/pandas/core/tools/datetimes.py:1047: UserWarning: Parsing '18-12-2019' in DD/MM/YYYY format. Provide format or specify infer_datetime_format=True for consistent parsing.\n",
      "  cache_array = _maybe_cache(arg, format, cache, convert_listlike)\n",
      "/Users/satishkumarsahu/.pyenv/customer_segmentation/lib/python3.10/site-packages/pandas/core/tools/datetimes.py:1047: UserWarning: Parsing '19-12-2019' in DD/MM/YYYY format. Provide format or specify infer_datetime_format=True for consistent parsing.\n",
      "  cache_array = _maybe_cache(arg, format, cache, convert_listlike)\n",
      "/Users/satishkumarsahu/.pyenv/customer_segmentation/lib/python3.10/site-packages/pandas/core/tools/datetimes.py:1047: UserWarning: Parsing '21-12-2019' in DD/MM/YYYY format. Provide format or specify infer_datetime_format=True for consistent parsing.\n",
      "  cache_array = _maybe_cache(arg, format, cache, convert_listlike)\n",
      "/Users/satishkumarsahu/.pyenv/customer_segmentation/lib/python3.10/site-packages/pandas/core/tools/datetimes.py:1047: UserWarning: Parsing '23-12-2019' in DD/MM/YYYY format. Provide format or specify infer_datetime_format=True for consistent parsing.\n",
      "  cache_array = _maybe_cache(arg, format, cache, convert_listlike)\n",
      "/Users/satishkumarsahu/.pyenv/customer_segmentation/lib/python3.10/site-packages/pandas/core/tools/datetimes.py:1047: UserWarning: Parsing '26-12-2019' in DD/MM/YYYY format. Provide format or specify infer_datetime_format=True for consistent parsing.\n",
      "  cache_array = _maybe_cache(arg, format, cache, convert_listlike)\n",
      "/Users/satishkumarsahu/.pyenv/customer_segmentation/lib/python3.10/site-packages/pandas/core/tools/datetimes.py:1047: UserWarning: Parsing '27-12-2019' in DD/MM/YYYY format. Provide format or specify infer_datetime_format=True for consistent parsing.\n",
      "  cache_array = _maybe_cache(arg, format, cache, convert_listlike)\n",
      "/Users/satishkumarsahu/.pyenv/customer_segmentation/lib/python3.10/site-packages/pandas/core/tools/datetimes.py:1047: UserWarning: Parsing '28-12-2019' in DD/MM/YYYY format. Provide format or specify infer_datetime_format=True for consistent parsing.\n",
      "  cache_array = _maybe_cache(arg, format, cache, convert_listlike)\n",
      "/Users/satishkumarsahu/.pyenv/customer_segmentation/lib/python3.10/site-packages/pandas/core/tools/datetimes.py:1047: UserWarning: Parsing '31-12-2019' in DD/MM/YYYY format. Provide format or specify infer_datetime_format=True for consistent parsing.\n",
      "  cache_array = _maybe_cache(arg, format, cache, convert_listlike)\n"
     ]
    }
   ],
   "source": [
    "df[\"InvoiceDate\"]=pd.to_datetime(df[\"InvoiceDate\"])"
   ]
  },
  {
   "cell_type": "code",
   "execution_count": 330,
   "metadata": {},
   "outputs": [
    {
     "name": "stdout",
     "output_type": "stream",
     "text": [
      "<class 'pandas.core.frame.DataFrame'>\n",
      "RangeIndex: 1639 entries, 0 to 1638\n",
      "Data columns (total 12 columns):\n",
      " #   Column           Non-Null Count  Dtype         \n",
      "---  ------           --------------  -----         \n",
      " 0   InvoiceDate      1639 non-null   datetime64[ns]\n",
      " 1   InvoiceId        1639 non-null   object        \n",
      " 2   SalesUNit        1639 non-null   object        \n",
      " 3   Qty              1639 non-null   float64       \n",
      " 4   NetWeight        1639 non-null   float64       \n",
      " 5   CustomerName     1639 non-null   object        \n",
      " 6   LineAmount1      1639 non-null   float64       \n",
      " 7   Freight          1639 non-null   float64       \n",
      " 8   City             1639 non-null   object        \n",
      " 9   State            1639 non-null   object        \n",
      " 10  ItemName         1639 non-null   object        \n",
      " 11  ProductCategory  1639 non-null   object        \n",
      "dtypes: datetime64[ns](1), float64(4), object(7)\n",
      "memory usage: 153.8+ KB\n"
     ]
    }
   ],
   "source": [
    "df.info()"
   ]
  },
  {
   "cell_type": "code",
   "execution_count": 331,
   "metadata": {},
   "outputs": [
    {
     "data": {
      "text/html": [
       "<div>\n",
       "<style scoped>\n",
       "    .dataframe tbody tr th:only-of-type {\n",
       "        vertical-align: middle;\n",
       "    }\n",
       "\n",
       "    .dataframe tbody tr th {\n",
       "        vertical-align: top;\n",
       "    }\n",
       "\n",
       "    .dataframe thead th {\n",
       "        text-align: right;\n",
       "    }\n",
       "</style>\n",
       "<table border=\"1\" class=\"dataframe\">\n",
       "  <thead>\n",
       "    <tr style=\"text-align: right;\">\n",
       "      <th></th>\n",
       "      <th></th>\n",
       "      <th>Qty</th>\n",
       "    </tr>\n",
       "    <tr>\n",
       "      <th>ItemName</th>\n",
       "      <th>InvoiceDate</th>\n",
       "      <th></th>\n",
       "    </tr>\n",
       "  </thead>\n",
       "  <tbody>\n",
       "    <tr>\n",
       "      <th rowspan=\"5\" valign=\"top\">Item 1</th>\n",
       "      <th>2018-01-11</th>\n",
       "      <td>2.0</td>\n",
       "    </tr>\n",
       "    <tr>\n",
       "      <th>2018-02-06</th>\n",
       "      <td>152.0</td>\n",
       "    </tr>\n",
       "    <tr>\n",
       "      <th>2018-03-07</th>\n",
       "      <td>2.0</td>\n",
       "    </tr>\n",
       "    <tr>\n",
       "      <th>2018-03-12</th>\n",
       "      <td>9.0</td>\n",
       "    </tr>\n",
       "    <tr>\n",
       "      <th>2018-04-06</th>\n",
       "      <td>1.0</td>\n",
       "    </tr>\n",
       "    <tr>\n",
       "      <th>...</th>\n",
       "      <th>...</th>\n",
       "      <td>...</td>\n",
       "    </tr>\n",
       "    <tr>\n",
       "      <th rowspan=\"5\" valign=\"top\">Item 5</th>\n",
       "      <th>2019-12-23</th>\n",
       "      <td>4.0</td>\n",
       "    </tr>\n",
       "    <tr>\n",
       "      <th>2019-12-26</th>\n",
       "      <td>100.0</td>\n",
       "    </tr>\n",
       "    <tr>\n",
       "      <th>2019-12-27</th>\n",
       "      <td>180.0</td>\n",
       "    </tr>\n",
       "    <tr>\n",
       "      <th>2019-12-28</th>\n",
       "      <td>48.0</td>\n",
       "    </tr>\n",
       "    <tr>\n",
       "      <th>2019-12-31</th>\n",
       "      <td>2401.0</td>\n",
       "    </tr>\n",
       "  </tbody>\n",
       "</table>\n",
       "<p>809 rows × 1 columns</p>\n",
       "</div>"
      ],
      "text/plain": [
       "                         Qty\n",
       "ItemName InvoiceDate        \n",
       "Item 1   2018-01-11      2.0\n",
       "         2018-02-06    152.0\n",
       "         2018-03-07      2.0\n",
       "         2018-03-12      9.0\n",
       "         2018-04-06      1.0\n",
       "...                      ...\n",
       "Item 5   2019-12-23      4.0\n",
       "         2019-12-26    100.0\n",
       "         2019-12-27    180.0\n",
       "         2019-12-28     48.0\n",
       "         2019-12-31   2401.0\n",
       "\n",
       "[809 rows x 1 columns]"
      ]
     },
     "execution_count": 331,
     "metadata": {},
     "output_type": "execute_result"
    }
   ],
   "source": [
    "df.groupby([\"ItemName\",\"InvoiceDate\"]).agg({\"Qty\":\"sum\"})"
   ]
  },
  {
   "cell_type": "code",
   "execution_count": 332,
   "metadata": {},
   "outputs": [],
   "source": [
    "df=df.sort_values(by=[\"InvoiceDate\"])"
   ]
  },
  {
   "cell_type": "code",
   "execution_count": 333,
   "metadata": {},
   "outputs": [
    {
     "data": {
      "text/plain": [
       "Timestamp('2019-12-31 00:00:00')"
      ]
     },
     "execution_count": 333,
     "metadata": {},
     "output_type": "execute_result"
    }
   ],
   "source": [
    "df[\"InvoiceDate\"].max()"
   ]
  },
  {
   "cell_type": "code",
   "execution_count": 334,
   "metadata": {},
   "outputs": [
    {
     "data": {
      "text/plain": [
       "Timestamp('2018-01-09 00:00:00')"
      ]
     },
     "execution_count": 334,
     "metadata": {},
     "output_type": "execute_result"
    }
   ],
   "source": [
    "df[\"InvoiceDate\"].min()"
   ]
  },
  {
   "cell_type": "code",
   "execution_count": 335,
   "metadata": {},
   "outputs": [
    {
     "data": {
      "text/html": [
       "<div>\n",
       "<style scoped>\n",
       "    .dataframe tbody tr th:only-of-type {\n",
       "        vertical-align: middle;\n",
       "    }\n",
       "\n",
       "    .dataframe tbody tr th {\n",
       "        vertical-align: top;\n",
       "    }\n",
       "\n",
       "    .dataframe thead th {\n",
       "        text-align: right;\n",
       "    }\n",
       "</style>\n",
       "<table border=\"1\" class=\"dataframe\">\n",
       "  <thead>\n",
       "    <tr style=\"text-align: right;\">\n",
       "      <th></th>\n",
       "      <th></th>\n",
       "      <th>Qty</th>\n",
       "    </tr>\n",
       "    <tr>\n",
       "      <th>ItemName</th>\n",
       "      <th>InvoiceDate</th>\n",
       "      <th></th>\n",
       "    </tr>\n",
       "  </thead>\n",
       "  <tbody>\n",
       "    <tr>\n",
       "      <th rowspan=\"5\" valign=\"top\">Item 1</th>\n",
       "      <th>2018-01-11</th>\n",
       "      <td>2.0</td>\n",
       "    </tr>\n",
       "    <tr>\n",
       "      <th>2018-02-06</th>\n",
       "      <td>152.0</td>\n",
       "    </tr>\n",
       "    <tr>\n",
       "      <th>2018-03-07</th>\n",
       "      <td>2.0</td>\n",
       "    </tr>\n",
       "    <tr>\n",
       "      <th>2018-03-12</th>\n",
       "      <td>9.0</td>\n",
       "    </tr>\n",
       "    <tr>\n",
       "      <th>2018-04-06</th>\n",
       "      <td>1.0</td>\n",
       "    </tr>\n",
       "    <tr>\n",
       "      <th>...</th>\n",
       "      <th>...</th>\n",
       "      <td>...</td>\n",
       "    </tr>\n",
       "    <tr>\n",
       "      <th rowspan=\"5\" valign=\"top\">Item 5</th>\n",
       "      <th>2019-12-23</th>\n",
       "      <td>4.0</td>\n",
       "    </tr>\n",
       "    <tr>\n",
       "      <th>2019-12-26</th>\n",
       "      <td>100.0</td>\n",
       "    </tr>\n",
       "    <tr>\n",
       "      <th>2019-12-27</th>\n",
       "      <td>180.0</td>\n",
       "    </tr>\n",
       "    <tr>\n",
       "      <th>2019-12-28</th>\n",
       "      <td>48.0</td>\n",
       "    </tr>\n",
       "    <tr>\n",
       "      <th>2019-12-31</th>\n",
       "      <td>2401.0</td>\n",
       "    </tr>\n",
       "  </tbody>\n",
       "</table>\n",
       "<p>809 rows × 1 columns</p>\n",
       "</div>"
      ],
      "text/plain": [
       "                         Qty\n",
       "ItemName InvoiceDate        \n",
       "Item 1   2018-01-11      2.0\n",
       "         2018-02-06    152.0\n",
       "         2018-03-07      2.0\n",
       "         2018-03-12      9.0\n",
       "         2018-04-06      1.0\n",
       "...                      ...\n",
       "Item 5   2019-12-23      4.0\n",
       "         2019-12-26    100.0\n",
       "         2019-12-27    180.0\n",
       "         2019-12-28     48.0\n",
       "         2019-12-31   2401.0\n",
       "\n",
       "[809 rows x 1 columns]"
      ]
     },
     "execution_count": 335,
     "metadata": {},
     "output_type": "execute_result"
    }
   ],
   "source": [
    "df.groupby([\"ItemName\",\"InvoiceDate\"]).agg({\"Qty\":\"sum\"})"
   ]
  },
  {
   "cell_type": "code",
   "execution_count": 336,
   "metadata": {},
   "outputs": [
    {
     "data": {
      "text/plain": [
       "<seaborn.axisgrid.PairGrid at 0x2a4ebf700>"
      ]
     },
     "execution_count": 336,
     "metadata": {},
     "output_type": "execute_result"
    },
    {
     "data": {
      "image/png": "[encoded data removed]",
      "text/plain": [
       "<Figure size 1094.75x1000 with 20 Axes>"
      ]
     },
     "metadata": {},
     "output_type": "display_data"
    }
   ],
   "source": [
    "sns.pairplot(df,hue=\"ItemName\")"
   ]
  },
  {
   "cell_type": "code",
   "execution_count": 337,
   "metadata": {},
   "outputs": [
    {
     "data": {
      "text/plain": [
       "Timedelta('721 days 00:00:00')"
      ]
     },
     "execution_count": 337,
     "metadata": {},
     "output_type": "execute_result"
    }
   ],
   "source": [
    "\n",
    "df[\"InvoiceDate\"] = pd.to_datetime(df.InvoiceDate, cache=True)\n",
    "\n",
    "df.InvoiceDate.max() - df.InvoiceDate.min()"
   ]
  },
  {
   "cell_type": "code",
   "execution_count": 338,
   "metadata": {},
   "outputs": [
    {
     "name": "stdout",
     "output_type": "stream",
     "text": [
      "Datafile starts with timepoint 2018-01-09 00:00:00\n",
      "Datafile ends with timepoint 2019-12-31 00:00:00\n"
     ]
    }
   ],
   "source": [
    "\n",
    "print(\"Datafile starts with timepoint {}\".format(df.InvoiceDate.min()))\n",
    "print(\"Datafile ends with timepoint {}\".format(df.InvoiceDate.max()))"
   ]
  },
  {
   "cell_type": "code",
   "execution_count": 339,
   "metadata": {},
   "outputs": [
    {
     "data": {
      "text/plain": [
       "1508"
      ]
     },
     "execution_count": 339,
     "metadata": {},
     "output_type": "execute_result"
    }
   ],
   "source": [
    "df.InvoiceId.nunique()"
   ]
  },
  {
   "cell_type": "code",
   "execution_count": 340,
   "metadata": {},
   "outputs": [
    {
     "data": {
      "text/plain": [
       "5"
      ]
     },
     "execution_count": 340,
     "metadata": {},
     "output_type": "execute_result"
    }
   ],
   "source": [
    "df.ItemName.nunique()"
   ]
  },
  {
   "cell_type": "code",
   "execution_count": 341,
   "metadata": {},
   "outputs": [
    {
     "name": "stderr",
     "output_type": "stream",
     "text": [
      "/Users/satishkumarsahu/.pyenv/customer_segmentation/lib/python3.10/site-packages/seaborn/_decorators.py:36: FutureWarning: Pass the following variables as keyword args: x, y. From version 0.12, the only valid positional argument will be `data`, and passing other arguments without an explicit keyword will result in an error or misinterpretation.\n",
      "  warnings.warn(\n"
     ]
    },
    {
     "data": {
      "text/plain": [
       "Text(0.5, 0, 'ItemName')"
      ]
     },
     "execution_count": 341,
     "metadata": {},
     "output_type": "execute_result"
    },
    {
     "data": {
      "image/png": "[encoded data removed]",
      "text/plain": [
       "<Figure size 1000x500 with 1 Axes>"
      ]
     },
     "metadata": {},
     "output_type": "display_data"
    }
   ],
   "source": [
    "item_counts = df.ItemName.value_counts().sort_values(ascending=False)\n",
    "fig, ax = plt.subplots(1,1,figsize=(10,5))\n",
    "sns.barplot(item_counts.iloc[0:5].index,\n",
    "            item_counts.iloc[0:5].values,\n",
    "            ax = ax, palette=\"Oranges_r\")\n",
    "ax.set_ylabel(\"Counts\")\n",
    "ax.set_xlabel(\"ItemName\")\n"
   ]
  },
  {
   "cell_type": "code",
   "execution_count": 342,
   "metadata": {},
   "outputs": [
    {
     "data": {
      "text/plain": [
       "132"
      ]
     },
     "execution_count": 342,
     "metadata": {},
     "output_type": "execute_result"
    }
   ],
   "source": [
    "\n",
    "df.City.nunique()"
   ]
  },
  {
   "cell_type": "code",
   "execution_count": 343,
   "metadata": {},
   "outputs": [
    {
     "data": {
      "text/plain": [
       "26"
      ]
     },
     "execution_count": 343,
     "metadata": {},
     "output_type": "execute_result"
    }
   ],
   "source": [
    "df.State.nunique()"
   ]
  },
  {
   "cell_type": "code",
   "execution_count": 344,
   "metadata": {},
   "outputs": [
    {
     "name": "stderr",
     "output_type": "stream",
     "text": [
      "/Users/satishkumarsahu/.pyenv/customer_segmentation/lib/python3.10/site-packages/seaborn/_decorators.py:36: FutureWarning: Pass the following variables as keyword args: x, y. From version 0.12, the only valid positional argument will be `data`, and passing other arguments without an explicit keyword will result in an error or misinterpretation.\n",
      "  warnings.warn(\n"
     ]
    },
    {
     "data": {
      "image/png": "[encoded data removed]",
      "text/plain": [
       "<Figure size 2000x500 with 1 Axes>"
      ]
     },
     "metadata": {},
     "output_type": "display_data"
    }
   ],
   "source": [
    "city_counts = df.City.value_counts().sort_values(ascending=False).iloc[0:20]\n",
    "plt.figure(figsize=(20,5))\n",
    "sns.barplot(city_counts.index, city_counts.values, palette=\"Greens_r\")\n",
    "plt.ylabel(\"Counts\")\n",
    "plt.title(\"Which City made the most transactions?\");\n",
    "plt.xticks(rotation=90);"
   ]
  },
  {
   "cell_type": "code",
   "execution_count": 345,
   "metadata": {},
   "outputs": [
    {
     "name": "stderr",
     "output_type": "stream",
     "text": [
      "/Users/satishkumarsahu/.pyenv/customer_segmentation/lib/python3.10/site-packages/seaborn/_decorators.py:36: FutureWarning: Pass the following variables as keyword args: x, y. From version 0.12, the only valid positional argument will be `data`, and passing other arguments without an explicit keyword will result in an error or misinterpretation.\n",
      "  warnings.warn(\n"
     ]
    },
    {
     "data": {
      "image/png": "[encoded data removed]",
      "text/plain": [
       "<Figure size 2000x500 with 1 Axes>"
      ]
     },
     "metadata": {},
     "output_type": "display_data"
    }
   ],
   "source": [
    "state_counts = df.State.value_counts().sort_values(ascending=False).iloc[0:20]\n",
    "plt.figure(figsize=(20,5))\n",
    "sns.barplot(state_counts.index, state_counts.values, palette=\"Greens_r\")\n",
    "plt.ylabel(\"Counts\")\n",
    "plt.title(\"Which State made the most transactions?\");\n",
    "plt.xticks(rotation=90);"
   ]
  },
  {
   "cell_type": "code",
   "execution_count": 346,
   "metadata": {},
   "outputs": [
    {
     "data": {
      "text/plain": [
       "GJ    392\n",
       "MH    201\n",
       "RJ    121\n",
       "UP    102\n",
       "HR     92\n",
       "CT     88\n",
       "JH     86\n",
       "OR     78\n",
       "MP     69\n",
       "KA     69\n",
       "PB     59\n",
       "TS     41\n",
       "AP     41\n",
       "GA     40\n",
       "TN     38\n",
       "WB     29\n",
       "CH     21\n",
       "DL     20\n",
       "DN     14\n",
       "UT     13\n",
       "KL      7\n",
       "HP      6\n",
       "AS      5\n",
       "BH      4\n",
       "PY      2\n",
       "JK      1\n",
       "Name: State, dtype: int64"
      ]
     },
     "execution_count": 346,
     "metadata": {},
     "output_type": "execute_result"
    }
   ],
   "source": [
    "df[\"State\"].value_counts()"
   ]
  },
  {
   "cell_type": "code",
   "execution_count": 347,
   "metadata": {},
   "outputs": [
    {
     "data": {
      "text/plain": [
       "23.917022574740695"
      ]
     },
     "execution_count": 347,
     "metadata": {},
     "output_type": "execute_result"
    }
   ],
   "source": [
    "df.loc[df.State==\"GJ\"].shape[0] / df.shape[0] * 100"
   ]
  },
  {
   "cell_type": "code",
   "execution_count": 348,
   "metadata": {},
   "outputs": [
    {
     "data": {
      "text/plain": [
       "count    1.639000e+03\n",
       "mean     1.324952e+05\n",
       "std      1.986149e+05\n",
       "min      1.453900e+02\n",
       "25%      1.341592e+04\n",
       "50%      6.553680e+04\n",
       "75%      1.612078e+05\n",
       "max      1.899000e+06\n",
       "Name: LineAmount1, dtype: float64"
      ]
     },
     "execution_count": 348,
     "metadata": {},
     "output_type": "execute_result"
    }
   ],
   "source": [
    "df.LineAmount1.describe()"
   ]
  },
  {
   "cell_type": "code",
   "execution_count": 349,
   "metadata": {},
   "outputs": [
    {
     "data": {
      "text/plain": [
       "(0, 12)"
      ]
     },
     "execution_count": 349,
     "metadata": {},
     "output_type": "execute_result"
    }
   ],
   "source": [
    "df[df.LineAmount1<0].shape"
   ]
  },
  {
   "cell_type": "code",
   "execution_count": 350,
   "metadata": {},
   "outputs": [
    {
     "data": {
      "text/html": [
       "<div>\n",
       "<style scoped>\n",
       "    .dataframe tbody tr th:only-of-type {\n",
       "        vertical-align: middle;\n",
       "    }\n",
       "\n",
       "    .dataframe tbody tr th {\n",
       "        vertical-align: top;\n",
       "    }\n",
       "\n",
       "    .dataframe thead th {\n",
       "        text-align: right;\n",
       "    }\n",
       "</style>\n",
       "<table border=\"1\" class=\"dataframe\">\n",
       "  <thead>\n",
       "    <tr style=\"text-align: right;\">\n",
       "      <th></th>\n",
       "      <th>InvoiceDate</th>\n",
       "      <th>InvoiceId</th>\n",
       "      <th>SalesUNit</th>\n",
       "      <th>Qty</th>\n",
       "      <th>NetWeight</th>\n",
       "      <th>CustomerName</th>\n",
       "      <th>LineAmount1</th>\n",
       "      <th>Freight</th>\n",
       "      <th>City</th>\n",
       "      <th>State</th>\n",
       "      <th>ItemName</th>\n",
       "      <th>ProductCategory</th>\n",
       "    </tr>\n",
       "  </thead>\n",
       "  <tbody>\n",
       "  </tbody>\n",
       "</table>\n",
       "</div>"
      ],
      "text/plain": [
       "Empty DataFrame\n",
       "Columns: [InvoiceDate, InvoiceId, SalesUNit, Qty, NetWeight, CustomerName, LineAmount1, Freight, City, State, ItemName, ProductCategory]\n",
       "Index: []"
      ]
     },
     "execution_count": 350,
     "metadata": {},
     "output_type": "execute_result"
    }
   ],
   "source": [
    "df[df.LineAmount1<0]"
   ]
  },
  {
   "cell_type": "code",
   "execution_count": 351,
   "metadata": {},
   "outputs": [
    {
     "data": {
      "text/plain": [
       "217"
      ]
     },
     "execution_count": 351,
     "metadata": {},
     "output_type": "execute_result"
    }
   ],
   "source": [
    "df.CustomerName.nunique()"
   ]
  },
  {
   "cell_type": "code",
   "execution_count": 352,
   "metadata": {},
   "outputs": [
    {
     "name": "stderr",
     "output_type": "stream",
     "text": [
      "/Users/satishkumarsahu/.pyenv/customer_segmentation/lib/python3.10/site-packages/seaborn/_decorators.py:36: FutureWarning: Pass the following variables as keyword args: x, y. From version 0.12, the only valid positional argument will be `data`, and passing other arguments without an explicit keyword will result in an error or misinterpretation.\n",
      "  warnings.warn(\n"
     ]
    },
    {
     "data": {
      "image/png": "[encoded data removed]",
      "text/plain": [
       "<Figure size 2000x500 with 1 Axes>"
      ]
     },
     "metadata": {},
     "output_type": "display_data"
    }
   ],
   "source": [
    "customer_counts = df.CustomerName.value_counts().sort_values(ascending=False).iloc[0:20] \n",
    "plt.figure(figsize=(20,5))\n",
    "sns.barplot(customer_counts.index, customer_counts.values, order=customer_counts.index)\n",
    "plt.ylabel(\"Counts\")\n",
    "plt.xlabel(\"CustomerID\")\n",
    "plt.title(\"Which customers are most common?\");\n",
    "plt.xticks(rotation=90);"
   ]
  },
  {
   "cell_type": "code",
   "execution_count": null,
   "metadata": {},
   "outputs": [],
   "source": []
  },
  {
   "cell_type": "code",
   "execution_count": null,
   "metadata": {},
   "outputs": [],
   "source": []
  },
  {
   "cell_type": "code",
   "execution_count": 353,
   "metadata": {},
   "outputs": [
    {
     "data": {
      "text/html": [
       "<div>\n",
       "<style scoped>\n",
       "    .dataframe tbody tr th:only-of-type {\n",
       "        vertical-align: middle;\n",
       "    }\n",
       "\n",
       "    .dataframe tbody tr th {\n",
       "        vertical-align: top;\n",
       "    }\n",
       "\n",
       "    .dataframe thead th {\n",
       "        text-align: right;\n",
       "    }\n",
       "</style>\n",
       "<table border=\"1\" class=\"dataframe\">\n",
       "  <thead>\n",
       "    <tr style=\"text-align: right;\">\n",
       "      <th></th>\n",
       "      <th>InvoiceDate</th>\n",
       "      <th>InvoiceId</th>\n",
       "      <th>SalesUNit</th>\n",
       "      <th>Qty</th>\n",
       "      <th>NetWeight</th>\n",
       "      <th>CustomerName</th>\n",
       "      <th>LineAmount1</th>\n",
       "      <th>Freight</th>\n",
       "      <th>City</th>\n",
       "      <th>State</th>\n",
       "      <th>ItemName</th>\n",
       "      <th>ProductCategory</th>\n",
       "    </tr>\n",
       "  </thead>\n",
       "  <tbody>\n",
       "    <tr>\n",
       "      <th>266</th>\n",
       "      <td>2018-01-09</td>\n",
       "      <td>SGE-1819/5478</td>\n",
       "      <td>KIT</td>\n",
       "      <td>15.0</td>\n",
       "      <td>270.0</td>\n",
       "      <td>Customer 111</td>\n",
       "      <td>91185.84</td>\n",
       "      <td>444.83</td>\n",
       "      <td>GURGAON</td>\n",
       "      <td>HR</td>\n",
       "      <td>Item 4</td>\n",
       "      <td>Category 2</td>\n",
       "    </tr>\n",
       "    <tr>\n",
       "      <th>470</th>\n",
       "      <td>2018-01-11</td>\n",
       "      <td>SGE-1819/7595</td>\n",
       "      <td>SET</td>\n",
       "      <td>3.0</td>\n",
       "      <td>72.0</td>\n",
       "      <td>Customer 86</td>\n",
       "      <td>72881.92</td>\n",
       "      <td>160.54</td>\n",
       "      <td>INDORE</td>\n",
       "      <td>MP</td>\n",
       "      <td>Item 2</td>\n",
       "      <td>Category 2</td>\n",
       "    </tr>\n",
       "    <tr>\n",
       "      <th>471</th>\n",
       "      <td>2018-01-11</td>\n",
       "      <td>SGE-1819/7597</td>\n",
       "      <td>BKT</td>\n",
       "      <td>2.0</td>\n",
       "      <td>40.0</td>\n",
       "      <td>Customer 57</td>\n",
       "      <td>15770.00</td>\n",
       "      <td>61.40</td>\n",
       "      <td>AHMEDABAD</td>\n",
       "      <td>GJ</td>\n",
       "      <td>Item 1</td>\n",
       "      <td>Category 1</td>\n",
       "    </tr>\n",
       "    <tr>\n",
       "      <th>0</th>\n",
       "      <td>2018-02-06</td>\n",
       "      <td>DD-1819/173</td>\n",
       "      <td>BKT</td>\n",
       "      <td>2.0</td>\n",
       "      <td>40.0</td>\n",
       "      <td>Customer 1</td>\n",
       "      <td>14768.40</td>\n",
       "      <td>0.00</td>\n",
       "      <td>JAMNAGAR</td>\n",
       "      <td>GJ</td>\n",
       "      <td>Item 1</td>\n",
       "      <td>Category 1</td>\n",
       "    </tr>\n",
       "  </tbody>\n",
       "</table>\n",
       "</div>"
      ],
      "text/plain": [
       "    InvoiceDate      InvoiceId SalesUNit   Qty  NetWeight  CustomerName  \\\n",
       "266  2018-01-09  SGE-1819/5478       KIT  15.0      270.0  Customer 111   \n",
       "470  2018-01-11  SGE-1819/7595       SET   3.0       72.0   Customer 86   \n",
       "471  2018-01-11  SGE-1819/7597       BKT   2.0       40.0   Customer 57   \n",
       "0    2018-02-06    DD-1819/173       BKT   2.0       40.0    Customer 1   \n",
       "\n",
       "     LineAmount1  Freight       City State ItemName ProductCategory  \n",
       "266     91185.84   444.83    GURGAON    HR   Item 4      Category 2  \n",
       "470     72881.92   160.54     INDORE    MP   Item 2      Category 2  \n",
       "471     15770.00    61.40  AHMEDABAD    GJ   Item 1      Category 1  \n",
       "0       14768.40     0.00   JAMNAGAR    GJ   Item 1      Category 1  "
      ]
     },
     "execution_count": 353,
     "metadata": {},
     "output_type": "execute_result"
    }
   ],
   "source": [
    "df.head(4)"
   ]
  },
  {
   "cell_type": "code",
   "execution_count": 354,
   "metadata": {},
   "outputs": [
    {
     "data": {
      "text/plain": [
       "Index(['InvoiceDate', 'InvoiceId', 'SalesUNit', 'Qty', 'NetWeight',\n",
       "       'CustomerName', 'LineAmount1', 'Freight', 'City', 'State', 'ItemName',\n",
       "       'ProductCategory'],\n",
       "      dtype='object')"
      ]
     },
     "execution_count": 354,
     "metadata": {},
     "output_type": "execute_result"
    }
   ],
   "source": [
    "df.columns"
   ]
  },
  {
   "cell_type": "code",
   "execution_count": 355,
   "metadata": {},
   "outputs": [],
   "source": [
    "# %pip install xgboost"
   ]
  },
  {
   "cell_type": "code",
   "execution_count": 356,
   "metadata": {},
   "outputs": [
    {
     "name": "stderr",
     "output_type": "stream",
     "text": [
      "/var/folders/r9/kplwdy9n4d90cxzq9zls2dv40000gp/T/ipykernel_6855/1238852088.py:14: SettingWithCopyWarning: \n",
      "A value is trying to be set on a copy of a slice from a DataFrame.\n",
      "Try using .loc[row_indexer,col_indexer] = value instead\n",
      "\n",
      "See the caveats in the documentation: https://pandas.pydata.org/pandas-docs/stable/user_guide/indexing.html#returning-a-view-versus-a-copy\n",
      "  df['ItemName'] = le.fit_transform(df['ItemName'])\n",
      "/var/folders/r9/kplwdy9n4d90cxzq9zls2dv40000gp/T/ipykernel_6855/1238852088.py:17: SettingWithCopyWarning: \n",
      "A value is trying to be set on a copy of a slice from a DataFrame.\n",
      "Try using .loc[row_indexer,col_indexer] = value instead\n",
      "\n",
      "See the caveats in the documentation: https://pandas.pydata.org/pandas-docs/stable/user_guide/indexing.html#returning-a-view-versus-a-copy\n",
      "  df['InvoiceDate'] = pd.to_datetime(df['InvoiceDate'])\n",
      "/var/folders/r9/kplwdy9n4d90cxzq9zls2dv40000gp/T/ipykernel_6855/1238852088.py:18: SettingWithCopyWarning: \n",
      "A value is trying to be set on a copy of a slice from a DataFrame.\n",
      "Try using .loc[row_indexer,col_indexer] = value instead\n",
      "\n",
      "See the caveats in the documentation: https://pandas.pydata.org/pandas-docs/stable/user_guide/indexing.html#returning-a-view-versus-a-copy\n",
      "  df['DayOfWeek'] = df['InvoiceDate'].dt.dayofweek\n",
      "/var/folders/r9/kplwdy9n4d90cxzq9zls2dv40000gp/T/ipykernel_6855/1238852088.py:19: FutureWarning: Series.dt.weekofyear and Series.dt.week have been deprecated. Please use Series.dt.isocalendar().week instead.\n",
      "  df['WeekOfYear'] = df['InvoiceDate'].dt.weekofyear\n",
      "/var/folders/r9/kplwdy9n4d90cxzq9zls2dv40000gp/T/ipykernel_6855/1238852088.py:19: SettingWithCopyWarning: \n",
      "A value is trying to be set on a copy of a slice from a DataFrame.\n",
      "Try using .loc[row_indexer,col_indexer] = value instead\n",
      "\n",
      "See the caveats in the documentation: https://pandas.pydata.org/pandas-docs/stable/user_guide/indexing.html#returning-a-view-versus-a-copy\n",
      "  df['WeekOfYear'] = df['InvoiceDate'].dt.weekofyear\n",
      "/var/folders/r9/kplwdy9n4d90cxzq9zls2dv40000gp/T/ipykernel_6855/1238852088.py:20: SettingWithCopyWarning: \n",
      "A value is trying to be set on a copy of a slice from a DataFrame.\n",
      "Try using .loc[row_indexer,col_indexer] = value instead\n",
      "\n",
      "See the caveats in the documentation: https://pandas.pydata.org/pandas-docs/stable/user_guide/indexing.html#returning-a-view-versus-a-copy\n",
      "  df['Month'] = df['InvoiceDate'].dt.month\n",
      "/var/folders/r9/kplwdy9n4d90cxzq9zls2dv40000gp/T/ipykernel_6855/1238852088.py:21: SettingWithCopyWarning: \n",
      "A value is trying to be set on a copy of a slice from a DataFrame.\n",
      "Try using .loc[row_indexer,col_indexer] = value instead\n",
      "\n",
      "See the caveats in the documentation: https://pandas.pydata.org/pandas-docs/stable/user_guide/indexing.html#returning-a-view-versus-a-copy\n",
      "  df['IsHoliday'] = df['InvoiceDate'].isin(holidays.UnitedStates()).astype(int)\n",
      "/var/folders/r9/kplwdy9n4d90cxzq9zls2dv40000gp/T/ipykernel_6855/1238852088.py:22: SettingWithCopyWarning: \n",
      "A value is trying to be set on a copy of a slice from a DataFrame\n",
      "\n",
      "See the caveats in the documentation: https://pandas.pydata.org/pandas-docs/stable/user_guide/indexing.html#returning-a-view-versus-a-copy\n",
      "  df.drop(\"InvoiceDate\",inplace=True,axis=1)\n"
     ]
    }
   ],
   "source": [
    "import xgboost as xgb\n",
    "from sklearn.model_selection import train_test_split\n",
    "from sklearn.metrics import mean_squared_error, r2_score\n",
    "from sklearn.preprocessing import LabelEncoder\n",
    "import holidays\n",
    "\n",
    "\n",
    "# Select the necessary features for the model\n",
    "cols = ['InvoiceDate', 'Qty', 'NetWeight', 'LineAmount1', 'Freight', 'ItemName']\n",
    "df = df[cols]\n",
    "\n",
    "# Encode categorical variables using label encoding\n",
    "le = LabelEncoder()\n",
    "df['ItemName'] = le.fit_transform(df['ItemName'])\n",
    "\n",
    "# Extract date-related features\n",
    "df['InvoiceDate'] = pd.to_datetime(df['InvoiceDate'])\n",
    "df['DayOfWeek'] = df['InvoiceDate'].dt.dayofweek\n",
    "df['WeekOfYear'] = df['InvoiceDate'].dt.weekofyear\n",
    "df['Month'] = df['InvoiceDate'].dt.month\n",
    "df['IsHoliday'] = df['InvoiceDate'].isin(holidays.UnitedStates()).astype(int)\n",
    "df.drop(\"InvoiceDate\",inplace=True,axis=1)\n",
    "\n",
    "# Split the dataset into training and testing datasets\n",
    "X = df.drop('Qty', axis=1)\n",
    "y = df['Qty']\n",
    "X_train, X_test, y_train, y_test = train_test_split(X, y, test_size=0.2, random_state=42)"
   ]
  },
  {
   "cell_type": "code",
   "execution_count": 357,
   "metadata": {},
   "outputs": [
    {
     "data": {
      "text/plain": [
       "Index(['NetWeight', 'LineAmount1', 'Freight', 'ItemName', 'DayOfWeek',\n",
       "       'WeekOfYear', 'Month', 'IsHoliday'],\n",
       "      dtype='object')"
      ]
     },
     "execution_count": 357,
     "metadata": {},
     "output_type": "execute_result"
    }
   ],
   "source": [
    "X_train.columns"
   ]
  },
  {
   "cell_type": "code",
   "execution_count": 358,
   "metadata": {},
   "outputs": [],
   "source": [
    "# X_train.drop(\"InvoiceDate\",inplace=True)"
   ]
  },
  {
   "cell_type": "code",
   "execution_count": 359,
   "metadata": {},
   "outputs": [
    {
     "data": {
      "text/html": [
       "<style>#sk-container-id-2 {color: black;background-color: white;}#sk-container-id-2 pre{padding: 0;}#sk-container-id-2 div.sk-toggleable {background-color: white;}#sk-container-id-2 label.sk-toggleable__label {cursor: pointer;display: block;width: 100%;margin-bottom: 0;padding: 0.3em;box-sizing: border-box;text-align: center;}#sk-container-id-2 label.sk-toggleable__label-arrow:before {content: \"▸\";float: left;margin-right: 0.25em;color: #696969;}#sk-container-id-2 label.sk-toggleable__label-arrow:hover:before {color: black;}#sk-container-id-2 div.sk-estimator:hover label.sk-toggleable__label-arrow:before {color: black;}#sk-container-id-2 div.sk-toggleable__content {max-height: 0;max-width: 0;overflow: hidden;text-align: left;background-color: #f0f8ff;}#sk-container-id-2 div.sk-toggleable__content pre {margin: 0.2em;color: black;border-radius: 0.25em;background-color: #f0f8ff;}#sk-container-id-2 input.sk-toggleable__control:checked~div.sk-toggleable__content {max-height: 200px;max-width: 100%;overflow: auto;}#sk-container-id-2 input.sk-toggleable__control:checked~label.sk-toggleable__label-arrow:before {content: \"▾\";}#sk-container-id-2 div.sk-estimator input.sk-toggleable__control:checked~label.sk-toggleable__label {background-color: #d4ebff;}#sk-container-id-2 div.sk-label input.sk-toggleable__control:checked~label.sk-toggleable__label {background-color: #d4ebff;}#sk-container-id-2 input.sk-hidden--visually {border: 0;clip: rect(1px 1px 1px 1px);clip: rect(1px, 1px, 1px, 1px);height: 1px;margin: -1px;overflow: hidden;padding: 0;position: absolute;width: 1px;}#sk-container-id-2 div.sk-estimator {font-family: monospace;background-color: #f0f8ff;border: 1px dotted black;border-radius: 0.25em;box-sizing: border-box;margin-bottom: 0.5em;}#sk-container-id-2 div.sk-estimator:hover {background-color: #d4ebff;}#sk-container-id-2 div.sk-parallel-item::after {content: \"\";width: 100%;border-bottom: 1px solid gray;flex-grow: 1;}#sk-container-id-2 div.sk-label:hover label.sk-toggleable__label {background-color: #d4ebff;}#sk-container-id-2 div.sk-serial::before {content: \"\";position: absolute;border-left: 1px solid gray;box-sizing: border-box;top: 0;bottom: 0;left: 50%;z-index: 0;}#sk-container-id-2 div.sk-serial {display: flex;flex-direction: column;align-items: center;background-color: white;padding-right: 0.2em;padding-left: 0.2em;position: relative;}#sk-container-id-2 div.sk-item {position: relative;z-index: 1;}#sk-container-id-2 div.sk-parallel {display: flex;align-items: stretch;justify-content: center;background-color: white;position: relative;}#sk-container-id-2 div.sk-item::before, #sk-container-id-2 div.sk-parallel-item::before {content: \"\";position: absolute;border-left: 1px solid gray;box-sizing: border-box;top: 0;bottom: 0;left: 50%;z-index: -1;}#sk-container-id-2 div.sk-parallel-item {display: flex;flex-direction: column;z-index: 1;position: relative;background-color: white;}#sk-container-id-2 div.sk-parallel-item:first-child::after {align-self: flex-end;width: 50%;}#sk-container-id-2 div.sk-parallel-item:last-child::after {align-self: flex-start;width: 50%;}#sk-container-id-2 div.sk-parallel-item:only-child::after {width: 0;}#sk-container-id-2 div.sk-dashed-wrapped {border: 1px dashed gray;margin: 0 0.4em 0.5em 0.4em;box-sizing: border-box;padding-bottom: 0.4em;background-color: white;}#sk-container-id-2 div.sk-label label {font-family: monospace;font-weight: bold;display: inline-block;line-height: 1.2em;}#sk-container-id-2 div.sk-label-container {text-align: center;}#sk-container-id-2 div.sk-container {/* jupyter's `normalize.less` sets `[hidden] { display: none; }` but bootstrap.min.css set `[hidden] { display: none !important; }` so we also need the `!important` here to be able to override the default hidden behavior on the sphinx rendered scikit-learn.org. See: https://github.com/scikit-learn/scikit-learn/issues/21755 */display: inline-block !important;position: relative;}#sk-container-id-2 div.sk-text-repr-fallback {display: none;}</style><div id=\"sk-container-id-2\" class=\"sk-top-container\"><div class=\"sk-text-repr-fallback\"><pre>XGBRegressor(base_score=None, booster=None, callbacks=None,\n",
       "             colsample_bylevel=None, colsample_bynode=None,\n",
       "             colsample_bytree=None, early_stopping_rounds=None,\n",
       "             enable_categorical=False, eval_metric=None, feature_types=None,\n",
       "             gamma=None, gpu_id=None, grow_policy=None, importance_type=None,\n",
       "             interaction_constraints=None, learning_rate=None, max_bin=None,\n",
       "             max_cat_threshold=None, max_cat_to_onehot=None,\n",
       "             max_delta_step=None, max_depth=None, max_leaves=None,\n",
       "             min_child_weight=None, missing=nan, monotone_constraints=None,\n",
       "             n_estimators=1000, n_jobs=None, num_parallel_tree=None,\n",
       "             predictor=None, random_state=None, ...)</pre><b>In a Jupyter environment, please rerun this cell to show the HTML representation or trust the notebook. <br />On GitHub, the HTML representation is unable to render, please try loading this page with nbviewer.org.</b></div><div class=\"sk-container\" hidden><div class=\"sk-item\"><div class=\"sk-estimator sk-toggleable\"><input class=\"sk-toggleable__control sk-hidden--visually\" id=\"sk-estimator-id-2\" type=\"checkbox\" checked><label for=\"sk-estimator-id-2\" class=\"sk-toggleable__label sk-toggleable__label-arrow\">XGBRegressor</label><div class=\"sk-toggleable__content\"><pre>XGBRegressor(base_score=None, booster=None, callbacks=None,\n",
       "             colsample_bylevel=None, colsample_bynode=None,\n",
       "             colsample_bytree=None, early_stopping_rounds=None,\n",
       "             enable_categorical=False, eval_metric=None, feature_types=None,\n",
       "             gamma=None, gpu_id=None, grow_policy=None, importance_type=None,\n",
       "             interaction_constraints=None, learning_rate=None, max_bin=None,\n",
       "             max_cat_threshold=None, max_cat_to_onehot=None,\n",
       "             max_delta_step=None, max_depth=None, max_leaves=None,\n",
       "             min_child_weight=None, missing=nan, monotone_constraints=None,\n",
       "             n_estimators=1000, n_jobs=None, num_parallel_tree=None,\n",
       "             predictor=None, random_state=None, ...)</pre></div></div></div></div></div>"
      ],
      "text/plain": [
       "XGBRegressor(base_score=None, booster=None, callbacks=None,\n",
       "             colsample_bylevel=None, colsample_bynode=None,\n",
       "             colsample_bytree=None, early_stopping_rounds=None,\n",
       "             enable_categorical=False, eval_metric=None, feature_types=None,\n",
       "             gamma=None, gpu_id=None, grow_policy=None, importance_type=None,\n",
       "             interaction_constraints=None, learning_rate=None, max_bin=None,\n",
       "             max_cat_threshold=None, max_cat_to_onehot=None,\n",
       "             max_delta_step=None, max_depth=None, max_leaves=None,\n",
       "             min_child_weight=None, missing=nan, monotone_constraints=None,\n",
       "             n_estimators=1000, n_jobs=None, num_parallel_tree=None,\n",
       "             predictor=None, random_state=None, ...)"
      ]
     },
     "execution_count": 359,
     "metadata": {},
     "output_type": "execute_result"
    }
   ],
   "source": [
    "# Train an XGBoost model\n",
    "model = xgb.XGBRegressor(objective='reg:squarederror', n_estimators=1000)\n",
    "model.fit(X_train, y_train)"
   ]
  },
  {
   "cell_type": "code",
   "execution_count": 360,
   "metadata": {},
   "outputs": [
    {
     "name": "stdout",
     "output_type": "stream",
     "text": [
      "MSE: 4223.8503141647425\n",
      "R2: 0.9464223183889154\n"
     ]
    }
   ],
   "source": [
    "# Evaluate the performance of the model\n",
    "y_pred = model.predict(X_test)\n",
    "mse = mean_squared_error(y_test, y_pred)\n",
    "r2 = r2_score(y_test, y_pred)\n",
    "print('MSE:', mse)\n",
    "print('R2:', r2)"
   ]
  },
  {
   "cell_type": "code",
   "execution_count": 361,
   "metadata": {},
   "outputs": [
    {
     "name": "stdout",
     "output_type": "stream",
     "text": [
      "   InvoiceDate       Qty  NetWeight  LineAmount1  Freight  ItemName  \\\n",
      "0   2019-12-31 -0.892291          0            0        0         0   \n",
      "1   2020-01-01 -1.021154          0            0        0         0   \n",
      "2   2020-01-02 -1.010683          0            0        0         0   \n",
      "3   2020-01-03 -1.026885          0            0        0         0   \n",
      "4   2020-01-04 -1.052738          0            0        0         0   \n",
      "..         ...       ...        ...          ...      ...       ...   \n",
      "85  2020-03-25 -1.000684          0            0        0         0   \n",
      "86  2020-03-26 -1.019217          0            0        0         0   \n",
      "87  2020-03-27 -1.055069          0            0        0         0   \n",
      "88  2020-03-28 -1.099736          0            0        0         0   \n",
      "89  2020-03-29 -0.938863          0            0        0         0   \n",
      "\n",
      "    DayOfWeek  WeekOfYear  Month  IsHoliday  \n",
      "0           1           1     12          0  \n",
      "1           2           1      1          0  \n",
      "2           3           1      1          0  \n",
      "3           4           1      1          0  \n",
      "4           5           1      1          0  \n",
      "..        ...         ...    ...        ...  \n",
      "85          2          13      3          0  \n",
      "86          3          13      3          0  \n",
      "87          4          13      3          0  \n",
      "88          5          13      3          0  \n",
      "89          6          13      3          0  \n",
      "\n",
      "[90 rows x 10 columns]\n"
     ]
    },
    {
     "name": "stderr",
     "output_type": "stream",
     "text": [
      "/var/folders/r9/kplwdy9n4d90cxzq9zls2dv40000gp/T/ipykernel_6855/2759856894.py:14: FutureWarning: weekofyear and week have been deprecated, please use DatetimeIndex.isocalendar().week instead, which returns a Series. To exactly reproduce the behavior of week and weekofyear and return an Index, you may call pd.Int64Index(idx.isocalendar().week)\n",
      "  'WeekOfYear': next_90_days.weekofyear,\n"
     ]
    }
   ],
   "source": [
    "# Define the SKU and future date range\n",
    "sku = le.transform(['Item 1'])[0]\n",
    "next_90_days = pd.date_range(start=pd.to_datetime(\"2019-12-31\"), periods=90, freq='D')\n",
    "\n",
    "# Create a future dataframe with the necessary features\n",
    "future_df = pd.DataFrame({\n",
    "    'InvoiceDate': next_90_days,\n",
    "    'Qty': 0,\n",
    "    'NetWeight': 0,\n",
    "    'LineAmount1': 0,\n",
    "    'Freight': 0,\n",
    "    'ItemName': sku,\n",
    "    'DayOfWeek': next_90_days.dayofweek,\n",
    "    'WeekOfYear': next_90_days.weekofyear,\n",
    "    'Month': next_90_days.month,\n",
    "    'IsHoliday': next_90_days.isin(holidays.UnitedStates()).astype(int)\n",
    "})\n",
    "\n",
    "# Drop the InvoiceDate column from the future dataframe\n",
    "X_future = future_df.drop(['Qty', 'InvoiceDate'], axis=1)\n",
    "\n",
    "# Use the trained XGBoost model to predict the quantity for the next 90 days\n",
    "y_future = model.predict(X_future)\n",
    "\n",
    "# Update the future dataframe with the predicted quantity values\n",
    "future_df['Qty'] = y_future\n",
    "\n",
    "# Print the future dataframe\n",
    "print(future_df)"
   ]
  },
  {
   "cell_type": "code",
   "execution_count": 362,
   "metadata": {},
   "outputs": [
    {
     "data": {
      "text/html": [
       "<div>\n",
       "<style scoped>\n",
       "    .dataframe tbody tr th:only-of-type {\n",
       "        vertical-align: middle;\n",
       "    }\n",
       "\n",
       "    .dataframe tbody tr th {\n",
       "        vertical-align: top;\n",
       "    }\n",
       "\n",
       "    .dataframe thead th {\n",
       "        text-align: right;\n",
       "    }\n",
       "</style>\n",
       "<table border=\"1\" class=\"dataframe\">\n",
       "  <thead>\n",
       "    <tr style=\"text-align: right;\">\n",
       "      <th></th>\n",
       "      <th>InvoiceDate</th>\n",
       "      <th>Qty</th>\n",
       "      <th>NetWeight</th>\n",
       "      <th>LineAmount1</th>\n",
       "      <th>Freight</th>\n",
       "      <th>ItemName</th>\n",
       "      <th>DayOfWeek</th>\n",
       "      <th>WeekOfYear</th>\n",
       "      <th>Month</th>\n",
       "      <th>IsHoliday</th>\n",
       "    </tr>\n",
       "  </thead>\n",
       "  <tbody>\n",
       "    <tr>\n",
       "      <th>0</th>\n",
       "      <td>2019-12-31</td>\n",
       "      <td>-0.892291</td>\n",
       "      <td>0</td>\n",
       "      <td>0</td>\n",
       "      <td>0</td>\n",
       "      <td>0</td>\n",
       "      <td>1</td>\n",
       "      <td>1</td>\n",
       "      <td>12</td>\n",
       "      <td>0</td>\n",
       "    </tr>\n",
       "    <tr>\n",
       "      <th>1</th>\n",
       "      <td>2020-01-01</td>\n",
       "      <td>-1.021154</td>\n",
       "      <td>0</td>\n",
       "      <td>0</td>\n",
       "      <td>0</td>\n",
       "      <td>0</td>\n",
       "      <td>2</td>\n",
       "      <td>1</td>\n",
       "      <td>1</td>\n",
       "      <td>0</td>\n",
       "    </tr>\n",
       "    <tr>\n",
       "      <th>2</th>\n",
       "      <td>2020-01-02</td>\n",
       "      <td>-1.010683</td>\n",
       "      <td>0</td>\n",
       "      <td>0</td>\n",
       "      <td>0</td>\n",
       "      <td>0</td>\n",
       "      <td>3</td>\n",
       "      <td>1</td>\n",
       "      <td>1</td>\n",
       "      <td>0</td>\n",
       "    </tr>\n",
       "    <tr>\n",
       "      <th>3</th>\n",
       "      <td>2020-01-03</td>\n",
       "      <td>-1.026885</td>\n",
       "      <td>0</td>\n",
       "      <td>0</td>\n",
       "      <td>0</td>\n",
       "      <td>0</td>\n",
       "      <td>4</td>\n",
       "      <td>1</td>\n",
       "      <td>1</td>\n",
       "      <td>0</td>\n",
       "    </tr>\n",
       "    <tr>\n",
       "      <th>4</th>\n",
       "      <td>2020-01-04</td>\n",
       "      <td>-1.052738</td>\n",
       "      <td>0</td>\n",
       "      <td>0</td>\n",
       "      <td>0</td>\n",
       "      <td>0</td>\n",
       "      <td>5</td>\n",
       "      <td>1</td>\n",
       "      <td>1</td>\n",
       "      <td>0</td>\n",
       "    </tr>\n",
       "    <tr>\n",
       "      <th>...</th>\n",
       "      <td>...</td>\n",
       "      <td>...</td>\n",
       "      <td>...</td>\n",
       "      <td>...</td>\n",
       "      <td>...</td>\n",
       "      <td>...</td>\n",
       "      <td>...</td>\n",
       "      <td>...</td>\n",
       "      <td>...</td>\n",
       "      <td>...</td>\n",
       "    </tr>\n",
       "    <tr>\n",
       "      <th>85</th>\n",
       "      <td>2020-03-25</td>\n",
       "      <td>-1.000684</td>\n",
       "      <td>0</td>\n",
       "      <td>0</td>\n",
       "      <td>0</td>\n",
       "      <td>0</td>\n",
       "      <td>2</td>\n",
       "      <td>13</td>\n",
       "      <td>3</td>\n",
       "      <td>0</td>\n",
       "    </tr>\n",
       "    <tr>\n",
       "      <th>86</th>\n",
       "      <td>2020-03-26</td>\n",
       "      <td>-1.019217</td>\n",
       "      <td>0</td>\n",
       "      <td>0</td>\n",
       "      <td>0</td>\n",
       "      <td>0</td>\n",
       "      <td>3</td>\n",
       "      <td>13</td>\n",
       "      <td>3</td>\n",
       "      <td>0</td>\n",
       "    </tr>\n",
       "    <tr>\n",
       "      <th>87</th>\n",
       "      <td>2020-03-27</td>\n",
       "      <td>-1.055069</td>\n",
       "      <td>0</td>\n",
       "      <td>0</td>\n",
       "      <td>0</td>\n",
       "      <td>0</td>\n",
       "      <td>4</td>\n",
       "      <td>13</td>\n",
       "      <td>3</td>\n",
       "      <td>0</td>\n",
       "    </tr>\n",
       "    <tr>\n",
       "      <th>88</th>\n",
       "      <td>2020-03-28</td>\n",
       "      <td>-1.099736</td>\n",
       "      <td>0</td>\n",
       "      <td>0</td>\n",
       "      <td>0</td>\n",
       "      <td>0</td>\n",
       "      <td>5</td>\n",
       "      <td>13</td>\n",
       "      <td>3</td>\n",
       "      <td>0</td>\n",
       "    </tr>\n",
       "    <tr>\n",
       "      <th>89</th>\n",
       "      <td>2020-03-29</td>\n",
       "      <td>-0.938863</td>\n",
       "      <td>0</td>\n",
       "      <td>0</td>\n",
       "      <td>0</td>\n",
       "      <td>0</td>\n",
       "      <td>6</td>\n",
       "      <td>13</td>\n",
       "      <td>3</td>\n",
       "      <td>0</td>\n",
       "    </tr>\n",
       "  </tbody>\n",
       "</table>\n",
       "<p>90 rows × 10 columns</p>\n",
       "</div>"
      ],
      "text/plain": [
       "   InvoiceDate       Qty  NetWeight  LineAmount1  Freight  ItemName  \\\n",
       "0   2019-12-31 -0.892291          0            0        0         0   \n",
       "1   2020-01-01 -1.021154          0            0        0         0   \n",
       "2   2020-01-02 -1.010683          0            0        0         0   \n",
       "3   2020-01-03 -1.026885          0            0        0         0   \n",
       "4   2020-01-04 -1.052738          0            0        0         0   \n",
       "..         ...       ...        ...          ...      ...       ...   \n",
       "85  2020-03-25 -1.000684          0            0        0         0   \n",
       "86  2020-03-26 -1.019217          0            0        0         0   \n",
       "87  2020-03-27 -1.055069          0            0        0         0   \n",
       "88  2020-03-28 -1.099736          0            0        0         0   \n",
       "89  2020-03-29 -0.938863          0            0        0         0   \n",
       "\n",
       "    DayOfWeek  WeekOfYear  Month  IsHoliday  \n",
       "0           1           1     12          0  \n",
       "1           2           1      1          0  \n",
       "2           3           1      1          0  \n",
       "3           4           1      1          0  \n",
       "4           5           1      1          0  \n",
       "..        ...         ...    ...        ...  \n",
       "85          2          13      3          0  \n",
       "86          3          13      3          0  \n",
       "87          4          13      3          0  \n",
       "88          5          13      3          0  \n",
       "89          6          13      3          0  \n",
       "\n",
       "[90 rows x 10 columns]"
      ]
     },
     "execution_count": 362,
     "metadata": {},
     "output_type": "execute_result"
    }
   ],
   "source": [
    "future_df"
   ]
  },
  {
   "cell_type": "code",
   "execution_count": 364,
   "metadata": {},
   "outputs": [
    {
     "name": "stdout",
     "output_type": "stream",
     "text": [
      "Feature importance scores:\n",
      "ItemName: 0.6160947680473328\n",
      "NetWeight: 0.37705227732658386\n",
      "LineAmount1: 0.0066892364993691444\n",
      "Freight: 0.00011410302249714732\n",
      "DayOfWeek: 2.4529092115699314e-05\n",
      "WeekOfYear: 2.4315007976838388e-05\n",
      "Month: 7.819970164746337e-07\n",
      "IsHoliday: 0.0\n"
     ]
    },
    {
     "data": {
      "image/png": "[encoded data removed]",
      "text/plain": [
       "<Figure size 640x480 with 1 Axes>"
      ]
     },
     "metadata": {},
     "output_type": "display_data"
    }
   ],
   "source": [
    "# Get feature importance scores\n",
    "importances = model.feature_importances_\n",
    "\n",
    "# Sort the features by importance score in descending order\n",
    "sorted_idx = importances.argsort()[::-1]\n",
    "\n",
    "# Print the feature importance scores in descending order\n",
    "print(\"Feature importance scores:\")\n",
    "for idx in sorted_idx:\n",
    "    print(f\"{X_train.columns[idx]}: {importances[idx]}\")\n",
    "\n",
    "# Plot the feature importance scores as a bar chart\n",
    "plt.bar(range(X_train.shape[1]), importances[sorted_idx])\n",
    "plt.xticks(range(X_train.shape[1]), X_train.columns[sorted_idx], rotation=90)\n",
    "plt.title(\"Feature Importance Scores\")\n",
    "plt.show()"
   ]
  },
  {
   "cell_type": "code",
   "execution_count": 363,
   "metadata": {},
   "outputs": [],
   "source": [
    "# g = sns.JointGrid(data=df, x=\"Age\", y='Daily Time Spent on Site')\n",
    "# g.plot(sns.regplot, sns.boxplot)"
   ]
  }
 ],
 "metadata": {
  "kernelspec": {
   "display_name": "customer_segmentation",
   "language": "python",
   "name": "python3"
  },
  "language_info": {
   "codemirror_mode": {
    "name": "ipython",
    "version": 3
   },
   "file_extension": ".py",
   "mimetype": "text/x-python",
   "name": "python",
   "nbconvert_exporter": "python",
   "pygments_lexer": "ipython3",
   "version": "3.10.10"
  },
  "orig_nbformat": 4
 },
 "nbformat": 4,
 "nbformat_minor": 2
}
